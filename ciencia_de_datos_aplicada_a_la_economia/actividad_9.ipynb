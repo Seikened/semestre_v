{
 "cells": [
  {
   "cell_type": "code",
   "execution_count": 7,
   "id": "43fb98b6",
   "metadata": {},
   "outputs": [
    {
     "name": "stdout",
     "output_type": "stream",
     "text": [
      "El monto final después de 5 años es: $14693.28\n"
     ]
    }
   ],
   "source": [
    "\"\"\"\n",
    "EJERCICIO 1\n",
    "\"\"\"\n",
    "# calcula el interes compuesto\n",
    "\n",
    "capital_inicial = 10000 \n",
    "interes_anual = 0.08\n",
    "numero_de_años = 5\n",
    "monto_final = capital_inicial * (1 + interes_anual) ** numero_de_años\n",
    "print(f\"El monto final después de {numero_de_años} años es: ${monto_final:.2f}\")"
   ]
  },
  {
   "cell_type": "code",
   "execution_count": 8,
   "id": "3f1950aa",
   "metadata": {},
   "outputs": [
    {
     "name": "stdout",
     "output_type": "stream",
     "text": [
      "Rendimientos diarios: 1     2.000000\n",
      "2    -0.980392\n",
      "3     3.960396\n",
      "4     1.904762\n",
      "5    86.915888\n",
      "6     1.000000\n",
      "7    -0.495050\n",
      "8     1.990050\n",
      "9     0.975610\n",
      "dtype: float64\n"
     ]
    }
   ],
   "source": [
    "\"\"\"\n",
    "EJERCICIO 2\n",
    "\"\"\"\n",
    "def porcentaje(x):\n",
    "    return x * 100\n",
    "\n",
    "\n",
    "# Calcular el rendimiento díario con listas\n",
    "import pandas as pd\n",
    "import numpy as np\n",
    "\n",
    "precios = [[100, 102, 101, 105, 107, 200, 202, 201, 205, 207]]\n",
    "\n",
    "precios = pd.Series(precios[0])\n",
    "\n",
    "\n",
    "\n",
    "rendimientos = pd.Series([porcentaje(precio) for precio in precios.pct_change()])   \n",
    "rendimientos = rendimientos.dropna()\n",
    "print(f\"Rendimientos diarios: {rendimientos}\")"
   ]
  },
  {
   "cell_type": "code",
   "execution_count": 9,
   "id": "f75e0617",
   "metadata": {},
   "outputs": [
    {
     "name": "stdout",
     "output_type": "stream",
     "text": [
      "shape: (9, 1)\n",
      "┌─────────────────┐\n",
      "│ rendimiento_pct │\n",
      "│ ---             │\n",
      "│ f64             │\n",
      "╞═════════════════╡\n",
      "│ 2.0             │\n",
      "│ -0.980392       │\n",
      "│ 3.960396        │\n",
      "│ 1.904762        │\n",
      "│ 86.915888       │\n",
      "│ 1.0             │\n",
      "│ -0.49505        │\n",
      "│ 1.99005         │\n",
      "│ 0.97561         │\n",
      "└─────────────────┘\n"
     ]
    }
   ],
   "source": [
    "#%pip install polars\n",
    "import polars as pl\n",
    "\n",
    "precios = [100, 102, 101, 105, 107, 200, 202, 201, 205, 207]\n",
    "\n",
    "df = pl.DataFrame({\"precio\": precios})\n",
    "\n",
    "rendimientos = (\n",
    "    df.select(\n",
    "        pl.col(\"precio\")\n",
    "        .pct_change()      # cambio porcentual como fracción\n",
    "        .mul(100)          # a porcentaje\n",
    "        .alias(\"rendimiento_pct\")\n",
    "    )\n",
    "    .drop_nulls()          # elimina el primer null\n",
    ")\n",
    "\n",
    "print(rendimientos)"
   ]
  }
 ],
 "metadata": {
  "kernelspec": {
   "display_name": ".venv (3.12.9)",
   "language": "python",
   "name": "python3"
  },
  "language_info": {
   "codemirror_mode": {
    "name": "ipython",
    "version": 3
   },
   "file_extension": ".py",
   "mimetype": "text/x-python",
   "name": "python",
   "nbconvert_exporter": "python",
   "pygments_lexer": "ipython3",
   "version": "3.12.9"
  }
 },
 "nbformat": 4,
 "nbformat_minor": 5
}
