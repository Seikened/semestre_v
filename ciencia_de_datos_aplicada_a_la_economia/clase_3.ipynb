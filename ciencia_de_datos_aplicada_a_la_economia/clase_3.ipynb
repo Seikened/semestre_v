{
 "cells": [
  {
   "cell_type": "code",
   "execution_count": null,
   "id": "3d1b9e3a",
   "metadata": {},
   "outputs": [],
   "source": [
    "import polars as pl\n",
    "import numpy as np\n",
    "import yfinance as yf\n"
   ]
  },
  {
   "cell_type": "code",
   "execution_count": 15,
   "id": "ff24ad09",
   "metadata": {},
   "outputs": [
    {
     "name": "stdout",
     "output_type": "stream",
     "text": [
      "El rendimiento esperado es: 10.00%\n"
     ]
    }
   ],
   "source": [
    "probabilidades = np.array([0.3, 0.5, 0.2])\n",
    "rendimientos = np.array([0.20, 0.10, -0.05])\n",
    "\n",
    "\n",
    "\n",
    "rendimiento_esperado = np.dot(probabilidades, rendimientos)\n",
    "\n",
    "\n",
    "print(f\"El rendimiento esperado es: {rendimiento_esperado:.2%}\")"
   ]
  },
  {
   "cell_type": "markdown",
   "id": "b5cd751c",
   "metadata": {},
   "source": [
    "# RENDIMIENTOS AJUYSTADO POR RIESGO SHARPE"
   ]
  },
  {
   "cell_type": "code",
   "execution_count": null,
   "id": "914cc140",
   "metadata": {},
   "outputs": [
    {
     "name": "stdout",
     "output_type": "stream",
     "text": [
      "El Sharpe Ratio mensual es: 0.65\n",
      "El Sharpe Ratio anualizado es: 2.25\n"
     ]
    }
   ],
   "source": [
    "# Rendimientos mensuales simulados ( en decimales 2% = 0.02 )\n",
    "rendimientos_simulados = np.array([0.02, 0.03, -0.01, 0.04, 0.00, 0.05, -0.02, 0.03, 0.01, 0.02])\n",
    "\n",
    "# Tasa libre de riesgo anual (ejemplo 4%)\n",
    "tasa_libre_de_riesgo_anual = 0.04\n",
    "tasa_libre_riesgo_mensual = tasa_libre_de_riesgo_anual / 12\n",
    "\n",
    "# Rendimiento promedio mensual\n",
    "rendimiento_promedio_mensual = np.mean(rendimientos_simulados)\n",
    "\n",
    "# Desviación estándar mensual\n",
    "volatilidad = np.std(rendimientos_simulados)\n",
    "\n",
    "# Sharpe ratio mensual\n",
    "sharpe_mensual = (rendimiento_promedio_mensual - tasa_libre_riesgo_mensual) / volatilidad\n",
    "\n",
    "# Para anualizar el Sharpe ratio\n",
    "sharpe_anual = sharpe_mensual * np.sqrt(12)\n",
    "\n",
    "print(f\"El Sharpe Ratio mensual es: {sharpe_mensual:.2f}\")\n",
    "print(f\"El Sharpe Ratio anualizado es: {sharpe_anual:.2f}\")\n",
    "\n"
   ]
  }
 ],
 "metadata": {
  "kernelspec": {
   "display_name": "semestre-v",
   "language": "python",
   "name": "python3"
  },
  "language_info": {
   "codemirror_mode": {
    "name": "ipython",
    "version": 3
   },
   "file_extension": ".py",
   "mimetype": "text/x-python",
   "name": "python",
   "nbconvert_exporter": "python",
   "pygments_lexer": "ipython3",
   "version": "3.12.9"
  }
 },
 "nbformat": 4,
 "nbformat_minor": 5
}
