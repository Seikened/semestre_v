{
  "cells": [
    {
      "cell_type": "markdown",
      "id": "ec18788f",
      "metadata": {},
      "source": [
        "# FERNANDO LEON FRANCO"
      ]
    },
    {
      "cell_type": "code",
      "execution_count": 1,
      "id": "1b66b8b6",
      "metadata": {
        "id": "1b66b8b6"
      },
      "outputs": [],
      "source": [
        "import threading\n",
        "import time\n",
        "import math\n",
        "from concurrent.futures import ProcessPoolExecutor, ThreadPoolExecutor\n",
        "import multiprocessing as mp\n",
        "from queue import Queue\n",
        "import random"
      ]
    },
    {
      "cell_type": "markdown",
      "id": "76774b70",
      "metadata": {
        "id": "76774b70"
      },
      "source": [
        "# Ejercicio 1\n",
        "Múltiples threads actualizan un contador compartido. Usa Lock para evitar las condiciones de carrera."
      ]
    },
    {
      "cell_type": "code",
      "execution_count": 2,
      "id": "75f030b7",
      "metadata": {
        "colab": {
          "base_uri": "https://localhost:8080/"
        },
        "id": "75f030b7",
        "outputId": "087f5ce8-812b-439c-8b3f-0c9f7a95e32f"
      },
      "outputs": [
        {
          "name": "stdout",
          "output_type": "stream",
          "text": [
            "Contador final: 400000\n"
          ]
        }
      ],
      "source": [
        "contador = 0\n",
        "lock = threading.Lock()\n",
        "\n",
        "def incrementar():\n",
        "     global contador\n",
        "     for _ in range(100000):\n",
        "         with lock:\n",
        "             contador += 1\n",
        "\n",
        "def ejercicio_1():\n",
        "    hilos = []\n",
        "    for _ in range(4):\n",
        "        hilo = threading.Thread(target=incrementar)\n",
        "        hilos.append(hilo)\n",
        "        hilo.start()\n",
        "\n",
        "    for hilo in hilos:\n",
        "        hilo.join()\n",
        "\n",
        "    print(f\"Contador final: {contador}\")\n",
        "ejercicio_1()"
      ]
    },
    {
      "cell_type": "markdown",
      "id": "8252bc40",
      "metadata": {
        "id": "8252bc40"
      },
      "source": [
        "# Ejercicio 2\n",
        "Limitar a 3 respuestas simultáneos a una API externa usando semáforos."
      ]
    },
    {
      "cell_type": "code",
      "execution_count": 3,
      "id": "8ffa23bb",
      "metadata": {
        "colab": {
          "base_uri": "https://localhost:8080/"
        },
        "id": "8ffa23bb",
        "outputId": "0f6ee6dd-4794-4e99-feea-01d68073b3fe"
      },
      "outputs": [
        {
          "name": "stdout",
          "output_type": "stream",
          "text": [
            "API 0 accediendo al recurso\n",
            "API 1 accediendo al recurso\n",
            "API 2 accediendo al recurso\n",
            "API 0 liberó el recursoAPI 1 liberó el recurso\n",
            "API 3 accediendo al recurso\n",
            "API 2 liberó el recurso\n",
            "API 4 accediendo al recurso\n",
            "\n",
            "API 5 accediendo al recurso\n",
            "API 4 liberó el recurso\n",
            "API 6 accediendo al recurso\n",
            "API 3 liberó el recurso\n",
            "API 7 accediendo al recurso\n",
            "API 5 liberó el recurso\n",
            "API 8 accediendo al recurso\n",
            "API 6 liberó el recurso\n",
            "API 9 accediendo al recurso\n",
            "API 7 liberó el recurso\n",
            "API 10 accediendo al recurso\n",
            "API 8 liberó el recurso\n",
            "API 11 accediendo al recurso\n",
            "API 9 liberó el recurso\n",
            "API 12 accediendo al recurso\n",
            "API 10 liberó el recurso\n",
            "API 13 accediendo al recurso\n",
            "API 11 liberó el recurso\n",
            "API 14 accediendo al recurso\n",
            "API 12 liberó el recursoAPI 13 liberó el recurso\n",
            "API 15 accediendo al recurso\n",
            "\n",
            "API 16 accediendo al recurso\n",
            "API 14 liberó el recurso\n",
            "API 17 accediendo al recurso\n",
            "API 15 liberó el recurso\n",
            "API 18 accediendo al recurso\n",
            "API 16 liberó el recurso\n",
            "API 19 accediendo al recurso\n",
            "API 17 liberó el recurso\n",
            "API 18 liberó el recursoAPI 19 liberó el recurso\n",
            "\n"
          ]
        }
      ],
      "source": [
        "semaforo = threading.Semaphore(3)\n",
        "\n",
        "def llamar_api(id):\n",
        "    with semaforo:\n",
        "        print(f\"API {id} accediendo al recurso\")\n",
        "        time.sleep(2)\n",
        "    print(f\"API {id} liberó el recurso\")\n",
        "\n",
        "def ejercicio_2():\n",
        "    with ThreadPoolExecutor(max_workers=3) as executor:\n",
        "        executor.map(llamar_api, range(20))\n",
        "\n",
        "ejercicio_2()"
      ]
    },
    {
      "cell_type": "markdown",
      "id": "cd562436",
      "metadata": {
        "id": "cd562436"
      },
      "source": [
        "# Ejercicio 3\n",
        "Un proceso principal debe esperar a que varios workers terminen su inicialización."
      ]
    },
    {
      "cell_type": "code",
      "execution_count": 4,
      "id": "460a3674",
      "metadata": {
        "colab": {
          "base_uri": "https://localhost:8080/"
        },
        "id": "460a3674",
        "outputId": "fb35cad1-5641-4823-874d-b12a9dbe7938"
      },
      "outputs": [
        {
          "name": "stdout",
          "output_type": "stream",
          "text": [
            "Worker 0 inicializando...\n",
            "Worker 1 inicializando...\n",
            "Worker 2 inicializando...\n",
            "Principal esperando que los workers terminen...\n",
            "Worker 0 listo\n",
            "Worker 1 listo\n",
            "Worker 2 listo\n",
            "Todos los workers terminaron. Principal continúa.\n"
          ]
        }
      ],
      "source": [
        "def worker(id, evento):\n",
        "    print(f\"Worker {id} inicializando...\")\n",
        "    time.sleep(2)\n",
        "    print(f\"Worker {id} listo\")\n",
        "    evento.set()\n",
        "\n",
        "def ejercicio_3():\n",
        "    num_workers = 3\n",
        "    eventos = [threading.Event() for _ in range(num_workers)]\n",
        "\n",
        "    for i in range(num_workers):\n",
        "        threading.Thread(target=worker, args=(i, eventos[i])).start()\n",
        "\n",
        "    print(\"Principal esperando que los workers terminen...\")\n",
        "    for ev in eventos:\n",
        "        ev.wait()\n",
        "\n",
        "    print(\"Todos los workers terminaron. Principal continúa.\")\n",
        "\n",
        "ejercicio_3()\n"
      ]
    },
    {
      "cell_type": "markdown",
      "id": "7b72401a",
      "metadata": {
        "id": "7b72401a"
      },
      "source": [
        "# Ejercicio 4\n",
        "Múltiples modelos deben esperar a que todos completen una epoch antes de continuar."
      ]
    },
    {
      "cell_type": "code",
      "execution_count": 5,
      "id": "8b5f8be9",
      "metadata": {
        "colab": {
          "base_uri": "https://localhost:8080/"
        },
        "id": "8b5f8be9",
        "outputId": "024fd137-e41f-4bd6-93d7-c25fbc291559"
      },
      "outputs": [
        {
          "name": "stdout",
          "output_type": "stream",
          "text": [
            "Modelo 0 inicializando...\n",
            "Modelo 1 inicializando...\n",
            "Modelo 2 inicializando...\n",
            "Modelo 3 inicializando...\n",
            "Modelo 3 empieza a trabajar\n",
            "Epoca 0 del modelo 3 terminada\n",
            "Modelo 0 empieza a trabajar\n",
            "Epoca 0 del modelo 0 terminada\n",
            "Modelo 1 empieza a trabajar\n",
            "Epoca 0 del modelo 1 terminada\n",
            "Modelo 2 empieza a trabajar\n",
            "Epoca 0 del modelo 2 terminada\n",
            "Epoca 1 del modelo 3 terminada\n",
            "Epoca 1 del modelo 0 terminada\n",
            "Epoca 1 del modelo 1 terminada\n",
            "Epoca 1 del modelo 2 terminada\n",
            "Epoca 2 del modelo 3 terminada\n",
            "Epoca 2 del modelo 0 terminada\n",
            "Epoca 2 del modelo 1 terminada\n",
            "Epoca 2 del modelo 2 terminada\n",
            "Epoca 3 del modelo 3 terminada\n",
            "Epoca 3 del modelo 0 terminada\n",
            "Epoca 3 del modelo 2 terminada\n",
            "Epoca 3 del modelo 1 terminada\n",
            "Epoca 4 del modelo 0 terminada\n",
            "Epoca 4 del modelo 1 terminada\n",
            "Epoca 4 del modelo 3 terminada\n",
            "Epoca 4 del modelo 2 terminada\n"
          ]
        }
      ],
      "source": [
        "barrera_4 = threading.Barrier(4)\n",
        "\n",
        "def modelo(id, num_epochs):\n",
        "    print(f\"Modelo {id} inicializando...\")\n",
        "    time.sleep(2)\n",
        "    barrera_4.wait()\n",
        "    print(f\"Modelo {id} empieza a trabajar\")\n",
        "    for i in range(num_epochs):\n",
        "        print(f'Epoca {i} del modelo {id} terminada')\n",
        "        barrera_4.wait()\n",
        "\n",
        "def ejercicio_4():\n",
        "    hilos = []\n",
        "    for i in range(4):\n",
        "        hilo = threading.Thread(target=modelo, args=(i,5))\n",
        "        hilos.append(hilo)\n",
        "        hilo.start()\n",
        "\n",
        "    for hilo in hilos:\n",
        "        hilo.join()\n",
        "ejercicio_4()\n"
      ]
    },
    {
      "cell_type": "markdown",
      "id": "ef84762a",
      "metadata": {
        "id": "ef84762a"
      },
      "source": [
        "# Ejercicio 5\n",
        "Implementar un sistema productor-consumidor con buffer limitado."
      ]
    },
    {
      "cell_type": "code",
      "execution_count": 6,
      "id": "5029b51a",
      "metadata": {
        "colab": {
          "base_uri": "https://localhost:8080/"
        },
        "id": "5029b51a",
        "outputId": "f3adc1c5-4d13-447f-dcb4-424dec46f737"
      },
      "outputs": [
        {
          "name": "stdout",
          "output_type": "stream",
          "text": [
            "🟢 Productor 0 produjo Item-0-0\n",
            "🟢 Productor 1 produjo Item-1-0\n",
            "🔴 Consumidor 0 consumió Item-0-0\n",
            "🔴 Consumidor 1 consumió Item-1-0\n",
            "🟢 Productor 0 produjo Item-0-1\n",
            "🔴 Consumidor 0 consumió Item-0-1\n",
            "🟢 Productor 1 produjo Item-1-1\n",
            "🔴 Consumidor 1 consumió Item-1-1\n",
            "🟢 Productor 1 produjo Item-1-2\n",
            "🔴 Consumidor 0 consumió Item-1-2\n",
            "🟢 Productor 0 produjo Item-0-2\n",
            "🔴 Consumidor 0 consumió Item-0-2\n",
            "🟢 Productor 1 produjo Item-1-3\n",
            "🔴 Consumidor 1 consumió Item-1-3\n",
            "🟢 Productor 0 produjo Item-0-3\n",
            "🟢 Productor 0 produjo Item-0-4\n",
            "🔴 Consumidor 1 consumió Item-0-3\n",
            "🔴 Consumidor 0 consumió Item-0-4\n",
            "🟢 Productor 1 produjo Item-1-4\n",
            "🔴 Consumidor 1 consumió Item-1-4\n"
          ]
        }
      ],
      "source": [
        "buffer_size = 5\n",
        "buffer = Queue(maxsize=buffer_size)\n",
        "\n",
        "vacio = threading.Semaphore(buffer_size)\n",
        "lleno = threading.Semaphore(0)\n",
        "\n",
        "def productor(id):\n",
        "    for i in range(5):\n",
        "        item = f\"Item-{id}-{i}\"\n",
        "        vacio.acquire()\n",
        "        buffer.put(item)\n",
        "        print(f\"🟢 Productor {id} produjo {item}\")\n",
        "        lleno.release()\n",
        "        time.sleep(random.random())\n",
        "\n",
        "def consumidor(id):\n",
        "    for i in range(5):\n",
        "        lleno.acquire()\n",
        "        item = buffer.get()\n",
        "        print(f\"🔴 Consumidor {id} consumió {item}\")\n",
        "        vacio.release()\n",
        "        time.sleep(random.random())\n",
        "\n",
        "def ejercicio_5():\n",
        "    productores = [threading.Thread(target=productor, args=(i,)) for i in range(2)]\n",
        "    consumidores = [threading.Thread(target=consumidor, args=(i,)) for i in range(2)]\n",
        "\n",
        "    for t in productores + consumidores:\n",
        "        t.start()\n",
        "    for t in productores + consumidores:\n",
        "        t.join()\n",
        "\n",
        "ejercicio_5()\n"
      ]
    },
    {
      "cell_type": "markdown",
      "id": "d474da82",
      "metadata": {
        "id": "d474da82"
      },
      "source": [
        "# Ejercicio 6\n",
        "Múltiples lectores y un escritor acceden a una base de datos."
      ]
    },
    {
      "cell_type": "code",
      "execution_count": 7,
      "id": "a1f8ce6b",
      "metadata": {
        "colab": {
          "base_uri": "https://localhost:8080/"
        },
        "id": "a1f8ce6b",
        "outputId": "3810b5cb-60e8-4ebd-933b-91041ef04da4"
      },
      "outputs": [
        {
          "name": "stdout",
          "output_type": "stream",
          "text": [
            "👀 Lector 0 leyendo: []\n",
            "👀 Lector 1 leyendo: []\n",
            "👀 Lector 2 leyendo: []\n",
            "✍️ Escritor 0 escribiendo data-0\n",
            "✍️ Escritor 1 escribiendo data-1\n"
          ]
        }
      ],
      "source": [
        "db = []\n",
        "lock = threading.RLock()\n",
        "\n",
        "def lector(id):\n",
        "    with lock:\n",
        "        print(f\"Lector {id} leyendo: {db}\")\n",
        "        time.sleep(random.uniform(0.2,0.5))\n",
        "\n",
        "def escritor(id, valor):\n",
        "    with lock:\n",
        "        print(f\"Escritor {id} escribiendo {valor}\")\n",
        "        db.append(valor)\n",
        "        time.sleep(random.uniform(0.2,0.5))\n",
        "\n",
        "def ejercicio_6():\n",
        "    hilos = []\n",
        "    for i in range(3):  # 3 lectores\n",
        "        t = threading.Thread(target=lector, args=(i,))\n",
        "        hilos.append(t)\n",
        "    for i in range(2):  # 2 escritores\n",
        "        t = threading.Thread(target=escritor, args=(i,f\"data-{i}\"))\n",
        "        hilos.append(t)\n",
        "\n",
        "    for h in hilos: h.start()\n",
        "    for h in hilos: h.join()\n",
        "\n",
        "ejercicio_6()\n"
      ]
    },
    {
      "cell_type": "markdown",
      "id": "42786f8d",
      "metadata": {
        "id": "42786f8d"
      },
      "source": [
        "# Ejercicio 7\n",
        "Condition para notificaciones entre threads\n",
        "Un thread espera hasta que cierta condición se cumpla."
      ]
    },
    {
      "cell_type": "code",
      "execution_count": 8,
      "id": "8743114d",
      "metadata": {
        "colab": {
          "base_uri": "https://localhost:8080/"
        },
        "id": "8743114d",
        "outputId": "4cb59a30-d654-4184-f17d-96f5cc06ce9f"
      },
      "outputs": [
        {
          "name": "stdout",
          "output_type": "stream",
          "text": [
            "🔴 Consumidor esperando dato...\n",
            "🟢 Productor produjo el dato, notificando...\n",
            "✅ Consumidor recibió notificación: dato listo\n"
          ]
        }
      ],
      "source": [
        "condicion = threading.Condition()\n",
        "dato_listo = False\n",
        "\n",
        "def consumidor():\n",
        "    global dato_listo\n",
        "    with condicion:\n",
        "        print(\"Consumidor esperando dato...\")\n",
        "        while not dato_listo:\n",
        "            condicion.wait()\n",
        "        print(\"Consumidor recibió notificación: dato listo\")\n",
        "\n",
        "def productor():\n",
        "    global dato_listo\n",
        "    time.sleep(2)\n",
        "    with condicion:\n",
        "        dato_listo = True\n",
        "        print(\"Productor produjo el dato, notificando...\")\n",
        "        condicion.notify()\n",
        "\n",
        "def ejercicio_7():\n",
        "    t1 = threading.Thread(target=consumidor)\n",
        "    t2 = threading.Thread(target=productor)\n",
        "    t1.start(); t2.start()\n",
        "    t1.join(); t2.join()\n",
        "\n",
        "ejercicio_7()\n"
      ]
    },
    {
      "cell_type": "markdown",
      "id": "643e9286",
      "metadata": {
        "id": "643e9286"
      },
      "source": [
        "# Ejercicio 8\n",
        "Procesar imágenes en paralelo con límite de GPU."
      ]
    },
    {
      "cell_type": "code",
      "execution_count": 9,
      "id": "558d55b4",
      "metadata": {
        "colab": {
          "base_uri": "https://localhost:8080/"
        },
        "id": "558d55b4",
        "outputId": "b586148d-55fc-4da5-d1da-d88454e412bc"
      },
      "outputs": [
        {
          "name": "stdout",
          "output_type": "stream",
          "text": [
            "Procesando imagen_0.jpg en la GPU...Procesando imagen_1.jpg en la GPU...\n",
            "\n",
            "imagen_0.jpg procesada\n",
            "Procesando imagen_5.jpg en la GPU...\n",
            "imagen_1.jpg procesada\n",
            "Procesando imagen_6.jpg en la GPU...\n",
            "imagen_6.jpg procesada\n",
            "Procesando imagen_7.jpg en la GPU...\n",
            "imagen_5.jpg procesada\n",
            "Procesando imagen_8.jpg en la GPU...\n",
            "imagen_7.jpg procesada\n",
            "Procesando imagen_9.jpg en la GPU...\n",
            "imagen_8.jpg procesada\n",
            "Procesando imagen_4.jpg en la GPU...\n",
            "imagen_4.jpg procesada\n",
            "Procesando imagen_2.jpg en la GPU...\n",
            "imagen_9.jpg procesada\n",
            "Procesando imagen_3.jpg en la GPU...\n",
            "imagen_2.jpg procesada\n",
            "imagen_3.jpg procesada\n",
            "Resultados finales: ['imagen_0.jpg lista', 'imagen_1.jpg lista', 'imagen_2.jpg lista', 'imagen_3.jpg lista', 'imagen_4.jpg lista', 'imagen_5.jpg lista', 'imagen_6.jpg lista', 'imagen_7.jpg lista', 'imagen_8.jpg lista', 'imagen_9.jpg lista']\n"
          ]
        }
      ],
      "source": [
        "gpu_semaforo = threading.Semaphore(2)\n",
        "\n",
        "def procesar_imagen(nombre):\n",
        "    with gpu_semaforo:\n",
        "        print(f\"Procesando {nombre} en la GPU...\")\n",
        "        time.sleep(random.uniform(1, 3))\n",
        "        print(f\"{nombre} procesada\")\n",
        "    return f\"{nombre} lista\"\n",
        "\n",
        "def ejercicio_8():\n",
        "    imagenes = [f\"imagen_{i}.jpg\" for i in range(10)]\n",
        "    resultados = []\n",
        "    with ThreadPoolExecutor(max_workers=5) as executor:\n",
        "        futuros = [executor.submit(procesar_imagen, img) for img in imagenes]\n",
        "        for futuro in futuros:\n",
        "            resultados.append(futuro.result())\n",
        "    print(\"Resultados finales:\", resultados)\n",
        "\n",
        "ejercicio_8()"
      ]
    },
    {
      "cell_type": "markdown",
      "id": "d3556791",
      "metadata": {
        "id": "d3556791"
      },
      "source": [
        "# Ejercicio 9\n",
        "Procesamiento CPU-intensivo con límite de procesos."
      ]
    },
    {
      "cell_type": "code",
      "execution_count": 10,
      "id": "db0f84be",
      "metadata": {
        "colab": {
          "base_uri": "https://localhost:8080/"
        },
        "id": "db0f84be",
        "outputId": "315e94e6-cc7b-45e9-d0e4-fecf0ecee699"
      },
      "outputs": [
        {
          "name": "stdout",
          "output_type": "stream",
          "text": [
            "🚀 Iniciando multiprocessing con semáforos...\n",
            "📊 Tareas a procesar: [10, 15, 20, 25, 30, 35]\n",
            "🎯 Límite de procesos simultáneos: 3\n",
            "--------------------------------------------------\n",
            "🔵 ForkPoolWorker-7 iniciando tarea 25...🔵 ForkPoolWorker-2 iniciando tarea 10...🔵 ForkPoolWorker-3 iniciando tarea 15...\n",
            "\n",
            "\n",
            "✅ Tarea 10 completada en 2.16s\n",
            "🔵 ForkPoolWorker-4 iniciando tarea 20...\n",
            "✅ Tarea 15 completada en 3.11s\n",
            "🔵 ForkPoolWorker-6 iniciando tarea 30...\n",
            "✅ Tarea 25 completada en 5.40s\n",
            "🔵 ForkPoolWorker-5 iniciando tarea 35...\n",
            "✅ Tarea 20 completada en 3.99s\n",
            "✅ Tarea 30 completada en 5.70s\n",
            "✅ Tarea 35 completada en 5.45s\n",
            "--------------------------------------------------\n",
            "📦 Resultados finales:\n",
            "  Tarea 10: 49999995.00\n",
            "  Tarea 15: 112499992.50\n",
            "  Tarea 20: 199999990.00\n",
            "  Tarea 25: 312499987.50\n",
            "  Tarea 30: 449999985.00\n",
            "  Tarea 35: 612499982.50\n"
          ]
        }
      ],
      "source": [
        "import multiprocessing as mp\n",
        "import time\n",
        "import random\n",
        "\n",
        "def init_globals(s):\n",
        "    global semaforo\n",
        "    semaforo = s  # cada proceso recibe el mismo semáforo compartido\n",
        "\n",
        "def tarea_intensiva(n):\n",
        "    \"\"\"Simula una tarea CPU-intensiva sin usar factorial\"\"\"\n",
        "    semaforo.acquire()  # Adquirir el semáforo\n",
        "    try:\n",
        "        print(f\"🔵 {mp.current_process().name} iniciando tarea {n}...\")\n",
        "\n",
        "        # Simulación de trabajo CPU-intensivo\n",
        "        inicio = time.time()\n",
        "        # Operación matemática intensiva (sumar muchos números)\n",
        "        resultado = 0\n",
        "        for i in range(n * 1000000):\n",
        "            resultado += i * 0.000001\n",
        "\n",
        "        tiempo_ejecucion = time.time() - inicio\n",
        "        time.sleep(random.uniform(0.1, 0.3))  # Pequeña pausa adicional\n",
        "\n",
        "        print(f\"✅ Tarea {n} completada en {tiempo_ejecucion:.2f}s\")\n",
        "        return resultado\n",
        "\n",
        "    finally:\n",
        "        semaforo.release()  # Liberar el semáforo\n",
        "\n",
        "def ejercicio_9():\n",
        "    \"\"\"Multiprocessing con Pool y semáforos - Procesamiento CPU-intensivo con límite\"\"\"\n",
        "    # Datos de entrada para procesar\n",
        "    tareas = [10, 15, 20, 25, 30, 35]  # Números que definen la intensidad\n",
        "\n",
        "    print(\"🚀 Iniciando multiprocessing con semáforos...\")\n",
        "    print(f\"📊 Tareas a procesar: {tareas}\")\n",
        "    print(f\"🎯 Límite de procesos simultáneos: 3\")\n",
        "    print(\"-\" * 50)\n",
        "\n",
        "    # Crear Manager para el semáforo compartido\n",
        "    with mp.Manager() as manager:\n",
        "        # Semáforo que permite máximo 3 procesos simultáneos\n",
        "        semaforo_compartido = manager.Semaphore(3)\n",
        "\n",
        "        # Crear Pool de procesos con inicialización del semáforo\n",
        "        with mp.Pool(\n",
        "            processes=6,  # 6 procesos en total\n",
        "            initializer=init_globals,\n",
        "            initargs=(semaforo_compartido,)\n",
        "        ) as pool:\n",
        "\n",
        "            # Ejecutar las tareas en paralelo con límite de concurrencia\n",
        "            resultados = pool.map(tarea_intensiva, tareas)\n",
        "\n",
        "    print(\"-\" * 50)\n",
        "    print(\"📦 Resultados finales:\")\n",
        "    for i, (tarea, resultado) in enumerate(zip(tareas, resultados)):\n",
        "        print(f\"  Tarea {tarea}: {resultado:.2f}\")\n",
        "\n",
        "if __name__ == \"__main__\":\n",
        "    # Esto es importante para Windows\n",
        "    mp.freeze_support()\n",
        "    ejercicio_9()"
      ]
    },
    {
      "cell_type": "markdown",
      "id": "abe9c3f6",
      "metadata": {
        "id": "abe9c3f6"
      },
      "source": [
        "# Ejercicio 10\n",
        "Sistema completo de entrenamiento distribuido\n",
        "Coordinar múltiples componentes de un sistema de IA."
      ]
    },
    {
      "cell_type": "code",
      "execution_count": 15,
      "id": "94349bc6",
      "metadata": {
        "colab": {
          "base_uri": "https://localhost:8080/"
        },
        "id": "94349bc6",
        "outputId": "0a84406d-d7da-4e87-9763-0d4f6120b557"
      },
      "outputs": [
        {
          "name": "stdout",
          "output_type": "stream",
          "text": [
            "📦 Productor generó batch-0\n",
            "🔵 Worker 0 entrenando con batch-0 en epoch 0\n",
            "📦 Productor generó batch-1\n",
            "🔵 Worker 1 entrenando con batch-1 en epoch 0\n",
            "📦 Productor generó batch-2\n",
            "🔵 Worker 2 entrenando con batch-2 en epoch 0\n",
            "📦 Productor generó batch-3\n",
            "📦 Productor generó batch-4\n",
            "📦 Productor generó batch-5\n",
            "📦 Productor generó batch-6\n",
            "🔵 Worker 2 entrenando con batch-3 en epoch 1\n",
            "🔵 Worker 1 entrenando con batch-4 en epoch 1\n",
            "🔵 Worker 0 entrenando con batch-5 en epoch 1\n",
            "📊 Monitor: epoch 0 completada\n",
            "📦 Productor generó batch-7\n",
            "📦 Productor generó batch-8\n",
            "📦 Productor generó batch-9\n",
            "📦 Productor generó batch-10\n",
            "🔵 Worker 0 entrenando con batch-6 en epoch 2\n",
            "🔵 Worker 1 entrenando con batch-7 en epoch 2\n",
            "🔵 Worker 2 entrenando con batch-8 en epoch 2\n",
            "📊 Monitor: epoch 1 completada\n",
            "📦 Productor generó batch-11\n",
            "📦 Productor generó batch-12\n",
            "📦 Productor generó batch-13\n",
            "📦 Productor generó batch-14\n",
            "📦 Productor generó batch-15\n",
            "📊 Monitor: epoch 2 completada\n",
            "📦 Productor generó batch-16\n",
            "📦 Productor generó batch-17\n",
            "📦 Productor generó batch-18\n",
            "📦 Productor generó batch-19\n"
          ]
        }
      ],
      "source": [
        "buffer = Queue()\n",
        "\n",
        "# Barrera para sincronizar workers por epoch\n",
        "num_workers = 3\n",
        "barrera = threading.Barrier(num_workers)\n",
        "\n",
        "# Evento para notificar al monitor\n",
        "evento_epoch = threading.Event()\n",
        "\n",
        "def productor():\n",
        "    for batch in range(20):\n",
        "        buffer.put(f\"batch-{batch}\")\n",
        "        print(f\"📦 Productor generó batch-{batch}\")\n",
        "        time.sleep(0.1)\n",
        "\n",
        "def worker(id, num_epochs=3):\n",
        "    for epoch in range(num_epochs):\n",
        "        batch = buffer.get()\n",
        "        print(f\"🔵 Worker {id} entrenando con {batch} en epoch {epoch}\")\n",
        "        time.sleep(random.uniform(0.2,0.5))  # simula forward+backward\n",
        "        buffer.task_done()\n",
        "        barrera.wait()  # esperar a que todos terminen epoch\n",
        "        if id == 0:  # solo un worker dispara evento al monitor\n",
        "            evento_epoch.set()\n",
        "\n",
        "def monitor(num_epochs=3):\n",
        "    for epoch in range(num_epochs):\n",
        "        evento_epoch.wait()\n",
        "        print(f\"📊 Monitor: epoch {epoch} completada\")\n",
        "        evento_epoch.clear()\n",
        "\n",
        "def ejercicio_10():\n",
        "    hilos = []\n",
        "    # productor\n",
        "    t_prod = threading.Thread(target=productor)\n",
        "    t_prod.start()\n",
        "    hilos.append(t_prod)\n",
        "\n",
        "    # monitor\n",
        "    t_mon = threading.Thread(target=monitor)\n",
        "    t_mon.start()\n",
        "    hilos.append(t_mon)\n",
        "\n",
        "    # workers\n",
        "    for i in range(num_workers):\n",
        "        t = threading.Thread(target=worker, args=(i,))\n",
        "        t.start()\n",
        "        hilos.append(t)\n",
        "\n",
        "    for h in hilos:\n",
        "        h.join()\n",
        "\n",
        "ejercicio_10()"
      ]
    },
    {
      "cell_type": "code",
      "execution_count": null,
      "id": "d2ec8546",
      "metadata": {
        "id": "d2ec8546"
      },
      "outputs": [],
      "source": []
    }
  ],
  "metadata": {
    "colab": {
      "provenance": []
    },
    "kernelspec": {
      "display_name": "base",
      "language": "python",
      "name": "python3"
    },
    "language_info": {
      "codemirror_mode": {
        "name": "ipython",
        "version": 3
      },
      "file_extension": ".py",
      "mimetype": "text/x-python",
      "name": "python",
      "nbconvert_exporter": "python",
      "pygments_lexer": "ipython3",
      "version": "3.13.5"
    }
  },
  "nbformat": 4,
  "nbformat_minor": 5
}
