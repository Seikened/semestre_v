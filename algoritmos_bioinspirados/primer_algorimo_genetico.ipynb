{
 "cells": [
  {
   "cell_type": "code",
   "execution_count": 43,
   "id": "91d5fd9c",
   "metadata": {},
   "outputs": [],
   "source": [
    "import numpy as np\n",
    "import matplotlib.pyplot as plt"
   ]
  },
  {
   "cell_type": "code",
   "execution_count": 44,
   "id": "c93bc190",
   "metadata": {},
   "outputs": [
    {
     "data": {
      "text/plain": [
       "[<matplotlib.lines.Line2D at 0x10f73c560>]"
      ]
     },
     "execution_count": 44,
     "metadata": {},
     "output_type": "execute_result"
    },
    {
     "data": {
      "image/png": "[encoded data removed]",
      "text/plain": [
       "<Figure size 640x480 with 1 Axes>"
      ]
     },
     "metadata": {},
     "output_type": "display_data"
    }
   ],
   "source": [
    "\n",
    "f = lambda x: -(0.1 + (1-x)**2 - 0.1*np.cos(6*np.pi*(1-x))) + 2\n",
    "\n",
    "\n",
    "x = np.linspace(0, 2, 50)\n",
    "y = f(x)\n",
    "\n",
    "plt.plot(x, y)\n",
    "\n"
   ]
  },
  {
   "cell_type": "code",
   "execution_count": 45,
   "id": "967d9b32",
   "metadata": {},
   "outputs": [],
   "source": [
    "# FUNCION PARA INICIAR POBLACION\n",
    "def iniciar_población(numero_individuos, longitud_cromosoma):\n",
    "    return  np.random.randint(0,2,size=(numero_individuos,longitud_cromosoma))"
   ]
  },
  {
   "cell_type": "code",
   "execution_count": 46,
   "id": "8d243a24",
   "metadata": {},
   "outputs": [],
   "source": [
    "# FUNCIÓN PARA DECODIFICAR DE BINARIO A DECIMAL LOS INDIVIDUOS\n",
    "def decodificar(poblacion, min, max):\n",
    "    [renglones,columnas] = poblacion.shape\n",
    "    decimal = np.zeros(renglones)\n",
    "    decimal_rescalado = np.zeros(renglones)\n",
    "    \n",
    "    for i in range(renglones):\n",
    "        for j in range(columnas):\n",
    "            # Se transforma de binario a decimal entero\n",
    "            decimal[i] += poblacion[i,j]*2**(columnas-j-1)\n",
    "            \n",
    "            # Se rescalan los valores al rango de busqueda\n",
    "            decimal_rescalado[i] = (max-min)*decimal[i]/(2**columnas-1) + min\n",
    "            \n",
    "    return decimal_rescalado\n",
    "\n"
   ]
  },
  {
   "cell_type": "code",
   "execution_count": 47,
   "id": "3f7b896f",
   "metadata": {},
   "outputs": [],
   "source": [
    "# FUNCIÓN PARA OBTENER LAS APTITUDES (FITNESS) DE CADA INDIVIDUO\n",
    "\n",
    "def fitness(poblacion, min, max):\n",
    "    [renglones,columnas] = poblacion.shape\n",
    "    x = decodificar(poblacion,min,max)\n",
    "    fitness = -(0.1 + (1-x)**2 - 0.1*np.cos(6*np.pi*(1-x))) + 2\n",
    "    return fitness"
   ]
  },
  {
   "cell_type": "code",
   "execution_count": 48,
   "id": "509132bf",
   "metadata": {},
   "outputs": [],
   "source": [
    "# FUNCIÓN DE CRUZAMIENTO (SINGLE POINT)\n",
    "def cruzamiento(poblacion,pares_de_cromosomas):\n",
    "    [renglones,columnas] = poblacion.shape\n",
    "    if pares_de_cromosomas > renglones/2:\n",
    "        raise ValueError(\"El numero de pares de cromosomas debe ser menor a la mitad del numero de individuos\")\n",
    "    M = np.zeros((2*pares_de_cromosomas,columnas)) # Matriz de hijos\n",
    "    for i in range(pares_de_cromosomas):\n",
    "        r1 = np.random.randint(0,renglones,size=(1,2)) # Par de numeros aleatorios para seleccionar padres\n",
    "        r2 = np.random.randint(0,columnas) # Punto de cruzamiento\n",
    "        \n",
    "        # Selecionamos los padres a cruzar\n",
    "\n",
    "        \n",
    "        padre_1 = poblacion[r1[0,0],:]\n",
    "        padre_2 = poblacion[r1[0,1],:]\n",
    "        \n",
    "        # Se crean los hijos\n",
    "        hijo_1 = np.concatenate((padre_1[0:r2], padre_2[r2:]))\n",
    "        hijo_2 = np.concatenate((padre_2[0:r2], padre_1[r2:]))\n",
    "        \n",
    "        # Guardar a mis hijos\n",
    "        M[2*i,:] = hijo_1\n",
    "        M[2*i+1,:] = hijo_2\n",
    "    return M\n",
    "\n",
    "\n",
    "        \n",
    "        "
   ]
  },
  {
   "cell_type": "code",
   "execution_count": 49,
   "id": "13dae246",
   "metadata": {},
   "outputs": [
    {
     "name": "stdout",
     "output_type": "stream",
     "text": [
      "[[0 1 1 1 1 1 0 0]\n",
      " [1 1 1 0 1 1 0 0]\n",
      " [1 1 0 0 1 0 1 0]\n",
      " [0 1 0 1 0 1 1 1]\n",
      " [1 1 0 0 0 0 0 1]\n",
      " [0 0 0 0 0 1 1 1]\n",
      " [0 1 0 0 0 0 0 0]\n",
      " [0 1 1 0 1 1 1 0]\n",
      " [1 0 0 1 1 0 1 1]\n",
      " [1 0 0 0 0 0 1 0]]\n",
      "(10, 8)\n",
      "[[0. 1. 0. 0. 1. 1. 1. 0.]\n",
      " [0. 1. 1. 1. 0. 1. 1. 1.]\n",
      " [1. 1. 0. 0. 1. 0. 1. 0.]\n",
      " [1. 1. 0. 0. 1. 0. 1. 0.]\n",
      " [1. 1. 1. 0. 1. 1. 0. 0.]\n",
      " [1. 0. 0. 1. 1. 0. 1. 1.]\n",
      " [0. 1. 1. 1. 1. 1. 0. 0.]\n",
      " [0. 1. 0. 0. 0. 0. 0. 0.]\n",
      " [1. 1. 0. 1. 1. 0. 1. 1.]\n",
      " [1. 0. 0. 0. 0. 0. 0. 1.]]\n"
     ]
    }
   ],
   "source": [
    "P = iniciar_población(10,8)\n",
    "print(P)\n",
    "\n",
    "cruza = cruzamiento(P,5)\n",
    "print(cruza.shape)\n",
    "print(cruza)"
   ]
  },
  {
   "cell_type": "code",
   "execution_count": null,
   "id": "df3ede07",
   "metadata": {},
   "outputs": [],
   "source": []
  }
 ],
 "metadata": {
  "kernelspec": {
   "display_name": ".venv (3.12.9)",
   "language": "python",
   "name": "python3"
  },
  "language_info": {
   "codemirror_mode": {
    "name": "ipython",
    "version": 3
   },
   "file_extension": ".py",
   "mimetype": "text/x-python",
   "name": "python",
   "nbconvert_exporter": "python",
   "pygments_lexer": "ipython3",
   "version": "3.12.9"
  }
 },
 "nbformat": 4,
 "nbformat_minor": 5
}
