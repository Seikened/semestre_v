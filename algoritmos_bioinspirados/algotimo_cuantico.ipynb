{
 "cells": [
  {
   "cell_type": "markdown",
   "id": "23759b7b",
   "metadata": {},
   "source": [
    "# Algoritmo CuánticoCon\n",
    "Construir un QGA para determinar el máximo de la función:\n",
    "\n",
    "$f(x)= | \\frac{x-5}{2+\\sin(x)} | $"
   ]
  },
  {
   "cell_type": "code",
   "execution_count": 91,
   "id": "ad99b5ec",
   "metadata": {},
   "outputs": [
    {
     "data": {
      "image/png": "[encoded data removed]",
      "text/plain": [
       "<Figure size 640x480 with 1 Axes>"
      ]
     },
     "metadata": {},
     "output_type": "display_data"
    }
   ],
   "source": [
    "import matplotlib.pyplot as plt\n",
    "import numpy as np \n",
    "\n",
    "def f(x):\n",
    "    return abs((x - 5) / (2 + np.sin(x)))\n",
    "\n",
    "\n",
    "x = np.linspace(0, 10, 50)\n",
    "y = f(x)\n",
    "plt.plot(x, y)\n",
    "plt.title(\"Función a maximizar\")\n",
    "plt.xlabel(\"x\")\n",
    "plt.ylabel(\"f(x)\")\n",
    "plt.grid()\n",
    "\n"
   ]
  },
  {
   "cell_type": "code",
   "execution_count": 92,
   "id": "e26fbcef",
   "metadata": {},
   "outputs": [],
   "source": [
    "# FUNCION QUE INICIALIZA LAS APLITUDES DE PROBABILIDAD\n",
    "# Al principio todas las amplitudes son iguales a 1/sqrt(2)\n",
    "\n",
    "def amplitudes_probabilidad(tamaño_poblacion, n_qbits):\n",
    "    poblacion = np.full((tamaño_poblacion, n_qbits), 1/np.sqrt(2))\n",
    "    return poblacion\n",
    "\n"
   ]
  },
  {
   "cell_type": "code",
   "execution_count": 93,
   "id": "22058df8",
   "metadata": {},
   "outputs": [],
   "source": [
    "# FUNCION QUE COLAPSARÁ LAS AMPLITUDES  A 0 O 1 MEDIANTE UN NÚMERO ALEATORIO\n",
    "def generar_soluciones(amplitudes):\n",
    "    renglon, columnas = amplitudes.shape\n",
    "    matriz_binaria = np.zeros((renglon, columnas), dtype=int)\n",
    "    matriz_aleatoria = np.random.rand(renglon, columnas)\n",
    "    \n",
    "    for i in range(renglon):\n",
    "        for j in range(columnas):\n",
    "            if (matriz_aleatoria[i][j] < amplitudes[i][j]**2):\n",
    "                matriz_binaria[i,j] = 1\n",
    "            else:\n",
    "                matriz_binaria[i,j] = 0\n",
    "\n",
    "    return matriz_binaria\n"
   ]
  },
  {
   "cell_type": "code",
   "execution_count": 94,
   "id": "6c0942a4",
   "metadata": {},
   "outputs": [],
   "source": [
    "# FUNCION PARA EVOLUCIONAR LA POBLACION DE INDIVIDUOS MEDIANTE ROTATION-GATE\n",
    "\n",
    "def rotation_gate(soluciones, mejor_solucion, amplitudes_probabilidad):\n",
    "    renglones , columnas = soluciones.shape\n",
    "    \n",
    "    theta = np.pi/50\n",
    "\n",
    "    for i in range(renglones):\n",
    "        for j in range(columnas):\n",
    "            if soluciones[i,j] != mejor_solucion[j]:\n",
    "                if mejor_solucion[j] == 1:\n",
    "                    amplitudes_probabilidad[i,j] = amplitudes_probabilidad[i,j] + np.sin(theta) * (1-amplitudes_probabilidad[i,j])\n",
    "                else:\n",
    "                    amplitudes_probabilidad[i,j] = amplitudes_probabilidad[i,j] - np.sin(theta) * amplitudes_probabilidad[i,j]\n",
    "\n",
    "    amplitudes_probabilidad = np.clip(amplitudes_probabilidad, 0.05, 0.95)\n",
    "    return amplitudes_probabilidad"
   ]
  },
  {
   "cell_type": "code",
   "execution_count": 95,
   "id": "4f1ea515",
   "metadata": {},
   "outputs": [],
   "source": [
    "# FUNCION QUE IMPLEMENTA EL OPERADOR MUTATION-GATE\n",
    "def mutation_gate(amplitudes_probabilidad, prob_mutacion):\n",
    "    renglones , columnas = amplitudes_probabilidad.shape\n",
    "    matriz_auxiliar = np.random.rand(renglones,columnas)\n",
    "    mascara = np.zeros((renglones,columnas), dtype=bool)\n",
    "\n",
    "    for i in range(renglones):\n",
    "        for j in range(columnas):\n",
    "            if matriz_auxiliar[i,j] < prob_mutacion:\n",
    "                mascara[i,j] = True\n",
    "            else:\n",
    "                mascara[i,j] = False\n",
    "\n",
    "    amplitudes_probabilidad = np.where(mascara, 1-amplitudes_probabilidad, amplitudes_probabilidad)\n",
    "    return amplitudes_probabilidad\n",
    "\n",
    "\n",
    "\n"
   ]
  },
  {
   "cell_type": "code",
   "execution_count": null,
   "id": "77dcd083",
   "metadata": {},
   "outputs": [
    {
     "name": "stdout",
     "output_type": "stream",
     "text": [
      "Amplitudes iniciales: [[0.70710678 0.70710678 0.70710678 0.70710678 0.70710678]\n",
      " [0.70710678 0.70710678 0.70710678 0.70710678 0.70710678]\n",
      " [0.70710678 0.70710678 0.70710678 0.70710678 0.70710678]\n",
      " [0.70710678 0.70710678 0.70710678 0.70710678 0.70710678]\n",
      " [0.70710678 0.70710678 0.70710678 0.70710678 0.70710678]\n",
      " [0.70710678 0.70710678 0.70710678 0.70710678 0.70710678]\n",
      " [0.70710678 0.70710678 0.70710678 0.70710678 0.70710678]\n",
      " [0.70710678 0.70710678 0.70710678 0.70710678 0.70710678]\n",
      " [0.70710678 0.70710678 0.70710678 0.70710678 0.70710678]\n",
      " [0.70710678 0.70710678 0.70710678 0.70710678 0.70710678]]\n",
      "Soluciones generadas:\n",
      " [[0 0 1 1 1]\n",
      " [1 1 0 0 0]\n",
      " [0 0 0 0 0]\n",
      " [1 1 1 0 1]\n",
      " [0 1 0 1 1]\n",
      " [1 1 0 1 0]\n",
      " [0 1 1 1 1]\n",
      " [0 1 1 1 1]\n",
      " [0 1 1 0 1]\n",
      " [1 0 1 1 1]]\n"
     ]
    }
   ],
   "source": [
    "# ALGORITMO GENETICO CUANTICO\n",
    "\n",
    "\n",
    "# =============================== PARAMETROS INCIALES ===============================\n",
    "tamaño_poblacion = 6\n",
    "numero_qbits = 10\n",
    "generaciones = 10\n",
    "porcentaje_mutacion = 0.05\n",
    "min = -10\n",
    "max = 10\n",
    "\n",
    "\n",
    "# =============================== INICIALIZACION ===============================\n",
    "# POBLACION INICIAL\n",
    "matriz_probabilidades = amplitudes_probabilidad(tamaño_poblacion, numero_qbits)\n",
    "mejor_solucion = np.zeros(numero_qbits, dtype=int)\n",
    "mejor_fitness = float('-inf')\n",
    "\n",
    "for generacion in range(generaciones):\n",
    "    soluciones = generar_soluciones(matriz_probabilidades)\n",
    "\n",
    "    aptitud = None\n",
    "\n",
    "    actual_mejor_fitness = None\n",
    "\n",
    "    if actual_mejor_fitness < mejor_fitness:\n",
    "        mejor_fitness = actual_mejor_fitness\n",
    "        mejor_solucion = actual_mejor_fitness\n",
    "    \n",
    "    matriz_probabilidades = rotation_gate(soluciones, mejor_solucion, matriz_probabilidades)\n",
    "    matriz_probabilidades = mutation_gate(matriz_probabilidades, porcentaje_mutacion)\n"
   ]
  }
 ],
 "metadata": {
  "kernelspec": {
   "display_name": ".venv (3.12.9)",
   "language": "python",
   "name": "python3"
  },
  "language_info": {
   "codemirror_mode": {
    "name": "ipython",
    "version": 3
   },
   "file_extension": ".py",
   "mimetype": "text/x-python",
   "name": "python",
   "nbconvert_exporter": "python",
   "pygments_lexer": "ipython3",
   "version": "3.12.9"
  }
 },
 "nbformat": 4,
 "nbformat_minor": 5
}
