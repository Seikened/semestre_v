{
 "cells": [
  {
   "cell_type": "markdown",
   "id": "1cfb3ef9",
   "metadata": {},
   "source": [
    "# PARTE 1: Introducción a NumPy"
   ]
  },
  {
   "cell_type": "code",
   "execution_count": 97,
   "id": "6d897632",
   "metadata": {},
   "outputs": [],
   "source": [
    "import numpy as np"
   ]
  },
  {
   "cell_type": "markdown",
   "id": "e2bd308f",
   "metadata": {},
   "source": [
    "## Vectores"
   ]
  },
  {
   "cell_type": "code",
   "execution_count": 98,
   "id": "fe3bf4f0",
   "metadata": {},
   "outputs": [
    {
     "name": "stdout",
     "output_type": "stream",
     "text": [
      "[1 2 3 4 5 6]\n",
      "[ 1  2  3  4  5  6 10 20]\n"
     ]
    }
   ],
   "source": [
    "vector = np.array([1,2,3,4,5,6])\n",
    "print(vector)\n",
    "# En numpy no hay manera de hacer un append sobre la misma lista por eso necesitamos crear otra\n",
    "new_vector = np.append(vector,[10,20])\n",
    "print(new_vector)"
   ]
  },
  {
   "cell_type": "markdown",
   "id": "ac90ed23",
   "metadata": {},
   "source": [
    "# Matrices"
   ]
  },
  {
   "cell_type": "code",
   "execution_count": 99,
   "id": "5896598f",
   "metadata": {},
   "outputs": [
    {
     "name": "stdout",
     "output_type": "stream",
     "text": [
      "[[1 2 3]\n",
      " [4 5 6]]\n",
      "Error en la matriz: setting an array element with a sequence. The requested array has an inhomogeneous shape after 1 dimensions. The detected shape was (2,) + inhomogeneous part.\n"
     ]
    }
   ],
   "source": [
    "matriz = np.array([[1,2,3],[4,5,6]])\n",
    "print(matriz)\n",
    "\n",
    "# En numpy no podemos tener cosas de diferentes dimensiones\n",
    "try:\n",
    "    matriz_mala = np.array([[1,2,3],[4,5,]])\n",
    "    print(matriz_mala)\n",
    "except Exception as e:\n",
    "    print(f\"Error en la matriz: {e}\")"
   ]
  },
  {
   "cell_type": "markdown",
   "id": "93096343",
   "metadata": {},
   "source": [
    "# PARTE 2"
   ]
  },
  {
   "cell_type": "code",
   "execution_count": 100,
   "id": "909d6736",
   "metadata": {},
   "outputs": [
    {
     "name": "stdout",
     "output_type": "stream",
     "text": [
      "[1 2 3 4 5 6]\n",
      "3\n",
      "[  1   2 777   4   5   6]\n",
      "[4 5 6]\n",
      "[  1 777   5]\n",
      "[  2 777]\n"
     ]
    }
   ],
   "source": [
    "arreglo = np.array([1,2,3,4,5,6])\n",
    "print(arreglo)\n",
    "# Se sigue manteniendo la misma manera de acceder a variables como en los arreglos de python\n",
    "print(arreglo[2])\n",
    "\n",
    "\n",
    "# Podemos modificar un elemento existente de algun indice pero no remover o agrar directamente\n",
    "arreglo[2] = 777\n",
    "print(arreglo)\n",
    "\n",
    "\n",
    "# Podemos mantener el slicing de python nativo\n",
    "print(arreglo[3:])\n",
    "print(arreglo[::2])\n",
    "print(arreglo[1:3])"
   ]
  },
  {
   "cell_type": "code",
   "execution_count": 101,
   "id": "1efd4296",
   "metadata": {},
   "outputs": [
    {
     "name": "stdout",
     "output_type": "stream",
     "text": [
      "[999, 2, 3]\n",
      "[1, 2, 3, 4, 5, 6]\n"
     ]
    }
   ],
   "source": [
    "python_list: list[int] = [1,2,3,4,5,6]\n",
    "python_slice: list[int] = python_list[:3]\n",
    "\n",
    "python_slice[0] = 999\n",
    "#  python crea un slicing copia no una referencia a la misma lista por ende la lista original jamas cambiará\n",
    "print(python_slice)\n",
    "print(python_list)"
   ]
  },
  {
   "cell_type": "code",
   "execution_count": 102,
   "id": "eb7bea00",
   "metadata": {},
   "outputs": [
    {
     "name": "stdout",
     "output_type": "stream",
     "text": [
      "[999   2   3]\n",
      "[999   2   3   4   5   6]\n"
     ]
    }
   ],
   "source": [
    "numpy_list = np.array([1,2,3,4,5,6])\n",
    "numpy_slice = numpy_list[:3]\n",
    "\n",
    "numpy_slice[0] = 999\n",
    "\n",
    "# Aquí aun que sea otra variable no se crea una copia independiente, por el contrario hacemos referencia a la lsita original en numpy\n",
    "print(numpy_slice)\n",
    "print(numpy_list)"
   ]
  },
  {
   "cell_type": "code",
   "execution_count": 103,
   "id": "af87a6c3",
   "metadata": {},
   "outputs": [
    {
     "name": "stdout",
     "output_type": "stream",
     "text": [
      "6\n"
     ]
    }
   ],
   "source": [
    "matriz = np.array([[1,2,3], \n",
    "                   [4,5,6], \n",
    "                   [7,8,9] \n",
    "])\n",
    "\n",
    "# Aquí accedemos a un selemnto de una matriz de 2D\n",
    "print(matriz[1,2])"
   ]
  },
  {
   "cell_type": "markdown",
   "id": "bb7691d9",
   "metadata": {},
   "source": [
    "## Tipos de arrays en NumPy\n",
    "- 0-D array = escalar\n",
    "- 1-D array = vector\n",
    "- 2-D array = matriz\n",
    "- N-D array = tensor ( N significa número cualquiera mayor que 2)"
   ]
  },
  {
   "cell_type": "markdown",
   "id": "4d2c972c",
   "metadata": {},
   "source": [
    "# PARTE 3"
   ]
  },
  {
   "cell_type": "code",
   "execution_count": 104,
   "id": "cfff0ff1",
   "metadata": {},
   "outputs": [
    {
     "name": "stdout",
     "output_type": "stream",
     "text": [
      "[[1 2 3]\n",
      " [4 5 6]]\n",
      "Dimensiones (dimensiones del arreglo): \n",
      "- 2\n",
      "Shape (tamaño que existe en cada dimensión del arreglo): \n",
      "- (2, 3)\n",
      "Size (número total de elementos de este arreglo): \n",
      "- 6\n",
      "Tipo del arreglo  (se usa mucho para ver que tipo de datos guarda el arreglo): \n",
      "- int16\n"
     ]
    }
   ],
   "source": [
    "arreglo = np.array([ [1,2,3], [4,5,6]], dtype=np.int16)\n",
    "\n",
    "print(arreglo)\n",
    "\n",
    "\n",
    "print(f\"Dimensiones (dimensiones del arreglo): \\n- {arreglo.ndim}\")\n",
    "print(f\"Shape (tamaño que existe en cada dimensión del arreglo): \\n- {arreglo.shape}\")\n",
    "print(f\"Size (número total de elementos de este arreglo): \\n- {arreglo.size}\")\n",
    "print(f\"Tipo del arreglo  (se usa mucho para ver que tipo de datos guarda el arreglo): \\n- {arreglo.dtype}\")"
   ]
  },
  {
   "cell_type": "code",
   "execution_count": 105,
   "id": "dcf6bac2",
   "metadata": {},
   "outputs": [
    {
     "name": "stdout",
     "output_type": "stream",
     "text": [
      "[[0 0 0 0 0]\n",
      " [0 0 0 0 0]\n",
      " [0 0 0 0 0]]\n",
      "int64\n",
      "[[[1 1 1]\n",
      "  [1 1 1]\n",
      "  [1 1 1]]\n",
      "\n",
      " [[1 1 1]\n",
      "  [1 1 1]\n",
      "  [1 1 1]]\n",
      "\n",
      " [[1 1 1]\n",
      "  [1 1 1]\n",
      "  [1 1 1]]]\n",
      "int64\n"
     ]
    }
   ],
   "source": [
    "ones = np.zeros((3,5),dtype=int)\n",
    "print(ones)\n",
    "print(ones.dtype)\n",
    "\n",
    "ones = np.ones((3,3,3),dtype=int)\n",
    "print(ones)\n",
    "print(ones.dtype)"
   ]
  },
  {
   "cell_type": "code",
   "execution_count": 106,
   "id": "1efcd8ca",
   "metadata": {},
   "outputs": [
    {
     "name": "stdout",
     "output_type": "stream",
     "text": [
      "[[4.9e-324 9.9e-324 1.5e-323]\n",
      " [2.0e-323 2.5e-323 3.0e-323]\n",
      " [3.5e-323 4.0e-323 4.4e-323]]\n",
      "float64\n"
     ]
    }
   ],
   "source": [
    "vacio = np.empty((3,3))\n",
    "\n",
    "\n",
    "# Ultra rapuido pero usa memoria y la reserva pero no la limpia\n",
    "print(vacio)\n",
    "print(vacio.dtype)"
   ]
  },
  {
   "cell_type": "code",
   "execution_count": 107,
   "id": "d6bf21b2",
   "metadata": {},
   "outputs": [
    {
     "name": "stdout",
     "output_type": "stream",
     "text": [
      "[0 1 2 3 4 5 6 7 8 9]\n",
      "[5 6 7 8 9]\n",
      "[ 0  2  4  6  8 10 12 14 16 18]\n"
     ]
    }
   ],
   "source": [
    "arreglo_rango = np.arange(10)\n",
    "print(arreglo_rango)\n",
    "\n",
    "arreglo_rango = np.arange(5,10)\n",
    "print(arreglo_rango)\n",
    "\n",
    "arreglo_rango = np.arange(0,20,2)\n",
    "print(arreglo_rango)\n",
    "\n"
   ]
  },
  {
   "cell_type": "code",
   "execution_count": 108,
   "id": "dfc86c25",
   "metadata": {},
   "outputs": [
    {
     "name": "stdout",
     "output_type": "stream",
     "text": [
      "[ 0.  5. 10.]\n",
      "[ 0.   2.5  5.   7.5 10. ]\n",
      "[ 0.          0.52631579  1.05263158  1.57894737  2.10526316  2.63157895\n",
      "  3.15789474  3.68421053  4.21052632  4.73684211  5.26315789  5.78947368\n",
      "  6.31578947  6.84210526  7.36842105  7.89473684  8.42105263  8.94736842\n",
      "  9.47368421 10.        ]\n",
      "[ 0  0  1  1  2  2  3  3  4  4  5  5  6  6  7  7  8  8  9 10]\n",
      "[ 0.      0.5264  1.053   1.579   2.105   2.63    3.158   3.684   4.21\n",
      "  4.74    5.26    5.79    6.316   6.844   7.367   7.895   8.42    8.945\n",
      "  9.48   10.    ]\n"
     ]
    }
   ],
   "source": [
    "espaciado_lineal = np.linspace(0,10, num=3)\n",
    "# Creamos un espaciado entre 0 al 10 de 3 separaciones  osea tendriamos el 0 como primer número y el 10 como ultimo pero hay un numero intermedio que hace de el 3cer separador\n",
    "print(espaciado_lineal)\n",
    "\n",
    "espaciado_lineal = np.linspace(0,10, num=5)\n",
    "print(espaciado_lineal)\n",
    "\n",
    "espaciado_lineal = np.linspace(0,10, num=20)\n",
    "print(espaciado_lineal)\n",
    "\n",
    "# Ponemos un typo de dato\n",
    "espaciado_lineal = np.linspace(0,10, num=20, dtype=int)\n",
    "print(espaciado_lineal)\n",
    "\n",
    "\n",
    "espaciado_lineal = np.linspace(0,10, num=20, dtype=np.float16)\n",
    "print(espaciado_lineal)\n"
   ]
  },
  {
   "cell_type": "markdown",
   "id": "2a3507ed",
   "metadata": {},
   "source": [
    "# PARTE 4:"
   ]
  },
  {
   "cell_type": "code",
   "execution_count": 109,
   "id": "d025f038",
   "metadata": {},
   "outputs": [
    {
     "name": "stdout",
     "output_type": "stream",
     "text": [
      "[ 0  1  2  3 10]\n"
     ]
    }
   ],
   "source": [
    "arreglo_desordenado = np.array([3, 2 ,10 , 1, 0])\n",
    "arreglo_ordenado = np.sort(arreglo_desordenado)\n",
    "print(arreglo_ordenado)"
   ]
  },
  {
   "cell_type": "code",
   "execution_count": 110,
   "id": "b449a61e",
   "metadata": {},
   "outputs": [
    {
     "name": "stdout",
     "output_type": "stream",
     "text": [
      "[1 2 3 4 5 6 7 8 9]\n",
      "[[1 2 3]\n",
      " [4 5 6]\n",
      " [7 8 9]]\n"
     ]
    }
   ],
   "source": [
    "a = np.array([1,2,3])\n",
    "b = np.array([4,5,6])\n",
    "c = np.array([7,8,9])\n",
    "result = np.concatenate((a,b,c))\n",
    "print(result)\n",
    "\n",
    "\n",
    "\n",
    "a = np.array([[1,2,3], [4,5,6]])\n",
    "b = np.array([[7,8,9]])\n",
    "result = np.concatenate((a,b))\n",
    "print(result)"
   ]
  },
  {
   "cell_type": "code",
   "execution_count": 111,
   "id": "3c1ed561",
   "metadata": {},
   "outputs": [
    {
     "name": "stdout",
     "output_type": "stream",
     "text": [
      "Original: \n",
      "[0 1 2 3 4 5 6 7 8 9]\n",
      "Reshape: \n",
      "[[0 1 2 3 4]\n",
      " [5 6 7 8 9]]\n",
      "Reshape: \n",
      "[[0 1]\n",
      " [2 3]\n",
      " [4 5]\n",
      " [6 7]\n",
      " [8 9]]\n",
      "Original: \n",
      "[ 0  1  2  3  4  5  6  7  8  9 10 11 12 13 14 15 16 17 18 19 20 21 22 23\n",
      " 24 25 26]\n",
      "Reshape: \n",
      "[[[ 0  1  2]\n",
      "  [ 3  4  5]\n",
      "  [ 6  7  8]\n",
      "  [ 9 10 11]\n",
      "  [12 13 14]\n",
      "  [15 16 17]\n",
      "  [18 19 20]\n",
      "  [21 22 23]\n",
      "  [24 25 26]]]\n",
      "Reshape: \n",
      "[[[ 0  1  2]\n",
      "  [ 3  4  5]\n",
      "  [ 6  7  8]]\n",
      "\n",
      " [[ 9 10 11]\n",
      "  [12 13 14]\n",
      "  [15 16 17]]\n",
      "\n",
      " [[18 19 20]\n",
      "  [21 22 23]\n",
      "  [24 25 26]]]\n",
      "Reshape: \n",
      "[ 0  1  2  3  4  5  6  7  8  9 10 11 12 13 14 15 16 17 18 19 20 21 22 23\n",
      " 24 25 26]\n"
     ]
    }
   ],
   "source": [
    "arr = np.arange(10)\n",
    "print(f\"Original: \\n{arr}\")\n",
    "\n",
    "arr = arr.reshape(2,5)\n",
    "print(f\"Reshape: \\n{arr}\")\n",
    "\n",
    "arr = arr.reshape(5,2)\n",
    "print(f\"Reshape: \\n{arr}\")\n",
    "\n",
    "\n",
    "\n",
    "arr = np.arange(27)\n",
    "print(f\"Original: \\n{arr}\")\n",
    "\n",
    "arr = arr.reshape(1,9,3)\n",
    "print(f\"Reshape: \\n{arr}\")\n",
    "\n",
    "arr = arr.reshape(3,3,3)\n",
    "print(f\"Reshape: \\n{arr}\")\n",
    "\n",
    "arr = arr.reshape(-1) # El -1 en automatico convierte en 1D el arreglo que le pasemos\n",
    "print(f\"Reshape: \\n{arr}\")\n"
   ]
  },
  {
   "cell_type": "markdown",
   "id": "28359c66",
   "metadata": {},
   "source": [
    "# PARTE 5"
   ]
  },
  {
   "cell_type": "code",
   "execution_count": null,
   "id": "f4ef4130",
   "metadata": {},
   "outputs": [],
   "source": []
  }
 ],
 "metadata": {
  "kernelspec": {
   "display_name": "semestre-v",
   "language": "python",
   "name": "python3"
  },
  "language_info": {
   "codemirror_mode": {
    "name": "ipython",
    "version": 3
   },
   "file_extension": ".py",
   "mimetype": "text/x-python",
   "name": "python",
   "nbconvert_exporter": "python",
   "pygments_lexer": "ipython3",
   "version": "3.12.9"
  }
 },
 "nbformat": 4,
 "nbformat_minor": 5
}
