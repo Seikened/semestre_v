{
 "cells": [
  {
   "cell_type": "markdown",
   "id": "bbd59431",
   "metadata": {},
   "source": [
    "# Usar polars para procesamiento de datos en Python"
   ]
  },
  {
   "cell_type": "code",
   "execution_count": 9,
   "id": "26daf510",
   "metadata": {},
   "outputs": [],
   "source": [
    "# %pip install polars\n",
    "import polars as pl\n",
    "import yfinance as yf\n",
    "import numpy as np\n",
    "import seaborn as sns\n",
    "from datetime import date, timedelta\n",
    "import time\n"
   ]
  },
  {
   "cell_type": "markdown",
   "id": "d3ca827c",
   "metadata": {},
   "source": [
    "# Dataset\n",
    "Vamos a decargar un set de datos masivo de Yahoo Finance, que contiene datos historicos de precios de acciones, vamos a porbar con google y amazon ya que son empresas con mucha actividad.\n"
   ]
  },
  {
   "cell_type": "code",
   "execution_count": 10,
   "id": "c4388d72",
   "metadata": {},
   "outputs": [
    {
     "name": "stderr",
     "output_type": "stream",
     "text": [
      "/var/folders/j4/21ypxx3x0019wgj7rqnlm2340000gn/T/ipykernel_11936/2787750577.py:2: FutureWarning: YF.download() has changed argument auto_adjust default to True\n",
      "  data_amazon = yf.download(\"AMZN\", start=\"1997-05-15\")\n",
      "[*********************100%***********************]  1 of 1 completed\n",
      "/var/folders/j4/21ypxx3x0019wgj7rqnlm2340000gn/T/ipykernel_11936/2787750577.py:6: FutureWarning: YF.download() has changed argument auto_adjust default to True\n",
      "  data_google = yf.download(\"GOOGL\", start=\"2004-08-19\")\n",
      "[*********************100%***********************]  1 of 1 completed\n"
     ]
    }
   ],
   "source": [
    "\n",
    "\n",
    "\n",
    "#  Amazon | FECHA: 15 de mayo de 1997 hasta hoy\n",
    "data_amazon = yf.download(\"AMZN\", start=\"1997-05-15\")\n",
    "\n",
    "\n",
    "# Google | 19 de agosto de 2004 hasta hoy\n",
    "data_google = yf.download(\"GOOGL\", start=\"2004-08-19\")\n"
   ]
  },
  {
   "cell_type": "code",
   "execution_count": 11,
   "id": "6c34a1dd",
   "metadata": {},
   "outputs": [
    {
     "data": {
      "text/html": [
       "<div>\n",
       "<style scoped>\n",
       "    .dataframe tbody tr th:only-of-type {\n",
       "        vertical-align: middle;\n",
       "    }\n",
       "\n",
       "    .dataframe tbody tr th {\n",
       "        vertical-align: top;\n",
       "    }\n",
       "\n",
       "    .dataframe thead tr th {\n",
       "        text-align: left;\n",
       "    }\n",
       "\n",
       "    .dataframe thead tr:last-of-type th {\n",
       "        text-align: right;\n",
       "    }\n",
       "</style>\n",
       "<table border=\"1\" class=\"dataframe\">\n",
       "  <thead>\n",
       "    <tr>\n",
       "      <th>Price</th>\n",
       "      <th>Close</th>\n",
       "      <th>High</th>\n",
       "      <th>Low</th>\n",
       "      <th>Open</th>\n",
       "      <th>Volume</th>\n",
       "    </tr>\n",
       "    <tr>\n",
       "      <th>Ticker</th>\n",
       "      <th>AMZN</th>\n",
       "      <th>AMZN</th>\n",
       "      <th>AMZN</th>\n",
       "      <th>AMZN</th>\n",
       "      <th>AMZN</th>\n",
       "    </tr>\n",
       "    <tr>\n",
       "      <th>Date</th>\n",
       "      <th></th>\n",
       "      <th></th>\n",
       "      <th></th>\n",
       "      <th></th>\n",
       "      <th></th>\n",
       "    </tr>\n",
       "  </thead>\n",
       "  <tbody>\n",
       "    <tr>\n",
       "      <th>1997-05-15</th>\n",
       "      <td>0.097917</td>\n",
       "      <td>0.125000</td>\n",
       "      <td>0.096354</td>\n",
       "      <td>0.121875</td>\n",
       "      <td>1443120000</td>\n",
       "    </tr>\n",
       "    <tr>\n",
       "      <th>1997-05-16</th>\n",
       "      <td>0.086458</td>\n",
       "      <td>0.098958</td>\n",
       "      <td>0.085417</td>\n",
       "      <td>0.098438</td>\n",
       "      <td>294000000</td>\n",
       "    </tr>\n",
       "    <tr>\n",
       "      <th>1997-05-19</th>\n",
       "      <td>0.085417</td>\n",
       "      <td>0.088542</td>\n",
       "      <td>0.081250</td>\n",
       "      <td>0.088021</td>\n",
       "      <td>122136000</td>\n",
       "    </tr>\n",
       "    <tr>\n",
       "      <th>1997-05-20</th>\n",
       "      <td>0.081771</td>\n",
       "      <td>0.087500</td>\n",
       "      <td>0.081771</td>\n",
       "      <td>0.086458</td>\n",
       "      <td>109344000</td>\n",
       "    </tr>\n",
       "    <tr>\n",
       "      <th>1997-05-21</th>\n",
       "      <td>0.071354</td>\n",
       "      <td>0.082292</td>\n",
       "      <td>0.068750</td>\n",
       "      <td>0.081771</td>\n",
       "      <td>377064000</td>\n",
       "    </tr>\n",
       "  </tbody>\n",
       "</table>\n",
       "</div>"
      ],
      "text/plain": [
       "Price          Close      High       Low      Open      Volume\n",
       "Ticker          AMZN      AMZN      AMZN      AMZN        AMZN\n",
       "Date                                                          \n",
       "1997-05-15  0.097917  0.125000  0.096354  0.121875  1443120000\n",
       "1997-05-16  0.086458  0.098958  0.085417  0.098438   294000000\n",
       "1997-05-19  0.085417  0.088542  0.081250  0.088021   122136000\n",
       "1997-05-20  0.081771  0.087500  0.081771  0.086458   109344000\n",
       "1997-05-21  0.071354  0.082292  0.068750  0.081771   377064000"
      ]
     },
     "execution_count": 11,
     "metadata": {},
     "output_type": "execute_result"
    }
   ],
   "source": [
    "data_amazon.head()"
   ]
  },
  {
   "cell_type": "code",
   "execution_count": null,
   "id": "5e2f57b9",
   "metadata": {},
   "outputs": [
    {
     "data": {
      "text/plain": [
       "MultiIndex([( 'Close', 'AMZN'),\n",
       "            (  'High', 'AMZN'),\n",
       "            (   'Low', 'AMZN'),\n",
       "            (  'Open', 'AMZN'),\n",
       "            ('Volume', 'AMZN')],\n",
       "           names=['Price', 'Ticker'])"
      ]
     },
     "execution_count": 15,
     "metadata": {},
     "output_type": "execute_result"
    }
   ],
   "source": []
  },
  {
   "cell_type": "markdown",
   "id": "d0759275",
   "metadata": {},
   "source": [
    "# Vamos a preparar el dataset en polars"
   ]
  },
  {
   "cell_type": "code",
   "execution_count": null,
   "id": "63617572",
   "metadata": {},
   "outputs": [],
   "source": [
    "\n",
    "# Dataframe de Amazon\n",
    "df_amazon = pl.DataFrame(data_amazon.rename({\"date\": \"Date\"}))\n",
    "\n",
    "# Dataframe de Google\n",
    "df_google = pl.DataFrame(data_google.rename({\"date\": \"Date\"}))\n",
    "\n"
   ]
  },
  {
   "cell_type": "code",
   "execution_count": 13,
   "id": "b14b1977",
   "metadata": {},
   "outputs": [
    {
     "data": {
      "text/html": [
       "<div><style>\n",
       ".dataframe > thead > tr,\n",
       ".dataframe > tbody > tr {\n",
       "  text-align: right;\n",
       "  white-space: pre-wrap;\n",
       "}\n",
       "</style>\n",
       "<small>shape: (5, 5)</small><table border=\"1\" class=\"dataframe\"><thead><tr><th>(&#x27;Close&#x27;, &#x27;AMZN&#x27;)</th><th>(&#x27;High&#x27;, &#x27;AMZN&#x27;)</th><th>(&#x27;Low&#x27;, &#x27;AMZN&#x27;)</th><th>(&#x27;Open&#x27;, &#x27;AMZN&#x27;)</th><th>(&#x27;Volume&#x27;, &#x27;AMZN&#x27;)</th></tr><tr><td>f64</td><td>f64</td><td>f64</td><td>f64</td><td>i64</td></tr></thead><tbody><tr><td>0.097917</td><td>0.125</td><td>0.096354</td><td>0.121875</td><td>1443120000</td></tr><tr><td>0.086458</td><td>0.098958</td><td>0.085417</td><td>0.098438</td><td>294000000</td></tr><tr><td>0.085417</td><td>0.088542</td><td>0.08125</td><td>0.088021</td><td>122136000</td></tr><tr><td>0.081771</td><td>0.0875</td><td>0.081771</td><td>0.086458</td><td>109344000</td></tr><tr><td>0.071354</td><td>0.082292</td><td>0.06875</td><td>0.081771</td><td>377064000</td></tr></tbody></table></div>"
      ],
      "text/plain": [
       "shape: (5, 5)\n",
       "┌───────────────────┬──────────────────┬─────────────────┬──────────────────┬────────────────────┐\n",
       "│ ('Close', 'AMZN') ┆ ('High', 'AMZN') ┆ ('Low', 'AMZN') ┆ ('Open', 'AMZN') ┆ ('Volume', 'AMZN') │\n",
       "│ ---               ┆ ---              ┆ ---             ┆ ---              ┆ ---                │\n",
       "│ f64               ┆ f64              ┆ f64             ┆ f64              ┆ i64                │\n",
       "╞═══════════════════╪══════════════════╪═════════════════╪══════════════════╪════════════════════╡\n",
       "│ 0.097917          ┆ 0.125            ┆ 0.096354        ┆ 0.121875         ┆ 1443120000         │\n",
       "│ 0.086458          ┆ 0.098958         ┆ 0.085417        ┆ 0.098438         ┆ 294000000          │\n",
       "│ 0.085417          ┆ 0.088542         ┆ 0.08125         ┆ 0.088021         ┆ 122136000          │\n",
       "│ 0.081771          ┆ 0.0875           ┆ 0.081771        ┆ 0.086458         ┆ 109344000          │\n",
       "│ 0.071354          ┆ 0.082292         ┆ 0.06875         ┆ 0.081771         ┆ 377064000          │\n",
       "└───────────────────┴──────────────────┴─────────────────┴──────────────────┴────────────────────┘"
      ]
     },
     "execution_count": 13,
     "metadata": {},
     "output_type": "execute_result"
    }
   ],
   "source": [
    "df_amazon.head()"
   ]
  },
  {
   "cell_type": "code",
   "execution_count": 16,
   "id": "586633cb",
   "metadata": {},
   "outputs": [
    {
     "data": {
      "text/plain": [
       "[\"('Close', 'AMZN')\",\n",
       " \"('High', 'AMZN')\",\n",
       " \"('Low', 'AMZN')\",\n",
       " \"('Open', 'AMZN')\",\n",
       " \"('Volume', 'AMZN')\"]"
      ]
     },
     "execution_count": 16,
     "metadata": {},
     "output_type": "execute_result"
    }
   ],
   "source": [
    "df_amazon.columns"
   ]
  },
  {
   "cell_type": "code",
   "execution_count": null,
   "id": "3dd3de49",
   "metadata": {},
   "outputs": [],
   "source": []
  }
 ],
 "metadata": {
  "kernelspec": {
   "display_name": "semestre-v (3.12.9)",
   "language": "python",
   "name": "python3"
  },
  "language_info": {
   "codemirror_mode": {
    "name": "ipython",
    "version": 3
   },
   "file_extension": ".py",
   "mimetype": "text/x-python",
   "name": "python",
   "nbconvert_exporter": "python",
   "pygments_lexer": "ipython3",
   "version": "3.12.9"
  }
 },
 "nbformat": 4,
 "nbformat_minor": 5
}
