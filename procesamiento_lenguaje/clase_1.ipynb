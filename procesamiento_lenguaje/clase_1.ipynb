{
 "cells": [
  {
   "cell_type": "code",
   "execution_count": 2,
   "id": "9934e513",
   "metadata": {},
   "outputs": [
    {
     "name": "stdout",
     "output_type": "stream",
     "text": [
      "Requirement already satisfied: nltk in /Users/ferleon/Github/semestre_v/.venv/lib/python3.12/site-packages (3.9.1)\n",
      "Requirement already satisfied: click in /Users/ferleon/Github/semestre_v/.venv/lib/python3.12/site-packages (from nltk) (8.2.1)\n",
      "Requirement already satisfied: joblib in /Users/ferleon/Github/semestre_v/.venv/lib/python3.12/site-packages (from nltk) (1.5.1)\n",
      "Requirement already satisfied: regex>=2021.8.3 in /Users/ferleon/Github/semestre_v/.venv/lib/python3.12/site-packages (from nltk) (2025.7.34)\n",
      "Requirement already satisfied: tqdm in /Users/ferleon/Github/semestre_v/.venv/lib/python3.12/site-packages (from nltk) (4.67.1)\n",
      "Note: you may need to restart the kernel to use updated packages.\n",
      "nltk is installed and ready to use!\n"
     ]
    }
   ],
   "source": [
    "%pip install nltk\n",
    "\n",
    "import nltk\n",
    "#nltk.download()\n",
    "\n",
    "\n",
    "# check si esta instalado nltk con un print todo good (verificar instalación)\n",
    "if 'nltk' in nltk.__name__:\n",
    "    print(\"nltk is installed and ready to use!\")\n"
   ]
  },
  {
   "cell_type": "code",
   "execution_count": 3,
   "id": "7ed33d7c",
   "metadata": {},
   "outputs": [
    {
     "name": "stdout",
     "output_type": "stream",
     "text": [
      "*** Introductory Examples for the NLTK Book ***\n",
      "Loading text1, ..., text9 and sent1, ..., sent9\n",
      "Type the name of the text or sentence to view it.\n",
      "Type: 'texts()' or 'sents()' to list the materials.\n",
      "text1: Moby Dick by Herman Melville 1851\n",
      "text2: Sense and Sensibility by Jane Austen 1811\n",
      "text3: The Book of Genesis\n",
      "text4: Inaugural Address Corpus\n",
      "text5: Chat Corpus\n",
      "text6: Monty Python and the Holy Grail\n",
      "text7: Wall Street Journal\n",
      "text8: Personals Corpus\n",
      "text9: The Man Who Was Thursday by G . K . Chesterton 1908\n"
     ]
    }
   ],
   "source": [
    "from nltk.book import *"
   ]
  },
  {
   "cell_type": "code",
   "execution_count": 4,
   "id": "0a974f88",
   "metadata": {},
   "outputs": [
    {
     "data": {
      "text/plain": [
       "<Text: Moby Dick by Herman Melville 1851>"
      ]
     },
     "execution_count": 4,
     "metadata": {},
     "output_type": "execute_result"
    }
   ],
   "source": [
    "text1"
   ]
  },
  {
   "cell_type": "code",
   "execution_count": 5,
   "id": "44b4b496",
   "metadata": {},
   "outputs": [
    {
     "data": {
      "text/plain": [
       "['/Users/ferleon/nltk_data',\n",
       " '/Users/ferleon/Github/semestre_v/.venv/nltk_data',\n",
       " '/Users/ferleon/Github/semestre_v/.venv/share/nltk_data',\n",
       " '/Users/ferleon/Github/semestre_v/.venv/lib/nltk_data',\n",
       " '/usr/share/nltk_data',\n",
       " '/usr/local/share/nltk_data',\n",
       " '/usr/lib/nltk_data',\n",
       " '/usr/local/lib/nltk_data']"
      ]
     },
     "execution_count": 5,
     "metadata": {},
     "output_type": "execute_result"
    }
   ],
   "source": [
    "nltk.data.path"
   ]
  },
  {
   "cell_type": "code",
   "execution_count": 6,
   "id": "dbb48e10",
   "metadata": {},
   "outputs": [
    {
     "data": {
      "text/plain": [
       "2789"
      ]
     },
     "execution_count": 6,
     "metadata": {},
     "output_type": "execute_result"
    }
   ],
   "source": [
    "len(set(text3))"
   ]
  },
  {
   "cell_type": "code",
   "execution_count": 7,
   "id": "8525a9db",
   "metadata": {},
   "outputs": [
    {
     "data": {
      "text/plain": [
       "3"
      ]
     },
     "execution_count": 7,
     "metadata": {},
     "output_type": "execute_result"
    }
   ],
   "source": [
    "hola=\"Uno      dos    cuatro\"\n",
    "\n",
    "len(set(hola.split()))"
   ]
  },
  {
   "cell_type": "code",
   "execution_count": 8,
   "id": "5c6fe692",
   "metadata": {},
   "outputs": [
    {
     "name": "stdout",
     "output_type": "stream",
     "text": [
      "Displaying 11 of 11 matches:\n",
      "ong the former , one was of a most monstrous size . ... This came towards us , \n",
      "ON OF THE PSALMS . \" Touching that monstrous bulk of the whale or ork we have r\n",
      "ll over with a heathenish array of monstrous clubs and spears . Some were thick\n",
      "d as you gazed , and wondered what monstrous cannibal and savage could ever hav\n",
      "that has survived the flood ; most monstrous and most mountainous ! That Himmal\n",
      "they might scout at Moby Dick as a monstrous fable , or still worse and more de\n",
      "th of Radney .'\" CHAPTER 55 Of the Monstrous Pictures of Whales . I shall ere l\n",
      "ing Scenes . In connexion with the monstrous pictures of whales , I am strongly\n",
      "ere to enter upon those still more monstrous stories of them which are to be fo\n",
      "ght have been rummaged out of this monstrous cabinet there is no telling . But \n",
      "of Whale - Bones ; for Whales of a monstrous size are oftentimes cast up dead u\n"
     ]
    }
   ],
   "source": [
    "text1.concordance(\"monstrous\")"
   ]
  },
  {
   "cell_type": "code",
   "execution_count": 9,
   "id": "6a395002",
   "metadata": {},
   "outputs": [
    {
     "name": "stdout",
     "output_type": "stream",
     "text": [
      "very so exceedingly heartily a as good great extremely remarkably\n",
      "sweet vast amazingly\n"
     ]
    }
   ],
   "source": [
    "text2.similar(\"monstrous\")"
   ]
  },
  {
   "cell_type": "code",
   "execution_count": 10,
   "id": "c57d4121",
   "metadata": {},
   "outputs": [
    {
     "name": "stdout",
     "output_type": "stream",
     "text": [
      "am_glad a_pretty a_lucky is_pretty be_glad\n"
     ]
    }
   ],
   "source": [
    "text2.common_contexts([\"monstrous\", \"very\"])"
   ]
  },
  {
   "cell_type": "markdown",
   "id": "3b4396d3",
   "metadata": {},
   "source": [
    "# Corpus de los presidentes de EEUU"
   ]
  },
  {
   "cell_type": "code",
   "execution_count": 11,
   "id": "65588404",
   "metadata": {},
   "outputs": [],
   "source": [
    "text4=nltk.Text([tx.lower() for tx in text4])"
   ]
  },
  {
   "cell_type": "code",
   "execution_count": 12,
   "id": "dac587f9",
   "metadata": {},
   "outputs": [
    {
     "data": {
      "image/png": "[encoded data removed]",
      "text/plain": [
       "<Figure size 640x480 with 1 Axes>"
      ]
     },
     "metadata": {},
     "output_type": "display_data"
    }
   ],
   "source": [
    "text4.dispersion_plot([\"citizens\", \"democracy\", \"freedom\", \"duties\", \"america\",\"democrats\",\"republicans\",\"migration\",\"war\",\"mexico\",\"weapons\",\"drugs\",\"vietnam\",\"iraq\"])"
   ]
  },
  {
   "cell_type": "markdown",
   "id": "1076414c",
   "metadata": {},
   "source": [
    "# Tokenización\n",
    "\n",
    "## ¿qué es un token?\n",
    "Es una unidad mínima con lo que trabaja un texto\n",
    "Puede ser un caracter, una palabra, un n-grama, etc."
   ]
  },
  {
   "cell_type": "code",
   "execution_count": 13,
   "id": "087012f1",
   "metadata": {},
   "outputs": [
    {
     "name": "stdout",
     "output_type": "stream",
     "text": [
      "['rodrigo', 'lineado', 'es', 'un', 'gran', 'amigo', ',', 'no', 'se', 'enoja', '(', 'aun', 'que', 'lo', 'chapulinies', ')']\n",
      "[('rodrigo', 'NN'), ('lineado', 'NN'), ('es', 'NN'), ('un', 'JJ'), ('gran', 'NN'), ('amigo', 'NN'), (',', ','), ('no', 'DT'), ('se', 'NN'), ('enoja', 'NN'), ('(', '('), ('aun', 'JJ'), ('que', 'NN'), ('lo', 'NN'), ('chapulinies', 'NNS'), (')', ')')]\n"
     ]
    }
   ],
   "source": [
    "oracion = \"rodrigo lineado es un gran amigo, no se enoja (aun que lo chapulinies)\"\n",
    "\n",
    "tokens = nltk.word_tokenize(oracion)\n",
    "print(tokens)\n",
    "tag = nltk.pos_tag(tokens)\n",
    "print(tag)"
   ]
  },
  {
   "cell_type": "code",
   "execution_count": null,
   "id": "38410158",
   "metadata": {},
   "outputs": [],
   "source": []
  }
 ],
 "metadata": {
  "kernelspec": {
   "display_name": ".venv (3.12.9)",
   "language": "python",
   "name": "python3"
  },
  "language_info": {
   "codemirror_mode": {
    "name": "ipython",
    "version": 3
   },
   "file_extension": ".py",
   "mimetype": "text/x-python",
   "name": "python",
   "nbconvert_exporter": "python",
   "pygments_lexer": "ipython3",
   "version": "3.12.9"
  }
 },
 "nbformat": 4,
 "nbformat_minor": 5
}
