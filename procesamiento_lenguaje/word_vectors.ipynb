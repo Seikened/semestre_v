{
 "cells": [
  {
   "cell_type": "markdown",
   "id": "e70d16ac",
   "metadata": {},
   "source": [
    "# Fernando Leon Franco"
   ]
  },
  {
   "cell_type": "code",
   "execution_count": 172,
   "id": "26be937b",
   "metadata": {},
   "outputs": [],
   "source": [
    "import matplotlib.pyplot as plt\n",
    "import nltk\n",
    "import numpy as np"
   ]
  },
  {
   "cell_type": "code",
   "execution_count": 173,
   "id": "7a9709e9",
   "metadata": {},
   "outputs": [],
   "source": [
    "def get_texts_from_file(path_corpus, path_truth):\n",
    "\n",
    "    tr_txt = [] # Aqui van los twits\n",
    "    tr_y = [] # Aqui van las etiquetas\n",
    "\n",
    "    with open(path_corpus, 'r', encoding='utf-8') as f_corpus, open(path_truth , 'r', encoding='utf-8') as f_truth:\n",
    "        \n",
    "        for twitt in f_corpus:\n",
    "            tr_txt += [twitt]\n",
    "            \n",
    "        for label in f_truth:\n",
    "            tr_y += [label]\n",
    "    \n",
    "    return tr_txt,tr_y        "
   ]
  },
  {
   "cell_type": "code",
   "execution_count": 174,
   "id": "8fb1a8a1",
   "metadata": {},
   "outputs": [],
   "source": [
    "path_global = \"/Users/ferleon/Github/semestre_v/procesamiento_lenguaje\"\n",
    "path_corpus = path_global + '/mex20_train.txt'\n",
    "path_truth = path_global + '/mex20_train_labels.txt'\n",
    "\n",
    "\n",
    "tr_txt, tr_y = get_texts_from_file(path_corpus,path_truth)\n",
    "\n",
    "\n",
    "\n",
    "# Construir los datos de validación\n",
    "path_corpus = path_global + '/mex20_val.txt'\n",
    "path_truth = path_global + '/mex20_val_labels.txt'\n",
    "\n",
    "\n",
    "va_txt, va_y = get_texts_from_file(path_corpus,path_truth)\n"
   ]
  },
  {
   "cell_type": "code",
   "execution_count": 175,
   "id": "a7ab561f",
   "metadata": {},
   "outputs": [
    {
     "data": {
      "image/png": "[encoded data removed]",
      "text/plain": [
       "<Figure size 640x480 with 1 Axes>"
      ]
     },
     "metadata": {},
     "output_type": "display_data"
    },
    {
     "name": "stdout",
     "output_type": "stream",
     "text": [
      "0: 3759\n",
      "1: 1519\n"
     ]
    }
   ],
   "source": [
    "# Ver los datos saber si es balanceado o desbalanceado\n",
    "count_0 = 0\n",
    "count_1 = 0\n",
    "\n",
    "for label in tr_y:\n",
    "    label = label.strip()\n",
    "    if label == '0':\n",
    "        count_0 += 1\n",
    "    elif label == '1':\n",
    "        count_1 += 1\n",
    "\n",
    "plt.bar(['0','1'],[count_0,count_1])\n",
    "plt.show()\n",
    "\n",
    "print(f\"0: {count_0}\")\n",
    "print(f\"1: {count_1}\")"
   ]
  },
  {
   "cell_type": "code",
   "execution_count": 176,
   "id": "2ffbd880",
   "metadata": {},
   "outputs": [],
   "source": [
    "from nltk.tokenize import TweetTokenizer\n",
    "tokenizer = TweetTokenizer()\n",
    "\n",
    "corpus_de_palabras = []\n",
    "\n",
    "for doc in tr_txt:\n",
    "    corpus_de_palabras += tokenizer.tokenize(doc)\n",
    "    \n",
    "fdist = nltk.FreqDist(corpus_de_palabras)\n",
    "\n"
   ]
  },
  {
   "cell_type": "code",
   "execution_count": 177,
   "id": "93013e17",
   "metadata": {},
   "outputs": [],
   "source": [
    "\"\"\"\n",
    "VERSION DEL PROFE\n",
    "\"\"\"\n",
    "\n",
    "\n",
    "def sort_dist(freq_dist):\n",
    "    aux = [(freq_dist[key], key) for key in freq_dist.keys()]\n",
    "    aux.sort(reverse=True)\n",
    "    return aux\n",
    "\n",
    "vocabulario = sort_dist(fdist)\n",
    "\n",
    "vocabulario = vocabulario[:5000] # Shape (5000, 2)\n",
    "\n",
    "\n",
    "# Es redundante pero asegura un orden en diccionario en Python (No importa por que python se indexa)\n",
    "\n",
    "dict_indices = {}\n",
    "\n",
    "contador = 0\n",
    "\n",
    "for peso, palabra in vocabulario:\n",
    "    dict_indices[palabra] = contador\n",
    "    contador += 1\n",
    "    \n",
    "\n",
    "def built_bow_tr_profe_version(tuits, Vocabulario, dict_indices):\n",
    "    \n",
    "    BOW = np.zeros((len(tuits), len(Vocabulario)), dtype=int)\n",
    "\n",
    "    contador = 0\n",
    "    for tr in tuits:\n",
    "        fdist_doc = nltk.FreqDist(tokenizer.tokenize(tr.lower())) # Tuit Tokenizado\n",
    "        for palabra in fdist_doc:\n",
    "            if palabra in dict_indices:\n",
    "                BOW[contador, dict_indices[palabra]] = fdist_doc[palabra] # FRECUENCIA DE LA PALABRA EN VEZ DE HACERLO BINARIO\n",
    "        contador += 1\n",
    "\n",
    "    return BOW\n"
   ]
  },
  {
   "cell_type": "code",
   "execution_count": 178,
   "id": "94208a3c",
   "metadata": {},
   "outputs": [
    {
     "name": "stdout",
     "output_type": "stream",
     "text": [
      "(5278, 5000)\n"
     ]
    }
   ],
   "source": [
    "bolsa_de_palabras_tr = built_bow_tr_profe_version(tr_txt, vocabulario, dict_indices)\n",
    "print(bolsa_de_palabras_tr.shape)"
   ]
  },
  {
   "cell_type": "code",
   "execution_count": 179,
   "id": "05bb3d8f",
   "metadata": {},
   "outputs": [
    {
     "data": {
      "text/plain": [
       "array([[0, 2, 0, ..., 0, 0, 0],\n",
       "       [0, 0, 0, ..., 0, 0, 0],\n",
       "       [0, 1, 0, ..., 0, 0, 0],\n",
       "       ...,\n",
       "       [0, 1, 0, ..., 0, 0, 0],\n",
       "       [2, 0, 0, ..., 0, 0, 0],\n",
       "       [1, 1, 0, ..., 0, 0, 0]], shape=(5278, 5000))"
      ]
     },
     "execution_count": 179,
     "metadata": {},
     "output_type": "execute_result"
    }
   ],
   "source": [
    "bolsa_de_palabras_tr"
   ]
  },
  {
   "cell_type": "markdown",
   "id": "905b937d",
   "metadata": {},
   "source": [
    "# Compute Document Ocurrence Representation\n"
   ]
  },
  {
   "cell_type": "code",
   "execution_count": 180,
   "id": "a04d8756",
   "metadata": {},
   "outputs": [],
   "source": [
    "\n",
    "\n",
    "# count * log(T / Nk)\n",
    "def calcular_peso(freq, Nk_j, T):\n",
    "    if freq == 0:\n",
    "        return 0.0\n",
    "    return freq * np.log(T / max(1, Nk_j)) \n",
    "\n",
    "\n",
    "\n",
    "def compute_dor(bow, vocabulario):\n",
    "    renglones, columnas = bow.shape\n",
    "    assert columnas == len(vocabulario), \"El vocabulario no coincide con columnas en BOW\"\n",
    "    \n",
    "\n",
    "    Nk = (bow > 0).sum(axis=0) # Tamaño \n",
    "    T = renglones\n",
    "\n",
    "    dor = np.zeros((renglones, columnas), dtype=float)\n",
    "    \n",
    "    for i in range(renglones):\n",
    "        for j in range(columnas):\n",
    "            dor[i, j] = calcular_peso(bow[i, j], Nk[j], T)\n",
    "            \n",
    "    return dor"
   ]
  },
  {
   "cell_type": "code",
   "execution_count": 181,
   "id": "5e66c270",
   "metadata": {},
   "outputs": [
    {
     "name": "stdout",
     "output_type": "stream",
     "text": [
      "(5278, 5000)\n"
     ]
    }
   ],
   "source": [
    "dor = compute_dor(bolsa_de_palabras_tr, vocabulario)\n",
    "print(dor.shape)"
   ]
  },
  {
   "cell_type": "code",
   "execution_count": 182,
   "id": "f2974375",
   "metadata": {},
   "outputs": [
    {
     "data": {
      "text/plain": [
       "array([[0.        , 1.61486246, 0.        , ..., 0.        , 0.        ,\n",
       "        0.        ],\n",
       "       [0.        , 0.        , 0.        , ..., 0.        , 0.        ,\n",
       "        0.        ],\n",
       "       [0.        , 0.80743123, 0.        , ..., 0.        , 0.        ,\n",
       "        0.        ],\n",
       "       ...,\n",
       "       [0.        , 0.80743123, 0.        , ..., 0.        , 0.        ,\n",
       "        0.        ],\n",
       "       [1.84894225, 0.        , 0.        , ..., 0.        , 0.        ,\n",
       "        0.        ],\n",
       "       [0.92447113, 0.80743123, 0.        , ..., 0.        , 0.        ,\n",
       "        0.        ]], shape=(5278, 5000))"
      ]
     },
     "execution_count": 182,
     "metadata": {},
     "output_type": "execute_result"
    }
   ],
   "source": [
    "dor"
   ]
  },
  {
   "cell_type": "code",
   "execution_count": 190,
   "id": "d8137792",
   "metadata": {},
   "outputs": [],
   "source": [
    "def compute_dor_profe(TR):\n",
    "    DTR = np.zeros((TR.shape[0], TR.shape[1]), dtype=float)\n",
    "\n",
    "    tam_v = TR.shape[1] # Tamaño del vocabulario TOTAL\n",
    "    \n",
    "    for i,doc in enumerate(TR):\n",
    "        non_zero_positions = np.nonzero(doc)[0] # Esto me dice las dimensiones que no son cero\n",
    "        tamaño_vocabulario = len(non_zero_positions)\n",
    "        for termino in non_zero_positions:\n",
    "            DTR[i, termino] = doc[termino] * np.log(tam_v / tamaño_vocabulario)\n",
    "    return DTR"
   ]
  },
  {
   "cell_type": "code",
   "execution_count": 191,
   "id": "d2786ddc",
   "metadata": {},
   "outputs": [
    {
     "data": {
      "text/plain": [
       "array([[ 0.        , 10.94534151,  0.        , ...,  0.        ,\n",
       "         0.        ,  0.        ],\n",
       "       [ 0.        ,  0.        ,  0.        , ...,  0.        ,\n",
       "         0.        ,  0.        ],\n",
       "       [ 0.        ,  6.2146081 ,  0.        , ...,  0.        ,\n",
       "         0.        ,  0.        ],\n",
       "       ...,\n",
       "       [ 0.        ,  6.57128304,  0.        , ...,  0.        ,\n",
       "         0.        ,  0.        ],\n",
       "       [11.61828598,  0.        ,  0.        , ...,  0.        ,\n",
       "         0.        ,  0.        ],\n",
       "       [ 5.95224383,  5.95224383,  0.        , ...,  0.        ,\n",
       "         0.        ,  0.        ]], shape=(5278, 5000))"
      ]
     },
     "execution_count": 191,
     "metadata": {},
     "output_type": "execute_result"
    }
   ],
   "source": [
    "DTR = compute_dor_profe(bolsa_de_palabras_tr)\n",
    "\n",
    "DTR"
   ]
  }
 ],
 "metadata": {
  "kernelspec": {
   "display_name": "semestre-v",
   "language": "python",
   "name": "python3"
  },
  "language_info": {
   "codemirror_mode": {
    "name": "ipython",
    "version": 3
   },
   "file_extension": ".py",
   "mimetype": "text/x-python",
   "name": "python",
   "nbconvert_exporter": "python",
   "pygments_lexer": "ipython3",
   "version": "3.12.9"
  }
 },
 "nbformat": 4,
 "nbformat_minor": 5
}
