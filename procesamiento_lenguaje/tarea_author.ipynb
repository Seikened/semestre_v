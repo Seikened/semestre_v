{
 "cells": [
  {
   "cell_type": "markdown",
   "id": "4da3245f",
   "metadata": {},
   "source": [
    "# FERNANDO LEON FRANCO"
   ]
  },
  {
   "cell_type": "code",
   "execution_count": 87,
   "id": "ae49b9d2",
   "metadata": {},
   "outputs": [],
   "source": [
    "import numpy as np\n",
    "import polars as pl\n",
    "from bs4 import BeautifulSoup\n",
    "import os\n",
    "from colorstreak import log\n"
   ]
  },
  {
   "cell_type": "markdown",
   "id": "f88a55da",
   "metadata": {},
   "source": [
    "# MEJORAR LA CARGA DESDE UN CSV"
   ]
  },
  {
   "cell_type": "code",
   "execution_count": 88,
   "id": "8a4e63c2",
   "metadata": {},
   "outputs": [
    {
     "name": "stdout",
     "output_type": "stream",
     "text": [
      "\u001b[94m[INFO] Archivo CSV creado en: \"/Users/ferleon/Github/semestre_v/procesamiento_lenguaje/data/author_profiling/es_test/truth_test.csv\"\u001b[0m\n",
      "\u001b[94m[INFO] Archivo CSV creado en: \"/Users/ferleon/Github/semestre_v/procesamiento_lenguaje/data/author_profiling/es_train/truth_train.csv\"\u001b[0m\n"
     ]
    }
   ],
   "source": [
    "def generar_csv(path_lectura, path_guardado):\n",
    "    # Obtener la ruta absoluta del directorio actual\n",
    "    # Leerlo y convertirlo en un DataFrame .csv para manipularlo mejor\n",
    "    with open(path_lectura, 'r', encoding='utf-8') as file:\n",
    "        lines = file.readlines()\n",
    "        \n",
    "    data = [line.strip().split(\":::\") for line in lines]\n",
    "\n",
    "\n",
    "    df = pl.DataFrame(data, schema=[\"id\", \"genero\", \"pais\"], orient=\"row\")\n",
    "\n",
    "\n",
    "    # Guardar el DataFrame como un archivo .csv\n",
    "    df.write_csv(path_guardado)\n",
    "    return True\n",
    "\n",
    "# ==================== Configuración de rutas =====================\n",
    "\n",
    "\n",
    "base_path = os.getcwd()\n",
    "\n",
    "# ===================== Creación de CSV de datos de prueba =====================\n",
    "ruta_lectura_prueba = os.path.join(base_path, \"data/author_profiling/es_test/truth.txt\")\n",
    "ruta_guardado_prueba = os.path.join(base_path, \"data/author_profiling/es_test/truth_test.csv\")\n",
    "\n",
    "creado = generar_csv(ruta_lectura_prueba, ruta_guardado_prueba)\n",
    "\n",
    "if creado:\n",
    "    log.info(f'Archivo CSV creado en: \"{ruta_guardado_prueba}\"')\n",
    "# ==============================================================================\n",
    "\n",
    "\n",
    "# ===================== Creación de CSV de datos de entrenamiento ==============\n",
    "ruta_lectura_entrenamiento = os.path.join(base_path, \"data/author_profiling/es_train/truth.txt\")\n",
    "ruta_guardado_entrenamiento = os.path.join(base_path, \"data/author_profiling/es_train/truth_train.csv\")\n",
    "\n",
    "creado_entrenamiento = generar_csv(ruta_lectura_entrenamiento, ruta_guardado_entrenamiento)\n",
    "if creado_entrenamiento:\n",
    "    log.info(f'Archivo CSV creado en: \"{ruta_guardado_entrenamiento}\"')\n",
    "# ==============================================================================\n",
    "\n"
   ]
  },
  {
   "cell_type": "markdown",
   "id": "8e521660",
   "metadata": {},
   "source": [
    "# CARGAR LOS INDICES DESDE TRUTH DESDE EL CSV"
   ]
  },
  {
   "cell_type": "code",
   "execution_count": 89,
   "id": "c8e4c644",
   "metadata": {},
   "outputs": [
    {
     "name": "stdout",
     "output_type": "stream",
     "text": [
      "\u001b[92m[DEBUG] ID del archivo: 74bcc9b0882c8440716ff370494aea09\u001b[0m\n",
      "\u001b[94m[INFO] ruta archivo: /Users/ferleon/Github/semestre_v/procesamiento_lenguaje/data/author_profiling/es_train/74bcc9b0882c8440716ff370494aea09.xml\u001b[0m\n",
      "\u001b[92m[DEBUG] Contenido del archivo: <author lang=\"es\">\n",
      "\t<documents>\n",
      "\t\t<document><![CDATA[Tiene que valer la pena que esté despierta a esta hora #HoylosGrammycon40]]></document>\n",
      "\t\t<document><![CDATA[Tintas chinas, si ven ésto, estoy buscándolas por todas partes, aparezcan que mañana hay plásticas, ¿sí? Xoxo]]></document>\n",
      "\t\t<document><![CDATA[\"Maestro no le abrió!\" -Ay qué pesar contigo Yuri Yanet.]]></document>\n",
      "\t\t<document><![CDATA[Lo bueno de no estar enamorado es que nadie se fastidia con los 53,2197 tweets depresivos corta venas que ecriben al día.]]></document>\n",
      "\t\t<document><![CDATA[Recordaré este día como el día que duró 2568 semanas.]]></document>\n",
      "\t\t<document><![CDATA[Que vuelvas y te quedes para siempre.]]></document>\n",
      "\t\t<document><![CDATA[Resulta que el punto al lado de la luna de hoy era Venus, y no le tomé foto, qué tragedia.]]></document>\n",
      "\t\t<document><![CDATA[@Dajo97 un planeta con forma de punto desde la vista terrestre.]]></document>\n",
      "\t\t<document><![CDATA[Por qué nunca me salen en el tl los que ganan :'( #EdShee...\u001b[0m\n"
     ]
    }
   ],
   "source": [
    "def cargar_xml(id_archivo, train=True):\n",
    "    ruta_base = os.path.join(base_path, \"data/author_profiling/es_test\" if not train else \"data/author_profiling/es_train\")\n",
    "    ruta_archivo = os.path.join(ruta_base, f\"{id_archivo}.xml\")\n",
    "    log.info(f\"ruta archivo: {ruta_archivo}\")\n",
    "    \n",
    "    with open(ruta_archivo, 'r', encoding='utf-8') as file:\n",
    "        contenido = file.read()\n",
    "        \n",
    "    log.debug(f'Contenido del archivo: {contenido[:1000]}...')  \n",
    "\n",
    "# ===================== Cargar CSV de datos de entrenamiento ==================\n",
    " \n",
    "df_train = pl.read_csv(ruta_guardado_entrenamiento)\n",
    "df_train.head()\n",
    "\n",
    "id_archivo = df_train['id'][0]\n",
    "log.debug(f'ID del archivo: {id_archivo}')\n",
    "\n",
    "cargar_xml(id_archivo)\n"
   ]
  }
 ],
 "metadata": {
  "kernelspec": {
   "display_name": "semestre-v",
   "language": "python",
   "name": "python3"
  },
  "language_info": {
   "codemirror_mode": {
    "name": "ipython",
    "version": 3
   },
   "file_extension": ".py",
   "mimetype": "text/x-python",
   "name": "python",
   "nbconvert_exporter": "python",
   "pygments_lexer": "ipython3",
   "version": "3.12.9"
  }
 },
 "nbformat": 4,
 "nbformat_minor": 5
}
