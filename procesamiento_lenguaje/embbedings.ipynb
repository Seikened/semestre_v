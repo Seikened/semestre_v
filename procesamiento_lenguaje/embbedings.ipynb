{
 "cells": [
  {
   "cell_type": "markdown",
   "id": "422d5f05",
   "metadata": {},
   "source": [
    "# FERNANDO LON FRANCO"
   ]
  },
  {
   "cell_type": "code",
   "execution_count": 19,
   "id": "6a714d8d",
   "metadata": {},
   "outputs": [],
   "source": [
    "import numpy as np\n",
    "from sklearn.decomposition import PCA\n",
    "import pandas as pd\n",
    "import matplotlib.pyplot as plt"
   ]
  },
  {
   "cell_type": "code",
   "execution_count": 20,
   "id": "8db72d2f",
   "metadata": {},
   "outputs": [],
   "source": [
    "from gensim.models import KeyedVectors # Version 4.3.3"
   ]
  },
  {
   "cell_type": "code",
   "execution_count": 21,
   "id": "a8f2c0d8",
   "metadata": {},
   "outputs": [],
   "source": [
    "ruta = \"/Users/ferleon/Github/GNvectors.bin\"\n",
    "model = KeyedVectors.load_word2vec_format(ruta, binary=True)"
   ]
  },
  {
   "cell_type": "code",
   "execution_count": 22,
   "id": "bd7d6149",
   "metadata": {},
   "outputs": [],
   "source": [
    "def pp(obj):\n",
    "    print(pd.DataFrame(obj))"
   ]
  },
  {
   "cell_type": "code",
   "execution_count": 23,
   "id": "43eceb76",
   "metadata": {},
   "outputs": [
    {
     "name": "stdout",
     "output_type": "stream",
     "text": [
      "            0\n",
      "0   -0.144531\n",
      "1   -0.026489\n",
      "2    0.117676\n",
      "3    0.213867\n",
      "4   -0.042236\n",
      "..        ...\n",
      "295 -0.076660\n",
      "296  0.069824\n",
      "297 -0.095215\n",
      "298 -0.098145\n",
      "299 -0.012268\n",
      "\n",
      "[300 rows x 1 columns]\n"
     ]
    }
   ],
   "source": [
    "pp(model['table'])"
   ]
  }
 ],
 "metadata": {
  "kernelspec": {
   "display_name": "semestre-v",
   "language": "python",
   "name": "python3"
  },
  "language_info": {
   "codemirror_mode": {
    "name": "ipython",
    "version": 3
   },
   "file_extension": ".py",
   "mimetype": "text/x-python",
   "name": "python",
   "nbconvert_exporter": "python",
   "pygments_lexer": "ipython3",
   "version": "3.12.9"
  }
 },
 "nbformat": 4,
 "nbformat_minor": 5
}
