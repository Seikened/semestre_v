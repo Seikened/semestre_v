{
 "cells": [
  {
   "cell_type": "code",
   "execution_count": 1,
   "id": "b1823098",
   "metadata": {},
   "outputs": [],
   "source": [
    "import numpy as np\n",
    "import openpyxl\n",
    "import polars as pl"
   ]
  },
  {
   "cell_type": "code",
   "execution_count": 2,
   "id": "db8ab8d8",
   "metadata": {},
   "outputs": [],
   "source": [
    "ruta = \"data/opiniones.xlsx\"\n",
    "workbook = openpyxl.load_workbook(ruta, read_only=True)\n",
    "hojas = workbook.sheetnames\n",
    "df_excel = pl.read_excel(ruta, sheet_id=2).lazy()"
   ]
  },
  {
   "cell_type": "code",
   "execution_count": 3,
   "id": "ed7a6481",
   "metadata": {},
   "outputs": [],
   "source": [
    "\n",
    "def obtener_nombre_hoja(sheet_index: int) -> str:\n",
    "    \"\"\"Obtiene el nombre de la hoja dado su índice.\"\"\"\n",
    "    nombre_hoja = hojas[sheet_index]\n",
    "    print(f\"Nombre de la hoja: {nombre_hoja}\")\n",
    "    return nombre_hoja\n",
    "\n",
    "\n",
    "def añadir_columna_lugar_turistico(df_excel: pl.LazyFrame, iteracion: int) -> pl.LazyFrame:\n",
    "    nombre_hoja = obtener_nombre_hoja(iteracion)\n",
    "    df_excel = (\n",
    "        df_excel\n",
    "        .with_columns([\n",
    "            pl.lit(nombre_hoja).alias(\"lugar_turistico\")\n",
    "        ])\n",
    "    )\n",
    "    return df_excel\n",
    "\n",
    "\n",
    "def juntar_df(lista_df: list[pl.LazyFrame]) -> pl.LazyFrame:\n",
    "    nuevo_df_excel = pl.concat(lista_df)\n",
    "    return nuevo_df_excel\n"
   ]
  },
  {
   "cell_type": "code",
   "execution_count": 4,
   "id": "9dec8181",
   "metadata": {},
   "outputs": [
    {
     "name": "stdout",
     "output_type": "stream",
     "text": [
      "Nombre de la hoja: Basilica Colegiata 560\n",
      "Nombre de la hoja: Mercado Hidalgo 600\n",
      "Nombre de la hoja: Casa de Diego Rivera 698\n",
      "Nombre de la hoja: Universidad de Guanajuato 900\n",
      "Nombre de la hoja: Alhóndiga 930\n",
      "Nombre de la hoja: Teatro Juárez 1,010\n",
      "Nombre de la hoja: Jardín de la Unión 1,134\n",
      "Nombre de la hoja: Callejón del Beso 1,360\n",
      "Nombre de la hoja: Monumento Pípila 1,620\n",
      "Nombre de la hoja: Museo de las Momias 1,650\n"
     ]
    }
   ],
   "source": [
    "lista_df: list[pl.LazyFrame] = []\n",
    "for i, hoja in enumerate(hojas):\n",
    "    df_excel = añadir_columna_lugar_turistico(df_excel, i)\n",
    "    lista_df.append(df_excel)\n",
    "df_excel = juntar_df(lista_df)"
   ]
  },
  {
   "cell_type": "code",
   "execution_count": 5,
   "id": "3e084f3f",
   "metadata": {},
   "outputs": [
    {
     "name": "stdout",
     "output_type": "stream",
     "text": [
      "shape: (6_000, 13)\n",
      "┌───────────┬──────┬─────────────┬────────────┬───┬─────────┬────────────┬────────────┬────────────┐\n",
      "│ Género    ┆ Edad ┆ Nacional ó  ┆ Calificaci ┆ … ┆ Idioma  ┆ Dispositiv ┆ Fecha      ┆ lugar_turi │\n",
      "│ ---       ┆ ---  ┆ Internacion ┆ ón         ┆   ┆ ---     ┆ o          ┆ ---        ┆ stico      │\n",
      "│ str       ┆ i64  ┆ al          ┆ ---        ┆   ┆ str     ┆ ---        ┆ date       ┆ ---        │\n",
      "│           ┆      ┆ ---         ┆ str        ┆   ┆         ┆ str        ┆            ┆ str        │\n",
      "│           ┆      ┆ str         ┆            ┆   ┆         ┆            ┆            ┆            │\n",
      "╞═══════════╪══════╪═════════════╪════════════╪═══╪═════════╪════════════╪════════════╪════════════╡\n",
      "│ Femenino  ┆ 33   ┆ Internacion ┆ Excelente  ┆ … ┆ Inglés  ┆ Móvil      ┆ 2018-04-20 ┆ Basilica   │\n",
      "│           ┆      ┆ al          ┆            ┆   ┆         ┆            ┆            ┆ Colegiata  │\n",
      "│           ┆      ┆             ┆            ┆   ┆         ┆            ┆            ┆ 560        │\n",
      "│ Masculino ┆ 50   ┆ Internacion ┆ Muy bueno  ┆ … ┆ Inglés  ┆ Móvil      ┆ 2018-04-15 ┆ Basilica   │\n",
      "│           ┆      ┆ al          ┆            ┆   ┆         ┆            ┆            ┆ Colegiata  │\n",
      "│           ┆      ┆             ┆            ┆   ┆         ┆            ┆            ┆ 560        │\n",
      "│ Femenino  ┆ 24   ┆ Internacion ┆ Excelente  ┆ … ┆ Coreano ┆ Móvil      ┆ 2018-04-10 ┆ Basilica   │\n",
      "│           ┆      ┆ al          ┆            ┆   ┆         ┆            ┆            ┆ Colegiata  │\n",
      "│           ┆      ┆             ┆            ┆   ┆         ┆            ┆            ┆ 560        │\n",
      "│ Masculino ┆ 32   ┆ Nacional    ┆ Regular    ┆ … ┆ Español ┆ Móvil      ┆ 2018-04-08 ┆ Basilica   │\n",
      "│           ┆      ┆             ┆            ┆   ┆         ┆            ┆            ┆ Colegiata  │\n",
      "│           ┆      ┆             ┆            ┆   ┆         ┆            ┆            ┆ 560        │\n",
      "│ Masculino ┆ 48   ┆ Internacion ┆ Regular    ┆ … ┆ Inglés  ┆ PC         ┆ 2018-04-07 ┆ Basilica   │\n",
      "│           ┆      ┆ al          ┆            ┆   ┆         ┆            ┆            ┆ Colegiata  │\n",
      "│           ┆      ┆             ┆            ┆   ┆         ┆            ┆            ┆ 560        │\n",
      "│ …         ┆ …    ┆ …           ┆ …          ┆ … ┆ …       ┆ …          ┆ …          ┆ …          │\n",
      "│ Masculino ┆ 39   ┆ Internacion ┆ Muy bueno  ┆ … ┆ Inglés  ┆ PC         ┆ 2010-10-05 ┆ Museo de   │\n",
      "│           ┆      ┆ al          ┆            ┆   ┆         ┆            ┆            ┆ las Momias │\n",
      "│           ┆      ┆             ┆            ┆   ┆         ┆            ┆            ┆ 1,650      │\n",
      "│ Femenino  ┆ 37   ┆ Nacional    ┆ Muy bueno  ┆ … ┆ Español ┆ PC         ┆ 2010-04-01 ┆ Museo de   │\n",
      "│           ┆      ┆             ┆            ┆   ┆         ┆            ┆            ┆ las Momias │\n",
      "│           ┆      ┆             ┆            ┆   ┆         ┆            ┆            ┆ 1,650      │\n",
      "│ Masculino ┆ 45   ┆ Internacion ┆ Muy bueno  ┆ … ┆ Inglés  ┆ PC         ┆ 2010-03-27 ┆ Museo de   │\n",
      "│           ┆      ┆ al          ┆            ┆   ┆         ┆            ┆            ┆ las Momias │\n",
      "│           ┆      ┆             ┆            ┆   ┆         ┆            ┆            ┆ 1,650      │\n",
      "│ Masculino ┆ null ┆ Internacion ┆ Muy bueno  ┆ … ┆ Japonés ┆ PC         ┆ 2009-03-28 ┆ Museo de   │\n",
      "│           ┆      ┆ al          ┆            ┆   ┆         ┆            ┆            ┆ las Momias │\n",
      "│           ┆      ┆             ┆            ┆   ┆         ┆            ┆            ┆ 1,650      │\n",
      "│ Masculino ┆ 64   ┆ Internacion ┆ Excelente  ┆ … ┆ Inglés  ┆ PC         ┆ 2007-11-19 ┆ Museo de   │\n",
      "│           ┆      ┆ al          ┆            ┆   ┆         ┆            ┆            ┆ las Momias │\n",
      "│           ┆      ┆             ┆            ┆   ┆         ┆            ┆            ┆ 1,650      │\n",
      "└───────────┴──────┴─────────────┴────────────┴───┴─────────┴────────────┴────────────┴────────────┘\n",
      "Archivo guardado en: data/opiniones_lugar_turistico.parquet\n"
     ]
    }
   ],
   "source": [
    "df_excel = df_excel.collect()\n",
    "\n",
    "print(df_excel)\n",
    "\n",
    "\n",
    "# Guardar el DataFrame en un parquet\n",
    "df_excel.write_parquet(\"data/opiniones_lugar_turistico.parquet\")\n",
    "print(\"Archivo guardado en: data/opiniones_lugar_turistico.parquet\")"
   ]
  }
 ],
 "metadata": {
  "kernelspec": {
   "display_name": "semestre-v",
   "language": "python",
   "name": "python3"
  },
  "language_info": {
   "codemirror_mode": {
    "name": "ipython",
    "version": 3
   },
   "file_extension": ".py",
   "mimetype": "text/x-python",
   "name": "python",
   "nbconvert_exporter": "python",
   "pygments_lexer": "ipython3",
   "version": "3.12.9"
  }
 },
 "nbformat": 4,
 "nbformat_minor": 5
}
