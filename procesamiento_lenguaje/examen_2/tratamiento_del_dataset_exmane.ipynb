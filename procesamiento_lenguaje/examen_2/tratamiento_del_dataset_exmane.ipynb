{
 "cells": [
  {
   "cell_type": "code",
   "execution_count": 236,
   "id": "b1823098",
   "metadata": {},
   "outputs": [],
   "source": [
    "import openpyxl\n",
    "import polars as pl\n",
    "from nltk.corpus import stopwords\n",
    "from nltk.tokenize import TweetTokenizer\n",
    "import re\n",
    "\n"
   ]
  },
  {
   "cell_type": "code",
   "execution_count": 237,
   "id": "96c33904",
   "metadata": {},
   "outputs": [],
   "source": [
    "IMPRIMIR = False\n",
    "\n",
    "def imprimir(mensaje: str, parametros=None, collect_lazy_frame=False, **kwargs):\n",
    "    if not IMPRIMIR:\n",
    "        return\n",
    "    # Normaliza la fuente de valores: dict explícito o kwargs\n",
    "    values = {}\n",
    "    if isinstance(parametros, dict):\n",
    "        values.update(parametros)\n",
    "    values.update(kwargs)\n",
    "\n",
    "    # Soporte opcional para LazyFrame\n",
    "    if collect_lazy_frame:\n",
    "        for k, v in list(values.items()):\n",
    "            if hasattr(v, \"collect\"):\n",
    "                values[k] = v.collect()\n",
    "\n",
    "    print(mensaje.format(**values))"
   ]
  },
  {
   "cell_type": "code",
   "execution_count": 238,
   "id": "db8ab8d8",
   "metadata": {},
   "outputs": [],
   "source": [
    "ruta = \"data/opiniones.xlsx\"\n",
    "workbook = openpyxl.load_workbook(ruta, read_only=True)\n",
    "hojas = workbook.sheetnames\n"
   ]
  },
  {
   "cell_type": "code",
   "execution_count": 239,
   "id": "ed7a6481",
   "metadata": {},
   "outputs": [],
   "source": [
    "\n",
    "def obtener_nombre_hoja(sheet_index: int) -> str:\n",
    "    \"\"\"Obtiene el nombre de la hoja dado su índice.\"\"\"\n",
    "    nombre_hoja = hojas[sheet_index].lower().replace(\" \", \"_\")\n",
    "    imprimir(f\"Nombre de la hoja: {nombre_hoja}\")\n",
    "    return nombre_hoja\n",
    "\n",
    "\n",
    "def calificaciones(calificacion:str) -> int:\n",
    "    \"\"\"Convierte la calificación de string a int.\"\"\"\n",
    "    calificacion_map = {\n",
    "        \"Pésimo\": 1,\n",
    "        \"Malo\": 2,\n",
    "        \"Regular\": 3,\n",
    "        \"Muy bueno\": 4,\n",
    "        \"Excelente\": 5\n",
    "    }\n",
    "    return calificacion_map.get(calificacion, 0)\n",
    "\n",
    "\n",
    "def tratar_columna(col:str) -> str:\n",
    "    \"\"\"Trata el nombre de una columna para que sea válido en polars.\"\"\"\n",
    "    col = col.strip().lower().replace(\" \", \"_\").replace(\"-\", \"_\")\n",
    "    return col\n",
    "\n",
    "\n",
    "def añadir_columna_lugar_turistico(iteracion: int) -> pl.LazyFrame:\n",
    "    df_excel = pl.read_excel(ruta, sheet_id=iteracion+1).lazy()\n",
    "    nombre_hoja = obtener_nombre_hoja(iteracion)\n",
    "    \n",
    "    df_excel = (\n",
    "        df_excel\n",
    "        .with_columns([\n",
    "            pl.lit(nombre_hoja).alias(\"lugar_turistico\"),\n",
    "            pl.col(\"Calificación\").map_elements(calificaciones).alias(\"calificacion_numerica\"),\n",
    "        ])\n",
    "    )\n",
    "\n",
    "    df_excel = df_excel.rename({col: tratar_columna(col) for col in df_excel.collect_schema().names()})\n",
    "    return df_excel\n",
    "\n",
    "\n",
    "def juntar_df(lista_df: list[pl.LazyFrame]) -> pl.LazyFrame:\n",
    "    nuevo_df_excel = pl.concat(lista_df)\n",
    "    return nuevo_df_excel\n",
    "\n",
    "\n"
   ]
  },
  {
   "cell_type": "markdown",
   "id": "b4d63498",
   "metadata": {},
   "source": [
    "# Limpiezsa y tratamiento del dataset"
   ]
  },
  {
   "cell_type": "code",
   "execution_count": 240,
   "id": "9dec8181",
   "metadata": {},
   "outputs": [],
   "source": [
    "lista_df: list[pl.LazyFrame] = []\n",
    "for i, hoja in enumerate(hojas):\n",
    "    lista_df.append(añadir_columna_lugar_turistico(i))\n",
    "\n",
    "df_excel = juntar_df(lista_df)\n"
   ]
  },
  {
   "cell_type": "code",
   "execution_count": 241,
   "id": "3e084f3f",
   "metadata": {},
   "outputs": [],
   "source": [
    "# Guardar el DataFrame en un parquet\n",
    "ruta_parquet = \"data/opiniones_lugar_turistico.parquet\"\n",
    "\n",
    "df_excel = df_excel.collect()\n",
    "df_excel.write_parquet(ruta_parquet)\n",
    "\n",
    "imprimir(\"Archivo guardado en: {ruta_parquet}\", {\"ruta_parquet\": ruta_parquet})"
   ]
  },
  {
   "cell_type": "code",
   "execution_count": 242,
   "id": "c9a9d247",
   "metadata": {},
   "outputs": [],
   "source": [
    "df_reseñas = pl.scan_parquet(ruta_parquet)\n",
    "\n",
    "\n",
    "imprimir(f\"{df_reseñas.collect()['opinión'][:5]}\")"
   ]
  },
  {
   "cell_type": "code",
   "execution_count": 243,
   "id": "31e25108",
   "metadata": {},
   "outputs": [],
   "source": [
    "\n",
    "def estadisticos(lf: pl.LazyFrame) -> pl.DataFrame:\n",
    "    stats = (\n",
    "        lf\n",
    "        .group_by(\"lugar_turistico\")\n",
    "        .agg([\n",
    "            # Promedio de calificación\n",
    "            pl.col(\"calificacion_numerica\").mean().alias(\"promedio_calificacion\"),\n",
    "            # Desviación estándar de calificación\n",
    "            pl.col(\"calificacion_numerica\").std().alias(\"desviacion_estandar_calificacion\"),\n",
    "\n",
    "            # Longitud promedio y std de las opiniones\n",
    "            pl.col(\"opinión\").str.split(\" \").list.len().mean().alias(\"longitud_promedio_opiniones\"),\n",
    "\n",
    "            # Desviación estándar de la longitud de las opiniones\n",
    "            pl.col(\"opinión\").str.split(\" \").list.len().std().alias(\"desviacion_estandar_longitud_opiniones\"),\n",
    "\n",
    "            # Edad promedio\n",
    "            pl.col(\"edad\").mean().alias(\"edad_promedio\"),\n",
    "            # Desviación estándar de la edad\n",
    "            pl.col(\"edad\").std().alias(\"desviacion_estandar_edad\"),\n",
    "\n",
    "            # % nacional como aproximación a (d) (aun no jala bien)\n",
    "            # TODO: revisar esta parte\n",
    "            (\n",
    "                (pl.col(\"nacional_ó_internacional\") == \"nacional\")\n",
    "                .cast(pl.Int8)\n",
    "                .mean()\n",
    "                .alias(\"porcentaje_nacional\")\n",
    "            ),\n",
    "        ])\n",
    "    )\n",
    "\n",
    "    return stats.collect()\n",
    "\n",
    "\n",
    "imprimir(f\"{estadisticos(df_reseñas)}\")"
   ]
  },
  {
   "cell_type": "markdown",
   "id": "cf31df28",
   "metadata": {},
   "source": [
    "# CONTRUCCION DEL VOCABULARIO, DISTRIBUCIÓN FRECUENCIAS"
   ]
  },
  {
   "cell_type": "code",
   "execution_count": 244,
   "id": "5f155e5c",
   "metadata": {},
   "outputs": [],
   "source": [
    "def tokenizador(texto: str) -> list[str]:\n",
    "    sos = \"<SOS>\"\n",
    "    eos = \"<EOS>\"\n",
    "    stop_words = set(stopwords.words(\"spanish\"))\n",
    "    t = TweetTokenizer()\n",
    "\n",
    "    texto  =   re.sub(r'^.', sos, texto)\n",
    "    texto  =   re.sub(r'.$', eos, texto)\n",
    "    texto_lower = t.tokenize(texto.lower().strip())\n",
    "    if not texto_lower:\n",
    "        return [sos, eos]\n",
    "    \n",
    "    texto_tokenizado = [token  for token in texto_lower if token not in stop_words]\n",
    "    return texto_tokenizado\n",
    "\n",
    "\n",
    "\n",
    "df_reseñas = (\n",
    "    df_reseñas\n",
    "    .with_columns([\n",
    "        pl.col(\"opinión\").map_elements(tokenizador).alias(\"opinión_tokenizada\")\n",
    "    ])\n",
    ")\n",
    "\n",
    "\n",
    "#imprimir(f\"{df_reseñas.collect()['opinión_tokenizada'][0]}\")"
   ]
  },
  {
   "cell_type": "markdown",
   "id": "df52d557",
   "metadata": {},
   "source": [
    "# Distribución de frecuenciaS"
   ]
  },
  {
   "cell_type": "code",
   "execution_count": 245,
   "id": "eba89b65",
   "metadata": {},
   "outputs": [],
   "source": [
    "distribucion_frecuencias = (\n",
    "    df_reseñas\n",
    "    .explode(\"opinión_tokenizada\")\n",
    "    .group_by(\"opinión_tokenizada\")\n",
    "    .agg([\n",
    "        pl.len().alias(\"frecuencia\")\n",
    "    ])\n",
    "    .sort(\"frecuencia\", descending=True)\n",
    ")\n",
    "\n",
    "#imprimir(f\"{distribucion_frecuencias.collect()}\")"
   ]
  },
  {
   "cell_type": "markdown",
   "id": "c448b8ec",
   "metadata": {},
   "source": [
    "# VOCABILARIO"
   ]
  },
  {
   "cell_type": "code",
   "execution_count": 246,
   "id": "91ee0556",
   "metadata": {},
   "outputs": [
    {
     "name": "stdout",
     "output_type": "stream",
     "text": [
      "shape: (23_099, 1)\n",
      "┌────────────────────┐\n",
      "│ opinión_tokenizada │\n",
      "│ ---                │\n",
      "│ str                │\n",
      "╞════════════════════╡\n",
      "│ .                  │\n",
      "│ ,                  │\n",
      "│ the                │\n",
      "│ <eos>              │\n",
      "│ <sos>              │\n",
      "│ …                  │\n",
      "│ doorways           │\n",
      "│ detonaron          │\n",
      "│ íntimas            │\n",
      "│ foyers             │\n",
      "│ nearlly            │\n",
      "└────────────────────┘\n"
     ]
    }
   ],
   "source": [
    "vocabulario = (\n",
    "    distribucion_frecuencias\n",
    "    .select(pl.col(\"opinión_tokenizada\"))\n",
    ")\n",
    "\n",
    "\n",
    "print(f\"{vocabulario.collect()}\")"
   ]
  }
 ],
 "metadata": {
  "kernelspec": {
   "display_name": "semestre-v",
   "language": "python",
   "name": "python3"
  },
  "language_info": {
   "codemirror_mode": {
    "name": "ipython",
    "version": 3
   },
   "file_extension": ".py",
   "mimetype": "text/x-python",
   "name": "python",
   "nbconvert_exporter": "python",
   "pygments_lexer": "ipython3",
   "version": "3.12.9"
  }
 },
 "nbformat": 4,
 "nbformat_minor": 5
}
