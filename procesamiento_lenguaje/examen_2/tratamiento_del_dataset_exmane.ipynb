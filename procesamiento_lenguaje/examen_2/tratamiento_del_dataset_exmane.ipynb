{
 "cells": [
  {
   "cell_type": "code",
   "execution_count": 88,
   "id": "b1823098",
   "metadata": {},
   "outputs": [],
   "source": [
    "import openpyxl\n",
    "import polars as pl"
   ]
  },
  {
   "cell_type": "code",
   "execution_count": 89,
   "id": "db8ab8d8",
   "metadata": {},
   "outputs": [],
   "source": [
    "ruta = \"data/opiniones.xlsx\"\n",
    "workbook = openpyxl.load_workbook(ruta, read_only=True)\n",
    "hojas = workbook.sheetnames\n"
   ]
  },
  {
   "cell_type": "code",
   "execution_count": 90,
   "id": "ed7a6481",
   "metadata": {},
   "outputs": [],
   "source": [
    "\n",
    "def obtener_nombre_hoja(sheet_index: int) -> str:\n",
    "    \"\"\"Obtiene el nombre de la hoja dado su índice.\"\"\"\n",
    "    nombre_hoja = hojas[sheet_index].lower().replace(\" \", \"_\")\n",
    "    print(f\"Nombre de la hoja: {nombre_hoja}\")\n",
    "    return nombre_hoja\n",
    "\n",
    "\n",
    "def calificaciones(calificacion:str) -> int:\n",
    "    \"\"\"Convierte la calificación de string a int.\"\"\"\n",
    "    calificacion_map = {\n",
    "        \"Pésimo\": 1,\n",
    "        \"Malo\": 2,\n",
    "        \"Regular\": 3,\n",
    "        \"Muy bueno\": 4,\n",
    "        \"Excelente\": 5\n",
    "    }\n",
    "    return calificacion_map.get(calificacion, 0)\n",
    "\n",
    "\n",
    "def tratar_columna(col:str) -> str:\n",
    "    \"\"\"Trata el nombre de una columna para que sea válido en polars.\"\"\"\n",
    "    col = col.strip().lower().replace(\" \", \"_\").replace(\"-\", \"_\")\n",
    "    return col\n",
    "\n",
    "\n",
    "def añadir_columna_lugar_turistico(iteracion: int) -> pl.LazyFrame:\n",
    "    df_excel = pl.read_excel(ruta, sheet_id=iteracion+1).lazy()\n",
    "    nombre_hoja = obtener_nombre_hoja(iteracion)\n",
    "    \n",
    "    df_excel = (\n",
    "        df_excel\n",
    "        .with_columns([\n",
    "            pl.lit(nombre_hoja).alias(\"lugar_turistico\"),\n",
    "            pl.col(\"Calificación\").map_elements(calificaciones).alias(\"calificacion_numerica\")\n",
    "        ])\n",
    "    )\n",
    "\n",
    "    df_excel = df_excel.rename({col: tratar_columna(col) for col in df_excel.collect_schema().names()})\n",
    "    return df_excel\n",
    "\n",
    "\n",
    "def juntar_df(lista_df: list[pl.LazyFrame]) -> pl.LazyFrame:\n",
    "    nuevo_df_excel = pl.concat(lista_df)\n",
    "    return nuevo_df_excel\n",
    "\n",
    "\n"
   ]
  },
  {
   "cell_type": "code",
   "execution_count": 91,
   "id": "9dec8181",
   "metadata": {},
   "outputs": [
    {
     "name": "stdout",
     "output_type": "stream",
     "text": [
      "Nombre de la hoja: basilica_colegiata_560\n",
      "Nombre de la hoja: mercado_hidalgo_600\n",
      "Nombre de la hoja: casa_de_diego_rivera_698\n",
      "Nombre de la hoja: universidad_de_guanajuato_900\n",
      "Nombre de la hoja: alhóndiga_930\n",
      "Nombre de la hoja: teatro_juárez_1,010\n",
      "Nombre de la hoja: jardín_de_la_unión_1,134\n",
      "Nombre de la hoja: callejón_del_beso_1,360\n",
      "Nombre de la hoja: monumento_pípila_1,620\n",
      "Nombre de la hoja: museo_de_las_momias_1,650\n"
     ]
    }
   ],
   "source": [
    "lista_df: list[pl.LazyFrame] = []\n",
    "for i, hoja in enumerate(hojas):\n",
    "    lista_df.append(añadir_columna_lugar_turistico(i))\n",
    "\n",
    "df_excel = juntar_df(lista_df)\n"
   ]
  },
  {
   "cell_type": "code",
   "execution_count": 92,
   "id": "3e084f3f",
   "metadata": {},
   "outputs": [
    {
     "name": "stdout",
     "output_type": "stream",
     "text": [
      "Archivo guardado en: data/opiniones_lugar_turistico.parquet\n"
     ]
    }
   ],
   "source": [
    "# Guardar el DataFrame en un parquet\n",
    "ruta_parquet = \"data/opiniones_lugar_turistico.parquet\"\n",
    "\n",
    "df_excel = df_excel.collect()\n",
    "df_excel.write_parquet(ruta_parquet)\n",
    "print(f\"Archivo guardado en: {ruta_parquet}\")"
   ]
  },
  {
   "cell_type": "code",
   "execution_count": 93,
   "id": "31e25108",
   "metadata": {},
   "outputs": [
    {
     "data": {
      "text/html": [
       "<div><style>\n",
       ".dataframe > thead > tr,\n",
       ".dataframe > tbody > tr {\n",
       "  text-align: right;\n",
       "  white-space: pre-wrap;\n",
       "}\n",
       "</style>\n",
       "<small>shape: (10, 8)</small><table border=\"1\" class=\"dataframe\"><thead><tr><th>lugar_turistico</th><th>promedio_calificacion</th><th>desviacion_estandar_calificacion</th><th>longitud_promedio_opiniones</th><th>desviacion_estandar_longitud_opiniones</th><th>edad_promedio</th><th>edad_desviacion_estandar</th><th>porcentaje_nacional</th></tr><tr><td>str</td><td>f64</td><td>f64</td><td>f64</td><td>f64</td><td>f64</td><td>f64</td><td>f64</td></tr></thead><tbody><tr><td>&quot;universidad_de_guanajuato_900&quot;</td><td>4.603333</td><td>0.612613</td><td>35.391111</td><td>20.035073</td><td>39.311673</td><td>13.929438</td><td>0.0</td></tr><tr><td>&quot;basilica_colegiata_560&quot;</td><td>4.498214</td><td>0.668748</td><td>39.716071</td><td>29.414071</td><td>41.874263</td><td>14.836906</td><td>0.0</td></tr><tr><td>&quot;museo_de_las_momias_1,650&quot;</td><td>3.675152</td><td>1.136495</td><td>58.154545</td><td>46.259502</td><td>38.964744</td><td>12.886166</td><td>0.0</td></tr><tr><td>&quot;jardín_de_la_unión_1,134&quot;</td><td>4.593474</td><td>0.602724</td><td>43.118166</td><td>36.804919</td><td>41.385827</td><td>14.89092</td><td>0.0</td></tr><tr><td>&quot;teatro_juárez_1,010&quot;</td><td>4.70297</td><td>0.518146</td><td>41.511881</td><td>27.091014</td><td>41.75383</td><td>13.813232</td><td>0.0</td></tr><tr><td>&quot;monumento_pípila_1,620&quot;</td><td>4.377778</td><td>0.76795</td><td>47.35</td><td>35.763244</td><td>38.436513</td><td>13.04939</td><td>0.0</td></tr><tr><td>&quot;callejón_del_beso_1,360&quot;</td><td>3.995588</td><td>0.971247</td><td>45.522059</td><td>32.872547</td><td>38.82622</td><td>13.335956</td><td>0.0</td></tr><tr><td>&quot;casa_de_diego_rivera_698&quot;</td><td>4.24212</td><td>0.805364</td><td>49.280802</td><td>30.468154</td><td>44.348092</td><td>15.124692</td><td>0.0</td></tr><tr><td>&quot;alhóndiga_930&quot;</td><td>4.454839</td><td>0.745711</td><td>46.504301</td><td>33.822568</td><td>40.706593</td><td>13.343588</td><td>0.0</td></tr><tr><td>&quot;mercado_hidalgo_600&quot;</td><td>3.948333</td><td>0.950703</td><td>45.615</td><td>33.474982</td><td>40.693642</td><td>15.087793</td><td>0.0</td></tr></tbody></table></div>"
      ],
      "text/plain": [
       "shape: (10, 8)\n",
       "┌────────────┬────────────┬────────────┬───────────┬───────────┬───────────┬───────────┬───────────┐\n",
       "│ lugar_turi ┆ promedio_c ┆ desviacion ┆ longitud_ ┆ desviacio ┆ edad_prom ┆ edad_desv ┆ porcentaj │\n",
       "│ stico      ┆ alificacio ┆ _estandar_ ┆ promedio_ ┆ n_estanda ┆ edio      ┆ iacion_es ┆ e_naciona │\n",
       "│ ---        ┆ n          ┆ calificaci ┆ opiniones ┆ r_longitu ┆ ---       ┆ tandar    ┆ l         │\n",
       "│ str        ┆ ---        ┆ …          ┆ ---       ┆ d_o…      ┆ f64       ┆ ---       ┆ ---       │\n",
       "│            ┆ f64        ┆ ---        ┆ f64       ┆ ---       ┆           ┆ f64       ┆ f64       │\n",
       "│            ┆            ┆ f64        ┆           ┆ f64       ┆           ┆           ┆           │\n",
       "╞════════════╪════════════╪════════════╪═══════════╪═══════════╪═══════════╪═══════════╪═══════════╡\n",
       "│ universida ┆ 4.603333   ┆ 0.612613   ┆ 35.391111 ┆ 20.035073 ┆ 39.311673 ┆ 13.929438 ┆ 0.0       │\n",
       "│ d_de_guana ┆            ┆            ┆           ┆           ┆           ┆           ┆           │\n",
       "│ juato_900  ┆            ┆            ┆           ┆           ┆           ┆           ┆           │\n",
       "│ basilica_c ┆ 4.498214   ┆ 0.668748   ┆ 39.716071 ┆ 29.414071 ┆ 41.874263 ┆ 14.836906 ┆ 0.0       │\n",
       "│ olegiata_5 ┆            ┆            ┆           ┆           ┆           ┆           ┆           │\n",
       "│ 60         ┆            ┆            ┆           ┆           ┆           ┆           ┆           │\n",
       "│ museo_de_l ┆ 3.675152   ┆ 1.136495   ┆ 58.154545 ┆ 46.259502 ┆ 38.964744 ┆ 12.886166 ┆ 0.0       │\n",
       "│ as_momias_ ┆            ┆            ┆           ┆           ┆           ┆           ┆           │\n",
       "│ 1,650      ┆            ┆            ┆           ┆           ┆           ┆           ┆           │\n",
       "│ jardín_de_ ┆ 4.593474   ┆ 0.602724   ┆ 43.118166 ┆ 36.804919 ┆ 41.385827 ┆ 14.89092  ┆ 0.0       │\n",
       "│ la_unión_1 ┆            ┆            ┆           ┆           ┆           ┆           ┆           │\n",
       "│ ,134       ┆            ┆            ┆           ┆           ┆           ┆           ┆           │\n",
       "│ teatro_juá ┆ 4.70297    ┆ 0.518146   ┆ 41.511881 ┆ 27.091014 ┆ 41.75383  ┆ 13.813232 ┆ 0.0       │\n",
       "│ rez_1,010  ┆            ┆            ┆           ┆           ┆           ┆           ┆           │\n",
       "│ monumento_ ┆ 4.377778   ┆ 0.76795    ┆ 47.35     ┆ 35.763244 ┆ 38.436513 ┆ 13.04939  ┆ 0.0       │\n",
       "│ pípila_1,6 ┆            ┆            ┆           ┆           ┆           ┆           ┆           │\n",
       "│ 20         ┆            ┆            ┆           ┆           ┆           ┆           ┆           │\n",
       "│ callejón_d ┆ 3.995588   ┆ 0.971247   ┆ 45.522059 ┆ 32.872547 ┆ 38.82622  ┆ 13.335956 ┆ 0.0       │\n",
       "│ el_beso_1, ┆            ┆            ┆           ┆           ┆           ┆           ┆           │\n",
       "│ 360        ┆            ┆            ┆           ┆           ┆           ┆           ┆           │\n",
       "│ casa_de_di ┆ 4.24212    ┆ 0.805364   ┆ 49.280802 ┆ 30.468154 ┆ 44.348092 ┆ 15.124692 ┆ 0.0       │\n",
       "│ ego_rivera ┆            ┆            ┆           ┆           ┆           ┆           ┆           │\n",
       "│ _698       ┆            ┆            ┆           ┆           ┆           ┆           ┆           │\n",
       "│ alhóndiga_ ┆ 4.454839   ┆ 0.745711   ┆ 46.504301 ┆ 33.822568 ┆ 40.706593 ┆ 13.343588 ┆ 0.0       │\n",
       "│ 930        ┆            ┆            ┆           ┆           ┆           ┆           ┆           │\n",
       "│ mercado_hi ┆ 3.948333   ┆ 0.950703   ┆ 45.615    ┆ 33.474982 ┆ 40.693642 ┆ 15.087793 ┆ 0.0       │\n",
       "│ dalgo_600  ┆            ┆            ┆           ┆           ┆           ┆           ┆           │\n",
       "└────────────┴────────────┴────────────┴───────────┴───────────┴───────────┴───────────┴───────────┘"
      ]
     },
     "execution_count": 93,
     "metadata": {},
     "output_type": "execute_result"
    }
   ],
   "source": [
    "\n",
    "def estadisticos(lf: pl.LazyFrame) -> pl.DataFrame:\n",
    "    stats = (\n",
    "        lf\n",
    "        .group_by(\"lugar_turistico\")\n",
    "        .agg([\n",
    "            # promedio y desviación estándar de la calificación\n",
    "            pl.col(\"calificacion_numerica\").mean().alias(\"promedio_calificacion\"),\n",
    "            pl.col(\"calificacion_numerica\").std().alias(\"desviacion_estandar_calificacion\"),\n",
    "\n",
    "            # longitud de la opinión en número de palabras (promedio y std)\n",
    "            pl.col(\"opinión\")\n",
    "              .str.split(\" \")\n",
    "              .list.len()\n",
    "              .mean()\n",
    "              .alias(\"longitud_promedio_opiniones\"),\n",
    "\n",
    "            pl.col(\"opinión\")\n",
    "              .str.split(\" \")\n",
    "              .list.len()\n",
    "              .std()\n",
    "              .alias(\"desviacion_estandar_longitud_opiniones\"),\n",
    "\n",
    "            # edad promedio y std nada más, para tener idea básica de (c)\n",
    "            pl.col(\"edad\").mean().alias(\"edad_promedio\"),\n",
    "            pl.col(\"edad\").std().alias(\"edad_desviacion_estandar\"),\n",
    "\n",
    "            # % nacional como aproximación a (d)\n",
    "            (\n",
    "                (pl.col(\"nacional_ó_internacional\") == \"nacional\")\n",
    "                .cast(pl.Int8)\n",
    "                .mean()\n",
    "                .alias(\"porcentaje_nacional\")\n",
    "            ),\n",
    "        ])\n",
    "    )\n",
    "\n",
    "    return stats.collect()\n",
    "\n",
    "\n",
    "\n",
    "estadisticos(df_reseñas)"
   ]
  }
 ],
 "metadata": {
  "kernelspec": {
   "display_name": "semestre-v",
   "language": "python",
   "name": "python3"
  },
  "language_info": {
   "codemirror_mode": {
    "name": "ipython",
    "version": 3
   },
   "file_extension": ".py",
   "mimetype": "text/x-python",
   "name": "python",
   "nbconvert_exporter": "python",
   "pygments_lexer": "ipython3",
   "version": "3.12.9"
  }
 },
 "nbformat": 4,
 "nbformat_minor": 5
}
