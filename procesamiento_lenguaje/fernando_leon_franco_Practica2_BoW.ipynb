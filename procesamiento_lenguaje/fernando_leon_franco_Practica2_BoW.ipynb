{
  "cells": [
    {
      "cell_type": "markdown",
      "metadata": {
        "id": "yR8MBQUsomAP"
      },
      "source": [
        "# Fernando Leon Franco\n"
      ]
    },
    {
      "cell_type": "code",
      "execution_count": 1,
      "metadata": {
        "id": "oxJLMgT3of6T"
      },
      "outputs": [],
      "source": [
        "def get_texts_from_file(path_corpus, path_truth):\n",
        "    tr_txt = [] # aquí van los twitts\n",
        "    tr_y = [] # aquí voy a meter las etiquetas\n",
        "    with open(path_corpus, \"r\", encoding=\"utf-8\") as f_corpus, \\\n",
        "        open(path_truth, \"r\", encoding=\"utf-8\") as f_truth:\n",
        "        for twitt in f_corpus:\n",
        "            tr_txt += [twitt]\n",
        "        for label in f_truth:\n",
        "            tr_y += [label]\n",
        "    return tr_txt, tr_y"
      ]
    },
    {
      "cell_type": "code",
      "execution_count": 18,
      "metadata": {
        "id": "FkAfAlEQwNKn"
      },
      "outputs": [],
      "source": [
        "tr_txt_tr_y=get_texts_from_file(\"/content/mex20_train.txt\",\"/content/mex20_train_labels.txt\")"
      ]
    },
    {
      "cell_type": "code",
      "execution_count": 19,
      "metadata": {
        "colab": {
          "base_uri": "https://localhost:8080/"
        },
        "id": "CUMNpPw-twRU",
        "outputId": "6f788299-3b4b-4cb9-c540-efc4ea43e6bf"
      },
      "outputs": [
        {
          "name": "stdout",
          "output_type": "stream",
          "text": [
            "['@USUARIO @USUARIO @USUARIO Q se puede esperar del maricon de closet de la Yañez aun recuerdo esa ves q lo vi en zona rosa viendo quien lo levantada\\n', '@USUARIO La piel nueva siempre arde un poquito los primeros días... y más con este puto clima\\n', 'Ustedes no se enamoran de mí… por tontas.\\n', 'Me las va a pagar esa puta gorda roba tuits...\\n', '@USUARIO LA GENTE ES TONTA PORQUE NO SE DAN CUENTA QUE TÚ HACES A BATMAN AZUL\\n']\n",
            "['1\\n', '0\\n', '1\\n', '1\\n', '0\\n']\n"
          ]
        }
      ],
      "source": [
        "print(tr_txt[:5])\n",
        "print(tr_y[:5])"
      ]
    },
    {
      "cell_type": "code",
      "execution_count": 20,
      "metadata": {
        "colab": {
          "base_uri": "https://localhost:8080/"
        },
        "id": "6VNR9okFv77D",
        "outputId": "91577294-3a1a-43c0-db40-454aba3d7c99"
      },
      "outputs": [
        {
          "data": {
            "text/plain": [
              "(5278, 5278)"
            ]
          },
          "execution_count": 20,
          "metadata": {},
          "output_type": "execute_result"
        }
      ],
      "source": [
        "len(tr_txt), len(tr_y)"
      ]
    },
    {
      "cell_type": "markdown",
      "metadata": {
        "id": "eboHoFmyv-mI"
      },
      "source": [
        "Problemas balanceados o desbalanceados\n"
      ]
    },
    {
      "cell_type": "code",
      "execution_count": 25,
      "metadata": {
        "colab": {
          "base_uri": "https://localhost:8080/",
          "height": 429
        },
        "id": "p0YseVAwwEqX",
        "outputId": "0a53d01d-4c26-4b24-ecec-5b542c15458d"
      },
      "outputs": [
        {
          "data": {
            "image/png": "[encoded data removed]",
            "text/plain": [
              "<Figure size 640x480 with 1 Axes>"
            ]
          },
          "metadata": {},
          "output_type": "display_data"
        }
      ],
      "source": [
        "import matplotlib.pyplot as plt\n",
        "\n",
        "# Convertir etiquetas a enteros\n",
        "labels = [int(x.strip()) for x in tr_y]\n",
        "\n",
        "# Contar cuántos 0 y cuántos 1\n",
        "zeros = labels.count(0)\n",
        "ones = labels.count(1)\n",
        "\n",
        "# Gráfico de pastel\n",
        "plt.pie([zeros, ones],\n",
        "        labels=[\"0\", \"1\"],\n",
        "        autopct=\"%1.1f%%\",\n",
        "        startangle=90)\n",
        "\n",
        "plt.title(\"Distribución de etiquetas\")\n",
        "plt.show()"
      ]
    },
    {
      "cell_type": "code",
      "execution_count": 26,
      "metadata": {
        "colab": {
          "base_uri": "https://localhost:8080/"
        },
        "id": "P99NVozWwlIb",
        "outputId": "73e92724-abb3-46a1-ee7c-73a2c33e2b95"
      },
      "outputs": [
        {
          "name": "stdout",
          "output_type": "stream",
          "text": [
            "['🤣', '🤣', '🤣', 'mi', 'vida', ',', 'eres', 'la', 'mejor', '!', 'Dí', 'lo', 'q', 'digas', 'y', 'a', 'la', 'verga', 'los', 'haters', 'heteropatriarcanormados', '!', 'Block', 'y', 'be', 'happy', '!', '😘']\n"
          ]
        }
      ],
      "source": [
        "from nltk.tokenize import TweetTokenizer\n",
        "\n",
        "# Crear el tokenizador especial para tweets\n",
        "tokenizer = TweetTokenizer()\n",
        "\n",
        "# Tokenizar un tweet específico (ejemplo: el número 61)\n",
        "tokens = tokenizer.tokenize(tr_txt[61])\n",
        "\n",
        "print(tokens)"
      ]
    },
    {
      "cell_type": "code",
      "execution_count": 27,
      "metadata": {
        "colab": {
          "base_uri": "https://localhost:8080/"
        },
        "id": "I7AASGoIwnP1",
        "outputId": "baee9e38-119d-4e41-b050-3179849cf73c"
      },
      "outputs": [
        {
          "data": {
            "text/plain": [
              "['@USUARIO',\n",
              " 'La',\n",
              " 'piel',\n",
              " 'nueva',\n",
              " 'siempre',\n",
              " 'arde',\n",
              " 'un',\n",
              " 'poquito',\n",
              " 'los',\n",
              " 'primeros',\n",
              " 'días',\n",
              " '...',\n",
              " 'y',\n",
              " 'más',\n",
              " 'con',\n",
              " 'este',\n",
              " 'puto',\n",
              " 'clima']"
            ]
          },
          "execution_count": 27,
          "metadata": {},
          "output_type": "execute_result"
        }
      ],
      "source": [
        "tokenizer.tokenize(tr_txt[1])"
      ]
    },
    {
      "cell_type": "code",
      "execution_count": 30,
      "metadata": {
        "id": "XDhbv4zQw6-T"
      },
      "outputs": [],
      "source": [
        "import nltk\n",
        "\n",
        "corpus_palabras=[]\n",
        "\n",
        "for doc in tr_txt:\n",
        "  corpus_palabras += tokenizer.tokenize(doc)\n",
        "\n",
        "fdist= nltk.FreqDist(corpus_palabras)"
      ]
    },
    {
      "cell_type": "code",
      "execution_count": 31,
      "metadata": {
        "colab": {
          "base_uri": "https://localhost:8080/"
        },
        "id": "xrKgdysCxSLr",
        "outputId": "303f1625-d9d6-4526-fd8d-9f002f4c4efa"
      },
      "outputs": [
        {
          "data": {
            "text/plain": [
              "15194"
            ]
          },
          "execution_count": 31,
          "metadata": {},
          "output_type": "execute_result"
        }
      ],
      "source": [
        "len(set(corpus_palabras))"
      ]
    },
    {
      "cell_type": "code",
      "execution_count": 32,
      "metadata": {
        "colab": {
          "base_uri": "https://localhost:8080/"
        },
        "id": "wBFnEKS_xWIh",
        "outputId": "eae4012c-e90e-4b7b-fc5f-abc9833746e6"
      },
      "outputs": [
        {
          "data": {
            "text/plain": [
              "FreqDist({',': 3016, 'de': 2915, 'que': 2829, '.': 2604, 'la': 2031, 'a': 1956, 'y': 1856, '!': 1435, 'no': 1430, '@USUARIO': 1399, ...})"
            ]
          },
          "execution_count": 32,
          "metadata": {},
          "output_type": "execute_result"
        }
      ],
      "source": [
        "fdist"
      ]
    },
    {
      "cell_type": "code",
      "execution_count": 33,
      "metadata": {
        "colab": {
          "base_uri": "https://localhost:8080/"
        },
        "id": "kfnQZoPKx2_U",
        "outputId": "4ee1d2fb-4cbe-48e9-d843-f9e562809187"
      },
      "outputs": [
        {
          "data": {
            "text/plain": [
              "15194"
            ]
          },
          "execution_count": 33,
          "metadata": {},
          "output_type": "execute_result"
        }
      ],
      "source": [
        "len(fdist)"
      ]
    },
    {
      "cell_type": "code",
      "execution_count": null,
      "metadata": {
        "id": "UIkkr80sx-vI"
      },
      "outputs": [],
      "source": []
    }
  ],
  "metadata": {
    "colab": {
      "provenance": []
    },
    "kernelspec": {
      "display_name": ".venv (3.12.9)",
      "language": "python",
      "name": "python3"
    },
    "language_info": {
      "name": "python",
      "version": "3.12.9"
    }
  },
  "nbformat": 4,
  "nbformat_minor": 0
}
