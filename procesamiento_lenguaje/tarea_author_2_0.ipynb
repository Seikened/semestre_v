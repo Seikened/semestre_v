{
  "cells": [
    {
      "cell_type": "markdown",
      "id": "9ac688fb",
      "metadata": {
        "id": "9ac688fb"
      },
      "source": [
        "# FERNANDO LEON FRANCO"
      ]
    },
    {
      "cell_type": "code",
      "execution_count": 1,
      "id": "4b764265",
      "metadata": {
        "id": "4b764265"
      },
      "outputs": [],
      "source": [
        "import os\n",
        "import re\n",
        "import xml.etree.ElementTree as ET\n",
        "\n",
        "import matplotlib.pyplot as plt\n",
        "import nltk\n",
        "import numpy as np\n",
        "import polars as pl\n",
        "from wordcloud import WordCloud\n",
        "from bs4 import BeautifulSoup\n",
        "from colorstreak import Logger\n",
        "from nltk.corpus import stopwords\n",
        "from nltk.tokenize import TweetTokenizer\n",
        "from sklearn import metrics, preprocessing, svm\n",
        "from sklearn.feature_selection import SelectKBest, chi2\n",
        "from sklearn.metrics import confusion_matrix, precision_recall_fscore_support\n",
        "from sklearn.model_selection import GridSearchCV, train_test_split\n",
        "from sklearn.preprocessing import normalize"
      ]
    },
    {
      "cell_type": "code",
      "execution_count": 2,
      "id": "18b4c829",
      "metadata": {},
      "outputs": [],
      "source": [
        "def print_bar(i, cantidad_registros, contexto=\"PROGRESO\"):\n",
        "    porcentaje = (i + 1) / cantidad_registros * 100\n",
        "    # Con emojis\n",
        "    barra = int(50 * (i + 1) / cantidad_registros) * \"🟩\"\n",
        "    espacio = int(50 - len(barra)) * \"⬛️\"\n",
        "\n",
        "    print(f\"\\r{contexto}: |{barra}{espacio}| {porcentaje:6.2f}%\", end=\"\", flush=True)"
      ]
    },
    {
      "cell_type": "code",
      "execution_count": 3,
      "id": "03efdbd8",
      "metadata": {
        "id": "03efdbd8"
      },
      "outputs": [],
      "source": [
        "\n",
        "# ======================= Limpieza de texto =======================\n",
        "def limpiar_texto(texto):\n",
        "    \n",
        "    texto = BeautifulSoup(texto, \"html.parser\").get_text()\n",
        "    texto = texto.lower()\n",
        "    texto = re.sub(r\"http\\S+|www\\S+|https\\S+\", \"\", texto)\n",
        "    texto = re.sub(r\"@\\w+\", \"\", texto)\n",
        "    texto = re.sub(r\"#+\", \"\", texto)\n",
        "    stop_words = set(stopwords.words(\"spanish\"))\n",
        "    texto_limpio = [word for word in texto.split() if word not in stop_words]\n",
        "    return \" \".join(texto_limpio)\n",
        "\n",
        "\n",
        "# ======================= Carga de datos =======================\n",
        "def get_texts_from_folder(path_folder):\n",
        "    tr_txt = []  # aquí van los documentos\n",
        "    tr_y = []  # aquí van las etiquetas\n",
        "\n",
        "    for file in os.listdir(path_folder):\n",
        "        if file.endswith(\".xml\"):\n",
        "            tree = ET.parse(os.path.join(path_folder, file))\n",
        "            root = tree.getroot()\n",
        "            docs = []\n",
        "            for doc in root.iter(\"document\"):\n",
        "                texto_limpio = limpiar_texto(doc.text)\n",
        "                docs.append(texto_limpio)\n",
        "    \n",
        "            tr_txt.append(\" \".join(docs))\n",
        "\n",
        "    truth_file = os.path.join(path_folder, \"truth.txt\")\n",
        "\n",
        "    file_to_label = {}\n",
        "    with open(truth_file, \"r\", encoding=\"utf-8\") as f:\n",
        "        for line in f:\n",
        "            parts = line.strip().split(\":::\")\n",
        "            # País\n",
        "            \n",
        "            # pais = parts[2]\n",
        "            # file_to_label[parts[0]] = pais\n",
        "            \n",
        "            # Genero\n",
        "            genero = parts[1]\n",
        "            file_to_label[parts[0]] = genero\n",
        "\n",
        "\n",
        "\n",
        "    for file in os.listdir(path_folder):\n",
        "        if file.endswith(\".xml\"):\n",
        "            file_id = file.split(\".\")[0]\n",
        "            if file_id in file_to_label:\n",
        "                tr_y.append(file_to_label[file_id])\n",
        "\n",
        "        print_bar(len(tr_y), len(file_to_label), contexto=\"CARGA DE ETIQUETAS\")\n",
        "\n",
        "    return tr_txt, tr_y\n"
      ]
    },
    {
      "cell_type": "code",
      "execution_count": 4,
      "id": "4fe124d4",
      "metadata": {
        "colab": {
          "base_uri": "https://localhost:8080/"
        },
        "id": "4fe124d4",
        "outputId": "50854b45-c417-4a7d-e769-bc82cf7aa02c"
      },
      "outputs": [
        {
          "name": "stderr",
          "output_type": "stream",
          "text": [
            "/var/folders/j4/21ypxx3x0019wgj7rqnlm2340000gn/T/ipykernel_61533/549244330.py:4: MarkupResemblesLocatorWarning: The input passed in on this line looks more like a URL than HTML or XML.\n",
            "\n",
            "If you meant to use Beautiful Soup to parse the web page found at a certain URL, then something has gone wrong. You should use an Python package like 'requests' to fetch the content behind the URL. Once you have the content as a string, you can feed that string into Beautiful Soup.\n",
            "\n",
            "However, if you want to parse some data that happens to look like a URL, then nothing has gone wrong: you are using Beautiful Soup correctly, and this warning is spurious and can be filtered. To make this warning go away, run this code before calling the BeautifulSoup constructor:\n",
            "\n",
            "    from bs4 import MarkupResemblesLocatorWarning\n",
            "    import warnings\n",
            "\n",
            "    warnings.filterwarnings(\"ignore\", category=MarkupResemblesLocatorWarning)\n",
            "    \n",
            "  texto = BeautifulSoup(texto, \"html.parser\").get_text()\n"
          ]
        },
        {
          "name": "stdout",
          "output_type": "stream",
          "text": [
            "CARGA DE ETIQUETAS: |🟩🟩🟩🟩🟩🟩🟩🟩🟩🟩🟩🟩🟩🟩🟩🟩🟩🟩🟩🟩🟩🟩🟩🟩🟩🟩🟩🟩🟩🟩🟩🟩🟩🟩🟩🟩🟩🟩🟩🟩🟩🟩🟩🟩🟩🟩🟩🟩🟩🟩| 100.02%\n",
            "Textos train: 4200, Etiquetas train: 4200\n"
          ]
        }
      ],
      "source": [
        "# ======================= Carga de datos =======================\n",
        "path_test = '/Users/ferleon/Github/semestre_v/procesamiento_lenguaje/data/author_profiling/es_test'\n",
        "path_train = '/Users/ferleon/Github/semestre_v/procesamiento_lenguaje/data/author_profiling/es_train'\n",
        "tr_txt_train, tr_y_train = get_texts_from_folder(path_train)\n",
        "#tr_txt_test, tr_y_test = get_texts_from_folder(path_test)\n",
        "\n",
        "print(f\"\\nTextos train: {len(tr_txt_train)}, Etiquetas train: {len(tr_y_train)}\")\n",
        "#print(f\"Textos test: {len(tr_txt_test)}, Etiquetas test: {len(tr_y_test)}\")\n",
        "\n",
        "\n",
        "paises = sorted(list(set(tr_y_train)))\n",
        "paises_numericas = {pais: idx for idx, pais in enumerate(paises)}\n",
        "\n",
        "\n",
        "\n",
        "\n",
        "y_train = [paises_numericas[pais] for pais in tr_y_train]\n",
        "#y_test = [paises_numericas[pais] for pais in tr_y_test]"
      ]
    },
    {
      "cell_type": "code",
      "execution_count": 5,
      "id": "f4ca778d",
      "metadata": {},
      "outputs": [
        {
          "name": "stdout",
          "output_type": "stream",
          "text": [
            "Tamaño del tokens por documento: 4200\n",
            "Primeros 3 documentos: [['eln', 'asesina', 'policía', 'meten', 'bomba', 'cadáver', 'matar', 'inocentes', '.', 'y', 'aún', 'cinismo', 'hablar', 'paz', 'navidad', '.', 'infame', ',', 'injustificable', 'revolucionario', 'asesinar', 'policía', ',', 'profanar', 'cadáver', 'causar', 'heridas', 'graves', '7', 'personas', 'podría', 'ser', 'hipótesis', 'porqué', 'suicido', 'vigilante', '...', 'amigos', ',', '¿', 'qué', 'parece', '?', 'igualdad', ',', 'tolerancia', 'amor', 'van', 'ganando', '!', '!', 'gracias', 'defender', 'q', '…', 'después', 'educación', 'colombia', 'tan', 'mal', 'pensábamos', '.', 'legado', 'gina', 'parody', 'educación', 'cabeza', 'vía', 'duda', 'colombia', 'marcando', 'historia', 'mundo', 'solo', 'nobel', ',', 'sino', 'resistencia', 'pedi', '…', 'acuerdoya', 'acuerdodepaz', 'sialapaz', 'felicitaciones', 'rectores', 'docentes', 'comprometidos', 'colombia', 'mejor', 'educada', 'mejorar', '…', 'empieza', 'conteo', 'regresivo', 'q', 'empiece', 'nueva', 'paz', 'colombia', ',', '¡', 'no', 'pierdas', 'histórico', 'momento', '!', 'cerca', '$', '295', 'mil', 'millones', 'adelantar', 'obras', 'infraestructura', 'barranquilla', '.', 'aulasparalapaz', 'digo', 'sialapaz', 'si', 'desempeño', 'cargos', 'políticos', 'dolor', 'ajeno', 'vía', '¿', 'el', \"'\", 'bullying', \"'\", 'gina', 'parody', 'fruto', 'homofobia', 'colombiana', '?', 'vía', 'ministra', 'parody', 'denuncia', \"'\", 'maquina', 'manipulación', \"'\", 'redes', 'sociales', '.', 'vía', 'discurso', 'engañoso', 'diputada', 'anti-gay', 'santander', 'vía', 'diputada', 'habla', 'ética', 'moral', 'constitución', ';', 'vía', 'leeresmicuento', 'invita', 'jóvenes', 'lectores', 'comentar', 'libros', 'ganar', 'premios', 'juanes', 'repudia', 'fotomontaje', 'apoya', '\"', 'no', '\"', 'paz', 'cancelada', 'reunión', 'mercosur', 'prevista', 'sábado', 'montevideo', 'valido', 'saltarnos', 'siglo', 'xx', ',', 'sociología', 'divertida', 'crisis', 'mecánica', 'celeste', 'mundo', 'globalizado', ',', '¿', 'existen', 'clases', 'sociales', 'globales', '?', 'sociología', 'divertida', '!', 'ejecutivos', 'mundo', ',', 'uníos', '!', 'nuevo', 'artículo', 'sociología', 'divertida', ',', 'segundo', 'serie', 'género', '.', '\"', 'estratificación', 'género', '\"', '.', 'hoy', 'motivo', 'orgullo', 'ejemplo', 'mayores', 'lucharon', 'hacer', 'posible', 'patria', '.', 'independenciadecolombia', 'darle', 'persona', 'responsabilidad', '\"', 'darte', '\"', 'felicidad', 'infelicidad', ',', 'solo', 'gente', 'felizmiercoles', 'defenderse', 'depredadores', 'urbanos', 'bicicletas', '(', 'buses', ',', 'carros', ',', 'motos', ')', ',', 'mejor', 'método', 'cardumen', ':', 'movernos', 'grupo', '.', 'ser', 'pilo', 'paga', ':', '¿', 'oportunidad', 'inequidad', '?', 'vía', 'senadora', 'busque', 'culpables', 'sucedido', 'proyecto', ',', 'ud', 'solo', 'quiere', 'protagonismo', 'diooooos', '!', '!', 'accidente', 'tan', 'tenaz', '.', 'señora', 'alegra', 'niños', 'chocó', 'recibirán', 'educación', 'calidad', '.', 'bueno', 'menos', 'entregó', '...', 'generación', 'paz', ',', 'así', 'ministra', 'ministro', 'debe', 'ir', 'tatatataaaaaa', ':', 'min', 'hacienda', '.', 'ministroineficiente', 'así', 'ponemos', 'megacolegios', 'cambian', 'vidas', 'vía', 'colombiabilingüe', 'clave', 'esfuerzos', 'gobierno', 'educación', 'calidad', 'elcampomásymejoreducado', 'muestra', 'más', '!', 'bueno', 'espacios', ',', 'cooperación', 'siempre', 'beneficio', 'desarrollo', 'social', '!', 'colombialamáseducada', 'excelente', 'artículo', ',', 'estudiar', 'mejores', 'universidades', 'puede', '!', '✌🏼', '️', '👏🏼', '👏🏻', 'pude', 'serlo', 'si', 'educaciónycompetitividad', 'convierten', 'oportunidades', 'equidad', '!', 'colombialamáseducada', 'excelencia', 'educativa', 'avanzar', 'hacia', 'país', 'justo', 'equitativo', '!', 'colombialamáseducada', 'felicidades', 'nuevos', 'maestros', ',', 'ojalá', 'constancia', 'acompañe', 'siempre', ',', 'ud', 'ministra', 'educaciónparatodos', 'compromiso', 'bogotá', 'evitar', 'lleguen', 'ciudadanos', ',', 'sino', 'ver', 'dónde', 'pueden', 'ubicar', 'beneficio', 'pobres', 'justicia', '!', 'necesitamos', 'bogotá', 'puede', 'asegurar', '!', 'yovotopardo', 'bogotádecide', 'bogotáserespetaconpardo', 'inversión', 'educación', 'ahora', 'alta', 'inversión', 'guerra', '!', 'educacióndecalidad', 'educaciónesequidad', 'toda', 'colombia', 'mueve', 'trabajar', 'asegurar', 'mejor', 'educación', 'niños', 'jóvenes', ',', 'educarparalapaz', 'bien', 'ministra', 'así', 'gina', '.', 'reconociendo', 'docentes', 'corazón', 'educación', 'lograremos', 'construir', 'país', 'másymejoreducado', 'nadie', 'dicho', 'sólo', 'aulas', 'concreto', 'va', 'lograr', '.', 'apuesta', 'educación', 'integral', 'real', '!', 'plan', 'infraestructuraeducativa', 'contempla', 'formación', 'integral', ',', 'base', 'sólida', 'jornadaúnica', 'si', 'usted', 'dispuesto', 'bogotá', 'siga', 'está', '.', 'vote', 'yovotopardo', 'usted', 'trabajadora', 'incansable', 'educación', 'ministra', '!', 'másymejoreducado', 'maestros', 'van', 'cambio', 'repente', 'salen', 'gran', 'herramienta', 'hacer', 'colombia', 'lamáseducada', 'importante', 'votar', 'bien', 'próximo', '25', 'octubre', ',', 'yovotopardo', 'bogotáserespetaconpardo', 'errores', 'peñalosa', 'siguen', 'costando', 'miles', 'millones', 'bolsillo', 'bogotanos', 'nomáschambonada', 'bogotáserespetaconpardo', 'yovotopardo', 'llevamos', 'años', 'pagando', 'chambonadas', 'peñalosa', '!', 'empezando', 'losas', 'tm', '.', 'bogotáserespetaconpardo', 'yovotopardo', '\"', 'el', 'pot', 'gente', 'viva', 'mejor', 'resolver', 'necesidades', 'gente', '.', '\"', 'yovotopardo', 'excelente', 'foro', '!', 'maestros', 'empoderados', ',', 'construyendo', 'país', 'educado', '!', 'graciasginaparody', 'excelente', '!', 'mil', 'razones', 'más', '.', '25', 'octubre', 'yovotopardo', 'mejor', 'energía', 'ustedes', ',', 'héroes', 'heroinas', ',', 'pasen', 'días', 'felices', 'aprendan', 'montones', '!', 'colombiabilingüe', 'exclente', 'foroeducativo', 'espacios', 'consenso', 'transformaciones', '!', 'creo', 'cuentos', 'fantasiosos', 'candidatos', 'alcaldía', ',', 'apoyo', 'próximo', '25', 'yovotopardo', 'bueno', 'cada', 'día', 'valiente', 'construyen', 'país', 'aulas', '!', 'pionerosdelaeducación', 'bienvenidos', '!', 'piensen', 'más', ',', 'mejor', 'opción', 'bogotá', 'yovotopardo', '25', 'octubre', '!', 'felizjueves', 'acabó', 'semana', 'alcanzó', 'hacer', 'excelente', 'noticia', 'aplaudo', 'totalmente', 'medidas', 'protección', 'atención', 'maestros', '!', 'educaciónespoder', 'trancones', ',', 'corrupción', ',', 'inseguridad', ',', 'desorden', '!', 'bogotáserespeta', 'yovotopardo', 'quiero', 'bogotá', 'todos', '!', 'igual', 'min', '.', 'creo', 'educación', 'llave', 'oportunidades', 'equidad', 'avanzalaeducación', 'graciasginaparody', 'yovotopardo', 'quiero', 'ciudad', 'sostenible', 'amigable', '!', 'calida', ',', 'firme', 'serena', 'seguroquesí', 'cierto', '!', 'cambiamos', 'aún', 'losas', 'tm', 'desastre', 'lucró', 'peñalosa', 'aún', 'así', 'piense', 'votar', 'él', '?', 'jodas', '!', 'súper', 'importante', 'llegue', 'personas', 'vas', 'prendiendo', 'depende', 'cómo', 'veas', 'vaso', 'esfuerzas', 'cosas', 'siempre', 'mejor', 'hoy', 'felizlunes', 'sabes', 'sol', ',', 'luz', 'mejores', 'intensiones', 'intactas', '.', 'buena', 'iniciativa', '!', 'podemos', 'movernos', 'educación', ',', 'podemos', 'aportar', 'acuerdoporlaexcelencia', 'yovotopardo', 'necesito', 'ciudad', 'base', 'política', 'seguridad', 'reconocimiento', 'respeto', '.', 'seguroquesí', 'yovotopardo', 'quiero', 'ciudad', 'don', 'pueda', 'respetar', 'libertad', 'credo', '!', 'seguroquesí', 'adelante', 'ministra', 'justicia', 'reparación', 'víctimas', '!', 'base', 'consciente', 'paz', 'lapazestácerca', 'alegría', 'saber', 'trabajar', '!', 'vamos', 'transformar', 'país', 'nadie', 'puede', 'olvidar', 'paz', 'tarea', 'todos', '!', 'anuncios', 'sólo', 'hacen', 'posible', 'lapazestácerca', '5mil', 'millones', 'base', 'fundamental', 'transformarlaeducación', 'ginaentodaslasregiones', 'educaciónespoder', 'plenamente', 'convencida', 'educaciónespoder', 'confió', 'excelente', 'excepcional', 'labor', 'llegue', 'siga', 'permitiendo', 'transformarlaeducación', 'así', 'ministra', '!', 'corazón', 'emocionado', ',', 'feliz', 'aquellos', 'podrán', 'beneficiarse', 'serpilopaga', '2', 'marca', 'diferencia', 'vamosporcalidad', 'pueden', 'mostrar', 'imágenes', 'bombas', 'poblaciones', ',', 'uso', 'drogas', ',', 'mostrar', 'cuerpo', 'si', 'delito', '!', 'incoherencias', 'típico', '!', 'sé', 'aún', 'entendemos', 'importancia', 'salir', 'votar', 'votar', 'bien', '!', 'cuánto', 'dura', 'plato', 'lechona', '?', 'cosas', 'generado', 'indignación', 'semana', '!', 'hombres', ',', 'recuerden', 'venganza', 'plato', 'come', 'bien', 'frío', '!', 'silencio', 'mejor', 'consejero', '!', 'completamente', 'decidida', 'yovotopardo', 'ciudad', 'salir', 'adelante', ',', 'uniendo', 'dividiendo', '!', 'seguroquesí', 'pionerosdelaeducación', 'llenan', 'emoción', '!', 'oportunidad', ',', 'esperanza', 'orgullo', 'país', 'vamosporcalidad', 'bueno', 'ministra', ',', 'héroes', 'revolucióneducativa', 'tengamos', ',', 'mejores', 'resultados', 'vamosporcalidad', 'universidades', 'país', 'riesgo', 'aventajados', 'confunden', 'democracia', 'oportunismo', '!', 'quenoconfundan', 'apoyo', 'verraco', 'hacer', 'mientras', 'alcaldes', 'gobernadores', 'gasten', 'campaña', ',', 'vez', 'invertir', 'dineros', 'pae', '!', 'feliz', 'empezar', 'buenas', 'noticias', 'pilosporelmundo', 'oportunidad', 'capital', 'social', 'país', 'crezca', 'efectivamente', 'yoapoyoagina', 'hechos', 'mostrado', 'hecha', '!', 'gina', 'parody', 'mejor', 'ministra', 'educación', 'gina', 'parody', 'firmeza', 'defensa', 'derechos', 'pequeños', 'evidente', '!', 'falten', 'cosas', 'significa', 'gestión', 'mala', '!', 'gracias', 'ministra', '.', 'producto', 'gestión', 'corredorhumanitario', 'educación', 'atenciónfrontera', 'corredorhumanitario', 'realidad', '.', 'gracias', 'ministra', 'usted', 'dura', '!', 'felizmiercoles', 'aun', 'siga', 'mucha', 'gente', 'decidido', 'autónomamente', 'seguir', 'ahora', 'entiende', 'par', 'dinámicas', 'conflicto', 'no', '?', 'duele', 'muchísimo', 'hacerlo', 'abrá', 'ver', 'si', 'sataniza', 'demostraciones', 'afecto', 'colombianos', 'retornados', 'frontera'], ['desafiodeguerreros', 'dirty', 'running', 'rompiendolimites', 'pésimo', 'servicio', 'ruta', 'c77', 'lijaca', 'pasa', 'cada', '45', 'minutos', 'fallando', 'vehículo', 'mira', 'ricardo', 'jorge', 'querían', 'tarjetón', 'gustado', 'vídeo', '(', '-', 'broma', 'colchón', 'agua', 'centro', 'comercial', '.', ')', '.', 'debemos', 'unidos', 'nunca', 'seguir', 'adelante', 'espvschi', 'vamos', 'chileeeee', 'otro', '!', '!', '!', '👍', 'gustó', 'video', 'senador', 'carlos', 'alberto', 'baena', '.', 'balance', 'labor', 'mira', ',', 'cenicienta', '!', '!', '!', 'bbc', 'mundo', 'pública', 'bogota', 'problema', 'cultura', 'ciudadana', 'grande', 'gracias', 'alegrar', 'corazón', 'toda', 'colombia', '!', '!', '!', 'mundo', 'espera', 'sanción', 'ejemplar', 'suárez', 'alias', 'hannibal', 'lecter', 'voten', 'aquí', 'suarez', 'sancionado', '!', '!', '!', 'pilas', '!', '!', 'deben', 'cumplir', 'fallo', 'ordena', 'reconteo', 'senado', 'transparenciaelectoral', 'uruguay', 'estalla', 'camiseta', 'colombiauruguay', 'partidasoooo', 'colombia', '!', '!', '!', 'james', 'crack', '!', '!', 'darle', 'nacionalidad', 'profe', 'pekerman', '!', '!', '!', 'hermoso', 'recordado', 'cariño', '!', '!', '!', 'viva', 'colombia', '!', '!', '!', 'si', 'señor', 'hey', 'compro', 'cd', 'broken', '...', 'restableció', 'servicio', '😉', 'gustado', 'vídeo', '(', '-', 'neymar', 'vs', '.', 'james', 'rodriguez', '(', 'subt', '-', 'english', '-', 'orgullosos', 'grandes', 'queremos', '!', '!', '!', 'col', 'país', 'gente', 'grita', '\"', 'se', 'lució', 'colombia', 'lució', '\"', 'col', 'gracias', '!', '!', 'gracias', 'bebecito', 'lindo', '!', '!', '!', 'brazo', 'súper', 'grillo', '?', '😘', 'feliz', 'cumpleaños', '!', '!', '!', '🎂', 'gustado', 'vídeo', '(', '-', 'wtf', '!', 'james', 'rodríguez', 'cobro', 'penal', 'brasil', '\"', 'insecto', 'gigante', '\"', 'bra', 'superar', 'neymar', 'así', 'hicimos', 'falcao', 'grave', 'zunigaestamoscontigo', 'campeón', 'vas', 'excelente', '!', 'plancha', 'parece', 'durísima', 'feliz', 'cumpleaños', '!', '!', '😘', 'preocupes', 'eso', '!', 'visita', 'página', ':)', 'gustó', 'video', '6', 'ejercicios', \"'\", 'fitness', \"'\", 'hacemos', 'mal', '(', 'y', 'cómo', 'corregirlos', ')', '|', 'arréglate', 'brutos', '!', 'secretaría', 'distrital', 'ambiente', 'sda', 'rescatan', 'animales', 'marinos', 'cc', 'atlantis', 'matarlos', 'claro', 'sí', '!', 'mucha', 'fuerza', 'hoy', 'realice', 'rutina', 'día', '12', 'gymvirtualenero', 'puedo', 'dormir', 'bebe', ',', 'feliz', 'noche', '!', 'sres', 'piensan', 'entregar', 'estación', 'museo', 'oro', '?', 'll', '…', 'oficialice', 'candidatura', 'presidencia', 'venezuela', '!', '!', 'sale', 'relucir', 'campaña', 'bogotámejorsintoreo', 'lavarse', 'manos', 'doblemoral', 'uds', 'creo', 'juicio', '!', 'favor', 'consejo', 'tener', 'fuerza', 'voluntad', 'reportado', '!', '!', 'bloquearle', 'cuenta', 'tumbenlascorridasya', '-', '¡', 'firma', 'petición', '!', 'via', 'articulo', 'recomendado', 'felizviernes', 'cómo', 'crear', 'marca', 'personal', 'éxito', 'paso', 'paso', 'via', 'día', 'prometió', 'iba', 'subir', 'impuestos', 'lastima', 'ingenuo', '…', 'estefueelaño', 'duro', 'conocí', ',', 'gracias', 'dios', 'siempre', 'mano', 'descansa', 'paz', 'tío', 'toñito', 'siempre', 'recordaremos', 'cariño', 'viajealcielo', 'hola', 'preparas', 'batido', '?', 'gymvirtual', 'encuentro', 'enamorada', 'encanta', '!', '!', 'contando', 'horas', 'empezar', 'ypct', 'gymvirtual', 'comilona', 'diciembre', 'hizo', 'estragos', 'así', 'año', 'nuevo', 'gymvirtual', 'gymvirtualprincipiantes', 'ypct', '…', 'excelente', 'james', 'rodriguez', 'haber', 'si', 'ponen', 'jugar', 'más', '⚽', '️', 'hoy', 'hice', 'rutina', 'día', '2', '3', 'coincida', 'día', 'calendario', 'gymvirtualprincipiantes', 'ypct', 'yopuedocontodo', 'jajajaja', 'igual', '!', '!', 'aquí', 'vamos', 'día', '4', 'ypct', 'gymvirtualprincipiantes', 'wow', '!', 'mañana', 'espero', 'empezar', 'juiciosa', 'agua', 'termine', '1ra', 'semana', 'celebrar', 'cambie', 'coca-cola', 'nutritivo', 'jugo', 'fresa', '!', '…', 'feliz', 'diadelpublicista', 'colegas', '“', 'lo', 'bueno', 'ser', 'publicista', 'jamás', 'dejamos', 'aprender', 'menos', 'imaginar', '”', 'david', 'clavijo', 'fuerte', 'vive', '\"', 'arena', 'condá', '\"', 'dios', 'fortalezca', 'familias', 'reciben', 'cuerpo', 'seres', 'queridos', 'totalmente', 'acuerdo', 'machista', 'así', 'maluma', 'mayoria', 'exponentes', 'reggaeton', 'letras', 'horribles', 'cadenaperpetua', 'rafael', 'uribe', 'noguera', ',', 'violador', 'asesino', '!', 'yulianaandreasamboni', '-', '¡', 'fir', '...', 'basura', 'rafael', 'uribe', 'noguera', 'permanence', 'clínica', 'navarra', 'castren', '!', '!', 'yulianaandreasamboni', 'niunamas', 'justicia', 'pésimo', 'artículo', 'amigos', 'círculo', 'social', 'rafael', 'uribe', 'noguera', '?', 'niunamas', 'todossomosyuliana', 'ahora', '?', 'pruebas', 'adn', 'debieron', 'tomar', 'rafael', 'noguera', 'clinica', 'navarra', 'nobeldepazcolombia', 'llamado', 'optimismo', 'habitantes', 'país', 'hechos', 'construyamos', 'paz', 'esteaño', 'entendido', 'líneas', 'celulares', 'movistar', 'envía', 'tipo', 'mensajes', 'verificación', 'ta', '…', 'imagino', 'noticias', 'explicando', 'detalle', 'implica', 'reformatributaria', 'regalito', 'congreso', 'iva', 'cartagena', 'colombia', 'loverunning', 'yoelegicorrer', 'buenos', 'días', 'avión', 'boomerang', 'felizlunes', '😜', 'maradona', 'critica', 'arbitraje', 'brasil', 'vs', 'colombia', 'toda', 'razón', 'señores', 'goleadordelmundial', 'llama', 'colombia', 'col', 'descansar', 'mañana', 'vamos', 'mmb', '2014', 'colombianbluessociety', 'buen', 'momento', '!', 'pasa', 'link', 'supertónica', '?', 'gustado', 'vídeo', '(', '-', 'don', 'tetto', '-', 'adicto', 'dolor', '(', 'lagrimas', ')', ')', '.', 'dios', 'bendiga', 'propongas', 'llene', 'mucha', 'vida', ',', 'amor', ',', 'paz', 'alegría', 'abrazo', '!', 'loquenecesitoyaes', 'trabajar', 'casa', 'aumento', 'sueldo', 'feliz', 'noche', 'mañana', 'empezamos', 'nueva', 'semana', 'llena', 'retos', 'todas', 'bandas', 'buenas', 'radioacktivaradiofest', 'gracias', 'tintal', 'fines', 'semana', 'serv', 'mitad', 'cajas', 'gustado', 'vídeo', '(', '-', '5ta', 'estación', '-', 'sueños', 'rotos', ')', '.', 'antesde', 'desafiodeguerreros', 'desafiodeguerreros', '5km', 'desafiodeguerreros', '2015bogotá', 'borde', 'colapso', 'quiero', 'medellin', 'díadegunsnroses', 'díadegunsnroses', 'trabajando', 'bogotá', 'queguayabo', 'amo', '!', 'especial', 'trípode', 'humano', 'gunsnroses', 'triste', 'actos', 'ningún', 'tipo', 'justificación', 'conmaltratonohaytrato', 'niunamas', 'película', 'recomendada', 'fin', 'semana', 'animalesfantasticos', 'excelente', '!', 'felicitaciones', 'hinchada', 'américa', 'cali', ',', 'nuevo', 'primera', 'división', 'fútbol', 'colombiano', '⚽', '️', '2:02', 'sueño', 'ataca', 'si', 'afilio', 'sede', '114', 'bogotá', 'fines', 'semana', 'puedo', 'ir', 'salitre', '?', 'luto', 'fútbol', '😔', 'chapecoense', 'fortaleza', 'familiares', 'follmann', ',', 'neto', 'alan', 'ruschel', 'dios', 'fortalezca', 'pronta', 'recuperación', 'fuerzachape', 'quito', 'sombrero', 'hinchada', 'hicieron', 'atanasio', 'impresionante', 'fuerzachapecoense', 'trabajo', 'haciéndole', 'fuerza', 'selección', 'viene', 'colombia', 'vs', 'chile', 'vamoscolombia', 'felizjueves', '…', 'hace', 'falta', 'cuadradito', '!', '!', '!', 'vamoscolombia', 'vamoscolombia', 'viene', 'gol', 'vamos', 'adelante', 'viene', 'ganarle', 'argentina', ',', 'cuadrado', 'falcao', 'primer', 'tiempo', 'fuerzatricolor', 'brasil', 'ganó', 'jugando', 'bonito', '...', 'desierto', 'vuelva', 'ser', 'revés', 'lluvia', 'cubra', 'vez', 'sismo', 'viernes', 'si', 'terremoto', 'media', 'noche', 'hora', 'local', 'nueva', 'zelanda', 'imágenes', 'día', '?', 'recomiendo', 'visitar', 'centro', 'comercial', 'plaza', 'central', 'grande', 'buenos', 'almacenes', 'comparto', 'recorrido', 'hoy', 'running', 'correr', 'corrersesientebien', '💪🏼'], ['simpson', '-', 'homero', 'arbitro', '-', '(', 'hd', ')', 'latino', 'capitulo', 'completo', 'español', 'vía', 'simpsons', 'marge', 'millonaria', '!', '!', '|', '|', 'capitulo', 'espańol', '*', '(', 'capitulos', 'es', '...', 'vía', \"'\", \"'\", 'esposa', 'aficionada', \"'\", \"'\", 'simpson', 'vía', 'panamericana', 'televisión', ':', '56', 'años', 'siempre', 'lado', \"'\", 'hombre', 'pantalones', 'azules', \"'\", 'simpson', 'vía', 'id', 'telefuturo', '-', '\"', 'se', 'vé', 'siente', '\"', '2012', 'vía', 'panamericana', 'televisión', ':', '56', 'años', 'siempre', 'lado', 'vía', 'simpsons', 'hd', 'temporada', '27', 'x', '1', 'sueño', 'hombre', '-', 'audio', 'latino', 'vía', 'simpson-el', 'futuro', 'bart', 'vía', 'unitel', 'bolivia', 'advertencia', 'contenido', 'simpson', 'vía', 'simpson', '-', 'capitulo', '15', '-', 'temporada', '27', '✴', '2016', 'kool', 'vía', 'tv', 'dominicana', 'bumper', 'id', ':', 'telesistema', '-', '41', 'años', '(', '2015', ')', 'vía', 'canal', '5', 'hd', 'bolivision', 'bolivia', 'advertencia', 'cotenido', 'vía', 'simpson', '-', 'ultimo', 'da', 'clases', '-', 'placa', 'amarilla', 'cobardia', '-', 'l', '...', 'vía', 'simpson', '-', 'closet', 'moe', '-', 'latino', 'completo', 'vía', 'simpson', '-', 'vida', 'bart', 'vía', 'simpson', '\"', 'caminos', 'gloria', '\"', 'vía', 'id', 'telefuturo', '-', '\"', 'se', 'vé', 'siente', '\"', '2012', 'vía', 'pokemon', 'xyz', 'capitulo', '17', 'español', 'latino', 'hd', 'vía', 'pokemon', 'xyz', 'capitulo', '16', 'español', 'latino', 'hd', 'vía', 'pokemon', 'xyz', 'capitulo', '15', 'español', 'latino', 'hd', 'vía', 'pokemon', 'xyz', 'capitulo', '14', 'español', 'latino', 'hd', 'vía', 'pokemon', 'xyz', 'capitulo', '13', 'español', 'latino', 'hd', 'vía', 'panamericana', 'televisión', ':', '56', 'años', 'siempre', 'lado', 'vía', 'unitel', 'bolivia', 'advertencia', 'contenido', 'simpson', 'vía', 'tv', 'dominicana', 'bumper', 'id', ':', 'telesistema', '-', '41', 'años', '(', '2015', ')', 'vía', 'simpson', 'obstáculos', 'causados', 'leche', 'adolescentes', 'mutantes', 'vía', 'teleamazonas', 'super', 'nick', 'teleamazonas', 'super', 'nick', 'teleamazonas', 'super', 'nick', 'teleamazonas', 'super', 'nick', '[', 'español', 'latino', ']', 'bob', 'esponja', '-', 'casado', 'dinero', 'vía', 'cortina', '\"', 'ya', 'empieza', '\"', '-', 'teleamazonas', '(', '2015', ')', 'vía', 'bolivision', 'bolivia', 'advertencia', 'cotenido', 'vía', 'tv', 'dominicana', 'bumper', 'id', ':', 'telesistema', '-', '41', 'años', '(', '2015', ')', 'vía', 'unitel', 'bolivia', 'advertencia', 'contenido', 'simpson', 'vía', 'univision', 'pr', '2013', 'vía', 'canal', '5', 'hd', 'canal', '5', 'hd', 'hdcanal', '5', 'bob', 'esponja', 'cartelera', 'anuncios', 'capítulo', 'complet', 'vía', 'capítulo', '12', 'temporada', '20', '¿', '¡', 'la', 'lección', 'extracurricular', 'mareanie', '!', '?', 'chavo', 'animado', '-', 'zorrillo', 'vecindad', '-', 'temporada', '6', 'capitulo', '08', 'vía', 'canal', '5', 'hd', 'canal', '5', 'hd', 'chapulín', 'colorado', 'animado', '-', 'último', 'tango', 'cucarachón', 'verde', '-', 'te', '...', 'vía', 'tv', 'dominicana', 'bumper', 'id', ':', 'telesistema', '-', '41', 'años', '(', '2015', ')', 'vía', 'univision', 'pr', '2013', 'vía', 'canal', '5', 'hd', '[', '16', ']', 'planeta', 'máquinas', 'm2', '.', '::', 'dragon', 'ball', 'gt', ',', 'online', 'latino', '|', 'canal', '5', 'hd', 'canal', '5', 'hd', 'padre', 'familia', 'l', 'problemas', 'peter', 'l', 'español', 'latino', 'hd', 'vía', 'canal', '5', 'hd', 'canal', '5', 'hd', 'bob', 'esponja', '-', 'náufragos', 'convención', 'comida', 'vía', 'chapulín', 'colorado', 'animado', '-', 'grandiosa', 'huída', '-', 'temp', '04', '-', 'cap', '02', 'vía', 'canal', '5', 'hd', 'canal', '5', 'hd', 'cortinilla', 'canal', '5', 'súper', 'bowl', '2016', 'vía', 'chavo', 'animado', '-', 'fabrica', 'juguetes', '-', 'temporada', '6', 'capitulo', '13', 'vía', 'tv', 'dominicana', 'bumper', 'id', ':', 'telesistema', '-', '41', 'años', '(', '2015', ')', 'vía', 'univision', 'pr', '2013', 'vía', 'canal', '5', 'hd', '[', '14', ']', 'destrucción', 'rudo', '.', '::', 'dragon', 'ball', 'gt', ',', 'online', 'latino', '|', 'canal', '5', 'hd', '[', '13', ']', 'misterioso', 'científico', 'llamado', 'myu', '.', '::', 'dragon', 'ball', 'gt', ',', 'online', 'latino', '|', 'canal', '5', 'hd', 'peter', 'fumador', '/', 'padre', 'familia', '/', 'serie', 'español', 'latino', '(', 'hd', ')', 'vía', 'canal', '5', 'hd', '🔴', 'chapulín', 'colorado', 'animado', '-', 'rap', 'ruby', 'culebro', '-', 'temp', '04', '-', 'cap', '06', 'vía', 'canal', '5', 'hd', 'canal', '5', 'hd', 'chavo', 'animado', '-', 'grúa', 'don', 'ramón', '-', 'temporada', '6', 'capitulo', '07', 'vía', 'canal', '5', 'hd', 'bob', 'esponja', 'capítulos', 'completos', '-', '¡', 'como', 'vio', 'tv', '!', 'hd', 'vía', 'cortinilla', 'canal', '5', 'súper', 'bowl', '2016', 'vía', 'tv', 'dominicana', 'bumper', 'id', ':', 'telesistema', '-', '41', 'años', '(', '2015', ')', 'vía', 'univision', 'pr', '2013', 'vía', 'canal', '5', 'hd', '[', '12', ']', 'despertar', 'rudo', '.', '::', 'dragon', 'ball', 'gt', ',', 'online', 'latino', '|', 'canal', '5', 'hd', '[', '11', ']', 'pan', 'convertida', 'muñeca', '.', '::', 'dragon', 'ball', 'gt', ',', 'online', 'latino', '|', 'canal', '5', 'hd', 'padre', 'familia', '14x02', 'padre', 'buen', 'hombre', 'hd', 'latino', 'vía', 'canal', '5hd', 'canal', '5hd', 'bob', 'esponja', 'capítulos', 'coempletos', '-', 'gran', 'cambio', 'hd', 'vía', 'canal', '5hd', 'canal', '5hd', 'chavo', 'animado', '-', 'viaje', 'avión', '-', 'temporada', '6', 'capitulo', '05', 'vía', 'cortinilla', 'canal', '5', 'súper', 'bowl', '2016', 'vía', 'tv', 'dominicana', 'bumper', 'id', ':', 'telesistema', '-', '41', 'años', '(', '2015', ')', 'vía', 'ver', 'simpson', '17x19', '-', 'historias', 'mojadas', 'jamás', 'contadas', '-', 'latino', 'vía', 'simpsons', 'chicas', 'solo', 'quieren', 'sumar', '\"', '[', 'parte', '3', ']', 'vía', 'simpsons', 'chicas', 'solo', 'quieren', 'sumar', '\"', '[', 'parte', '2', ']', 'vía', 'simpsons', 'chicas', 'solo', 'quieren', 'sumar', '\"', '[', 'parte', '1', ']', 'vía', 'univision', 'pr', '2013', 'vía', 'canal', '5', 'hd'], ['duerman', 'va', '!', '!', '!', 'aún', 'queda', 'cielo', 'cruzar', 'eldipyalbailando', '2017', 'aguante', 'dipy', 'papá', 'recibiendo', 'hermoso', 'regalo', 'parte', 'chicos', 'querevienteok', '…', 'hacer', 'voz', 'gato', 'video', 'tutorial', 'vía', 'agarro', 'abc', 'verga', 'sos', 'movistar', 'hace', 'recarga', 'vieja', ',', 'alla', 'acreditan', 'abono', '7', 'minutos', 'clavados', 'llamo', 'movistar', 'días', 'pasan', 'mismo', 'álbum', 'bersuit', 'harto', 'frío', 'noches', ',', 'ganas', 'volverte', 'ver', 'lunesdequereviente', 'mates', 'madrugada', 'empezando', 'lunesdequereviente', 'cuerdas', 'curvas', 'quiero', 'estar', '.', 'lunesdequereviente', 'ilegal', ',', 'extrañaría', 'dudes', 'd', 'mi', '..', 'verga', 'remil', 'lejos', 'centro', 'falle', 'batería', 'auto', ',', 'deprimision', 'celular', 'mio', 'bloquea', 'solo', ',', 'cierra', 'snap', 'solo', ',', 'abre', 'xno', 'solo', '.', 'revise', 'toda', 'cama', 'ver', 'si', 'alguna', 'araña', '.', 'ser', 'gey', ',', 'mas', 'orientación', 'sexual', ',', 'estilo', 'vida', 'vacaciones', 'abuela', '@', 'monte', 'hermoso', 'oficial', 'luna', 'mandan', 'snap', 'vos', 'respondes', 'siguen', 'aguanta', 'intensa', 'orto', 'puta', 'costumbre', 'tenés', 'hacerme', 'mal', 'pensar', ',', 'principiantes', 'vivir', 'vida', 'pensar', '..', 'sólo', 'solo', 'placer', ',', 'cobardía', 'lentamente', 'puse', 'discutir', ',', 'si', 'tono', 'cuerpo', 'hacía', 'temblar', 'desaparezco', 'mira', 'uh', 'lula', 'entonces', ',', 'servis', 'pedime', 'quede', 'soplame', 'amor', 'bumblede', 'ma', 'mando', 'msn', 'dijo', 'hable', 'mas', 'toy', 'sufriendl', 'buena', 'razón', 'esperar', 'llegue', 'lunes', '.', 'lunesdequereviente', 'vieja', 'dice', 'jorge', 'asesino', 'ver', 'jesús', 'maria', ',', 'dice', 'mas', 'asesinos', 'transformers', 'ver', 'si', 'entendés', ',', 'tan', 'arriba', 've', 'mejor', 'acá', 'abajo', 'vos', 'yo', '.', 'mirada', 'perfecta', ',', 'tripa', 'puedo', 'darte', 'soy', '..', 'regalame', 'canción', 'cambio', 'corazón', ',', 'desarma', 'late', 'vos', 'cantas', '..', 'lunesdequereviente', 'real', 'envido', 'cantarle', 'falta', '.', 'viajan', 'nenes', 'micro', 'pasan', 'porno', 'noelia', 'preguntó', 'malvinas', ',', 'creo', 'fin', 'va', 'sacar', 'entradas', 'libertad', 'fiebre', 'necochea', 'queda', 'enamoré', 'vídeo', 'love', 'again', 'sesese', 'puedo', 'superar', 'rápido', 'furioso', '7', ',', 'no', 'vez', 'vea', 'llore', 'nobelia', ':', 'si', 'sabía', 'ahí', 'vos', 'sabias', 'ibas', 'decir', 'mierda', 'tan', 'manco', 'mandar', 'snap', 'puta', 'madreeeee', 'tratando', 'hacer', 'ruido', 'despertar', 'nadie', 'largué', 'carcajabsvdv', 'jajajajajajajajajjajaja', 'serio', 'acá', '..', '@', 'puan', ',', 'buenos', 'aires', 'chupenme', 'verga', 'cosas', 'rt', 'mala', 'suerte', '.', 'basta', '.', 'fallecida', '?', 'esperas', ',', 'mostrame', 'todas', 'cartas', ',', 'cara', 'perro', 'jugar', '.', 'jajajajajajajajajaj', 'lei', 'mal', 'na', 'q', 'garron.te', 'agarro', 'hago', 'cagaaaa', 'desbloq', 'hoy', 'bondi', 'mujer', 'dice', '-', 'ay', '4g', 'acá', '.', 'novio', '/', 'marido', 'resp', '-', 'y', '5g', 'hace', 'llego', 'mando', 'msn', 'policía', 'papá', 'noel', ',', 'hacen', 'creer', 'chico', ',', 'grande', 'das', 'cuenta', 'existe', '.', 'mintiendo', ',', 'remil', 'amo', 'vida', 'rio', ',', 'corta', 'grata', 'juego', 'fuego', ',', 'aunque', 'fuego', 'queme', 'quiero', 'dejarte', 'ir', 'ahí', ',', 'algún', 'instante', 'pienses', 'vuelva', 'tpq', 'prometo', 'hacer', 'vivo', 'insta', 're', 'borracho', 'chicos', 'pido', 'mil', 'amaneceres', ',', 'quedes', 'brazos', ',', 'si', 'luna', 'va', '..', 'quiero', 'dar', ',', 'eternidad', 'garcha', 'zinos', 'cualquiera', 'jajaja', 'gilaso', '.', 'lleva', 'manos', 'turnos', 'bardearmee', 'espero', 'tener', 'nfs', 'irme', 'tapalque', ',', 'así', 'iría', 'feliz', 'dame', 'poquito', 'amor', ',', 'quiero', 'toco', 'aunque', 'arregles', 'gomas', 'nena', ',', 'seguirás', 'siendo', 'rara', '.', 'desconfío', 'cara', 'informado', ',', 'instinto', 'supervivencia', 'se', ',', 'pensar', 'jajajja', 'garron', 'tormenta', 'ahora', 'verga', 'querés', 'repetir', 'snap', 'viste', 'pones', 'responder', 'propaganda', 'telefe', ',', 'aguantan', 'decir', 'gustó', 'vídeo', 'ivana', 'nadal', 'lodije', 'lavozfinal', 'triunfa', 'mi', ',', 'quemame', 'miedos', '.', 'sonrisa', ',', 'puertas', 'cielo', 'tw', 'cualquier', 'cosa', 'jajajaja', 'ay', 'dejame', 'hacer', 'perdones', 'mamusa', 'desbloq', 'porfa', 'regalo', 'emparedado', 'gracias', 'loquis', '(', '?', 'debo', 'tw', 'diez', 'veces', 'mismas', 'frases', 'vos', 'yo', ',', 'demás', '🔄', 'atrevas', 'pisarme', 'talón', ',', 'placer', 'mejor', 'éste', 'amor', 'quiero', 'vez', 'tanta', 'vuelta', 'gracias', 'x2', '🔝', '🔝', 'desaprobaremos', 'juntos', '..', 'muerde', 'planeta', 'quieras', ',', 'algún', 'morirás', 'morderrrrrr', 'jajajja', 'solo', 'entiende', 'locura', 'comparte', 'pasión', 'masterchefmx', 'voy', 'morderte', 'hacerte', 'mal', 'entrar', 'laberinto', 'deja', 'traje', 'mujer', 'normal', 'después', 'rendir', 'hoy', ',', 'puedo', 'dormir', 'cualquier', 'hora', 'madrugar', '*', 'se', 'duerme', '11', '*', 'ánimo', 'directora', 'decir', 'discurso', 'hace', 'bien', ',', 'hace', 'mal', ',', 'hace', 'odiar', ',', 'querer', 'más', '..', 'esquivas', 'corazón', ',', 'destrozas', 'cabeza', 'si', 'mañana', 'ayer', 'vez', ',', 'hermoso', 'horrible', 'después', '..', 'vienes', 'mi', ',', 'puedo', 'amarte', 'tira', 'atrás', 'tener', 'poder', 'ciertas', 'cosas', 'vez', 'existe', 'transformador', 'consume', 'mejor', 'tenés', ',', 'tira', 'atrás', ',', 'pide', 'llega', 'punto', 'querés', 'doy', 'después', 'ir', 'club', 'voy', 'decir', 'chicos', 'venir', 'jugar', 'fifas', 'sacan', 'fotos', 'esta', ',', 'foe', 'sol', '.', 'van', 'hacer', 'famoso', 'nariz', 'escondes', 'bien', ',', 'encuentro', 'feliz-triste', 'tonto', 'seguirte', ',', 'perro', 'andaluz', ',', 'amor', 'acabará', ',', 'éstos', 'días', ',', 'alguna', 'noches', '...', 'haces', 'amiga', 'si', 'conmigo', ',', 'deshacessss', 'chica', 'esquina', ',', 'tratando', 'mal', ',', 'vende', 'droga', 'puedo', 'parar', 'hoy', 'noche', 'pienso', 'seguir', 'festejando', 'duermo', 'particular', ',', 'gracias', 'river'], ['cuenta', 'primo', 'lejano', 'harrysong', '..', 'hoy', 'asesino', 'saldra', 'hombros', ',', 'hoy', 'asesino', 'volverá', 'matar', ',', 'hoy', 'asesino', 'disfrazara', 'artista', '.', 'asesino', 'llama', 'torero', '..', 'elgallopeorquenunca', 'voy', 'hacer', 'llegar', 'botella', 'whisky', 'consagrar', 'llegue', 'lluvia', 'ideas', 'cancion', 'iniciar', 'gallo', 'genial', '.', 'ahora', 'vuelve', 'volvieron', 'montar', 'era', '.', 'deme', '2', 'pizzas', '-', 'familiares', '?', 'bien', 'gracias', '.', '-', 'noo', ',', 'tamaño', '.', '18', 'c', '.', 'm', '.', 'porque', '?', '-', 'noo', ',', 'pizzas', '.', 'ahhh', ',', 'dos', '.', '-', 'familiares', '?', 'bien', 'gracias', '-', 'noo', '!', 'felicitaciones', '...', 'solo', 'puedo', 'decir', 'pelicula', 'fue', '..', 'sorprendente', '!', '!', '!', 'listos', 'ver', 'hace', 'venda', 'cuerpo', '…', 'asi', 'vanos', 'novenas', '...', 'encontraba', 'llenando', 'encuesta', 'cua', 'do', 'repente', 'aparece', 'esto', '..', 'buena', 'ricardo', 'acevedo', 'quede', 'com', '…', 'espero', 'vayan', 'dar', 'casa', 'carcel', 'walfrandoforero', 'encuentro', 'calle', 'fijo', 'da', 'motosierra', 'plomo', 'defecto', 'pregunta', 'es', '..', 'puede', 'esperar', 'fiel', 'seguidor', 'uribe', '?', 'pues', 'tambien', 'rata', 'torcida', '!', 'walfrandoforero', 'irregularidades', 'unico', 'espero', 'deje', 'comprar', 'el', '\"', 'doctor', '\"', 'walfrandoforero', '\"', 'pequeñeses', '\"', 'justicia', 'irregularidades', 'pienso', 'si', 'hizo', 'torcidos', 'pequeños', '..', 'imagino', 'hecho', 'aprovacion', 'aeropuerto', 'tocancipa', 'walfrandof', 'adivinan', 'que', '.', 'delitos', 'irregularidades', 'mantenimiento', 'vehículos', 'sera', 'olvidaron', 'torcidos', 'pequeños', '?', 'pensara', '\"', 'honorable', '\"', 'senador', 'miltonrodriguez', 'captura', 'alcalde', 'tocancipa', 'walfrandoforero', '?', 'continua', '..', 'capturan', 'alcalde', 'tocancipá', '(', 'cundinamarca', ')', 'presuntas', 'irregularidades', 'mantenimiento', 'vehículos', '|', '...', 'cejon', 'mas', 'vagabundo', 'colombia', 'cumpleaños', '.', 'asi', 'vaya', 'descualquierar', 'jale', 'correa', 'gracias', 'invitacion', '..', 'dia', 'debo', 'trabajar', '..', '8', 'a', '.', 'm', '..', 'si', 'alcanze', 'ir', '..', 'avisando', '..', 'siii', '..', 'duele', 'p', '*', '*', 'as', '..', 'viernes', 'salgo', '10', '...', 'habia', 'hacer', '...', '?', '?', 'jajajajaja', 'imaginate', 'hoy', 'almorzando', 'arroz', 'piedrita', 'rompio', 'muela', '.', 'tematica', 'hoy', 'comida', 'jaj', 'canción', 'llama', 'how', 'does', 'it', 'feel', 'atentos', ':', 'nuevo', 'virus', 'imágenes', 'azota', 'facebook', 'shrubs', 'pueden', 'revolucionar', 'oferta', 'bar', 'bale', 'berga', 'bida', 'si', 'viernes', 'lloviendo', '..', 'hizo', 'dia', '...', 'ahora', 'sumele', '2', 'mas', '...', 'missouri', 'montana', 'electionnight', 'hace', '1', 'hora', 'trump', 'iba', 'ganando', '5', 'estados', '...', 'esperan', '?', 'ahora', 'si', 'llevo', '...', 'mamá', 'gritó', ':', '\"', '¡', 'terremoto', '!', '\"', 'yo', ':', '¿', 'terremoto', '?', '\"', '¡', 'terremoto', '!', 'terminamos', 'cantando', 'shaky', 'shaky', '.', 'temblor', 'halloween', 'taxímetro', 'adulterado', ',', 'hablaba', 'celular', 'grosera', '. ..', 'vdw', '280', 'baje', 'mas', 'bien', 'este', '... .', 'l', '.', 'jajajajaja', '36', 'minutos', 'trancon', 'trayecto', 'generalmente', 'tarda', '10', 'minutos', '...', 'quedelicia', 'vivabogota', 'heiseltime', '.', 'trancon', 'infernal', 'entrando', 'autonorte', '..', 'motivado', 'musica', 'pones', '...', 'trumpets', 'alzaenloslicores', 'afectacion', 'tambien', 'recae', 'personas', 'trabajamos', 'alimentos', 'bebidas', 'consumo', 'va', 'disminuir', 'quiero', 'ver', 'personajes', 'primer', 'tiempo', 'dieron', 'garrote', 'borja', 'ahora', 'heroe', '...', 'tiempo', 'determina', 'rendimiento', '..', 'gran', 'rutina', '...', 'reflexiva', '...', 'definitivamente', 'humor', 'crea', 'experiencias', '...', 'disfrutando', 'rato', 'esparcimiento', '...', 'buena', 'rutina', '@', 'club', 'nogal', 'quiero', 'justificar', '..', 'perooooo', 'negros', 'primera', 'eleccion', ',', 'otros', '...', 'voy', 'mencionar', 'ningun', 'wilson', '...', 'super', 'zorra', 'universo', 'paralelo', 'maldito', 'profano', '...', 'arderas', 'infierno', '...', '😈', '😈', '😈', 'pues', 'whisky', ',', 'tequila', ',', 'ron', ',', 'aguardiente', ',', 'ginebra', 'pola', '...', 'toca', 'cuadrar', 'cuando', '...', 'sabe', 'chao', 'peinas', '...', 'hablamos', 'mañana', '...', 'ojo', 'seguir', 'rayando', 'juegos', 'prestan', '...', 'jajajajaja', 'jajajajajaja', 'tremenda', 'boba', '... .', 'l', '.', 'usted', '..', 'dejemoslo', 'wilson', 'bien', 'zorra', 'universo', 'paralelo', '...', 'quede', 'atónito', '...', 'facil', '...', 'jajajajajaja', 'jummm', 'usted', 'perreo-sandungueo', 'intenso', 'alcanzarian', 'columnas', 'excel', '...', 'pongale', 'firma', '...', 'creo', 'nunca', 'voy', 'superar', 'soltero', 'nunca', 'solo', 'señora', 'limones', 'perdonelos', 'poner', 'chandelier', ',', 'trumpets', ',', 'cool', 'girls', 'single', 'ladies', '...', 'debo', 'decirte', 'antro', 'equivocado', 'amigo', '...', 'da', 'desconfianza', 'ver', 'tipo', '\"', 'vicera', '\"', '11:38', 'p', '.', 'm', 'sentado', 'lado', 'casualmente', 'vaya', 'mismo', 'lado', 'uno', '?', 'preciso', '..', 'bus', 'voy', 'parece', 'ultimo', 'servicio', 'h4', '..', 'rodeado', 'ñeros', ',', 'dealers', ',', 'chirris', 'demas', '...', 'badluckman', 'dice', ':', 'peluqueo', 'quedo', 'chirri', '..', 'yo', ':', 'jodase', 'cabeza', 'plata', 'puso', 'usted', '..', 'dijo', 'punto', '.', 'jajajajajaja', '...', 'anda', 'maldita', '...', 'voy', 'llegando', 'casa', '...', 'asi', 'hoy', 'toco', 'antro', '...', 'next', 'time', 'nigga', 'hablando', 'serio', 'fastidioso', '..', 'fijo', 'falta', 'sueño', '...', 'pongale', 'firma', 'si', 'descualquiero', 'hp', '..', 'thisaintascene', '..', 'creen', 'buen', 'momento', 'escuchas', 'thetawaves', '...', 'no', '...', 'pues', 'si', '...', 'venga', ',', 'todas', 'estas', '...', 'sera', 'vida', '?', '?', 'reportese', 'antro', 'este', '!', '!', '!', 'wiiiiiiiilsoooooooooon', 'laproxima', 'quiera', 'ir', 'concierto', 'asegurese', 'carro', 'devolverse', 'menos', 'salir', 'temprano', 'coger', 'bus', 'preguntaran', 'hoy', 'tan', 'activo', 'twitter', ',', 'sencillo', ',', 'sueño', 'pasmado', 'inmamable', ',', 'tomelo', 'aviso', 'parroquial', '.', '😄', '😄', '😄', 'alboroto', 'atracaron', 'aun', 'supera.como', 'nota', 'hace', 'falta', 'pegarse', 'pasada', 'bogotá', '.', 'fijo', 'muere', 'hoy', 'tipo', 'tm', ',', 'supongo', 'oyendo', 'electrónik', 'asi', 'grito', 'herido', 'dijo', 'puchojenso', 'pense', 'nunca', 'iba', 'oir', 'nla', 'vida', 'zombie', 'empezar', 'mañana', 'oyendo', 'somosviolentos', 'poder', '...', '👊', '👊', '👊', 'vamos', 'toda', '!', '!', '!', '\\\\', 'm', '/', 'ahora', '7', 'señora', 'fila', 'frente', 'hipódromo', 'andes', 'concierto', 'slipknot', ',', 'no', 'imagino', 'd', 'metallica', '.', 'llama', 'agua', 'sol', 'alegría', 'recuerdo', 'bien', 'vez', 'casi', 'salgo', '.', 'todavia', 'existen', 'ubicas', 'portales', 'buses', 'intermunicipales', '...', 'los', 'ayudantes', 'bus', 'controladores', 'adnymetallica', 'iria', 'yordan', 'cubides', '😁', '😁', '😁', 'si', 'quiere', 'sigo', '..', 'evangelico', 'pandereta', ',', 'niño', 'comiendo', 'alpinito', 'cuchara', '...', 'gusto', 'idea', '...', '💅', '💅', '💅', 'control', 'remoto', 'pilas', ',', 'rata', 'balde', ',', 'cucaracha', 'esquina', ',', 'cajon', 'mesita', 'noche', '..', 'ok', 'madafaka', '?', 'mire', 'niño', ',', 'voy', 'colocar', 'tm', 'ruta', 'facil', 'choco', ',', 'negritos', 'mas', 'veraneados', 'meto', 'bus', '..', 'den', 'como', '➡', 'adivinen', 'esto', '..', 'van', 'creer', 'bogotá', ',', '7ma', '9na', '11', '77', '7ma', 'bogotautopica', 'motiva', 'trabajar', 'domingo', 'ver', 'ciudad', 'tan', 'relativamente', 'sola', '...', 'tm', 'sillas', 'disponibles', ',', 'nadie', 'raya', '1', '😁', 'tm', 'alguien', 'acabo', 'destapar', 'coca', 'almuerzo', 'iban', 'quemando', 'papas', '...', 'todoporquehoyesviernes', 'mientras', 'ciudad', 'gotica', '...', 'galaxynote', '7', 'galaxys', '7edge', '. .', 'culpa', 'batman', '😂', '😂', '😂', 'viendo', 'performance', 'cano.luis', 'worldclass', 'elegancia', 'porte', 'todo', '...', '…', 'bueno', 'disfrutemos', 'trancon', 'saliendo', 'bogotá', 'autonorte', 'del', '40al1', 'mala', 'hora', 'entar', 'bogota', 'autonorte', '...', 'va', 'tocar', 'comprar', 'helicóptero', '🚁', '. .', 'próximamente', 'transmilenio', 'empezaré', 'lunes', 'quincena', '..', 'asi', 'alisten', 'monedas', 'billetes', 'favor', '..', '…', 'detesto', 'madre', 'teresa', 'calcuta', 'queriendo', 'ser', 'serio', 'vida', 'repente', 'encuentras', 'esto', '...', 'jajajajajaja', 'derechos', 'dejar', 'empleo', '|', 'empleo', '|', 'mañana', '...', 'voy', 'and', 'justice', 'for', 'all', '...', 'genial', 'volver', 'ver', 'animaniacs', 'yako', 'wako', '&', 'dot', 'maldita', 'locura', 'de', '…', 'viejita', 'dice', 'marido', 'cama', ':', 'matame', 'cosita', 'orinar', ',', 'viejito', 'saco', 'mica', ',', 'pa', '¡', 'en', 'porra', '!', '..', 'grande', 'primer', 'puesto', 'bmx', 'juegosolimpicos', 'vamospormas', 'felicitaciones', 'jacqueline', 'renteria', 'victoria', '1/8', 'final', '..', 'juegosolimpicos', 'colombia', 'vamospormas', 'típicas', 'compras', 'solo', 'hace', '“', 'la', 'gente', 'pobre', '”', 'mas', 'terapia', 'seria', 'siguiera', 'twitter', 'contara', 'otros', '...', 'momento', 'decisión', 'jueces', 'haber', 'gana', 'combate', 'boxeo', 'juegosolimpicos', 'felicitaciones', 'yurialvear', 'medalla', 'plata', 'juegosolimpicos', 'vamoscolombia', '.', '💛', '💙', '❤', 'tachimoto', 'carchimba', '..', 'ven', 'japones', '...', 'juegosolimpicos', 'fuerza', 'yury', 'vamos', 'yuryalvear', 'toda', 'medallla', '...', 'creo', '3:30', 'fuertes', '..', 'juegosolimpicos', 'emocion', 'agarras', 'puesto', 'transmilenio', '...', 'quiere', 'ser', 'serio', 'vida', 'internet', 'deja', '..', 'jajajaja', 'acaba', 'caer', '...', 'juegosolimpicos', 'colombiano', 'cristian', 'quintero', 'ganador', '400', 'mts', 'libres', 'masculino', 'juegosolimpicos', 'pelea', 'boxeo', 'gano', 'colombiano', 'martinez', 'juegosolimpicos', 'jajajajajajjajajajajaajjajajajajaja', 'pecao', 'perrito', '...', 'voy', 'superar', 'pronto', '...', 'estoy', '...', 'cómo', 'maridar', 'comida', 'cocteles', 'según', 'finalistas', 'world', 'class', '2016', 'mejores', 'mixólogos', 'continente', 'americano', 'thebarmx', 'via', 'video', 'aun', 'supero', '...', 'prefiero', 'loco', 'cantando', 'asi', 'tm', 'cantando', 'rap', '...'], ['raspando', 'olla', 'si', 'sucede', 'caracas', '...', 'es', 'sucede', 'venezuela', '...', 'bolívar', 'queda', '...', 'y', 'muertos', 'venezolanos', '?', 'vedad', 'verdad', ',', 'debería', 'salir', 'avila', 'renuncia', 'inmediata', 'maduro', 'plantea', 'unidad', 'evitar', 'destrucción', 'país', 'esperemos', 'anuncios', 'gobierno', ',', 'pueblo', 'tomar', 'acción', ',', 'ya', '.', 'venezolanos', 'mayor', 'pérdida', 'salario', 'real', 'mundo', 'comerciantes', 'pro-chavistas', 'lindo', 'bello', 'tema', '...', 'pero', 'alegres', 'cantado', ',', 'saldrá', 'régimen', 'hambreador', 'corrupto', 'miles', 'de', '…', 'robarlas', 'si', ',', 'caritas', 'robarlas', 'caritas', 'hiperinflación', '=', 'hipercorrupción', 'fiesta', 'nacional', 'van', 'calar', '?', '?', '?', 'sobrevivir', '\"', 'hospital', 'guerra', '\"', 'venezuela', 'cuantos', 'muertos', 'cubanos', 'venezolanos', ',', 'pagar', 'fidel', 'sirvientes', '?', 'venezolano', 'nuevo', 'revolucion', 'bonita', ',', 'despues', '18', 'años', 'gobierno', 'elecciones', 'amazonas', ',', 'realizará', 'venezuela', 'detenidos', ',', 'privados', 'libertad', ',', 'averiguacion', ',', 'etc', '...', 'presos', 'politicos', 'pensar', 'distinto', 'protestar', 'verdad', 'simple', 'cobardía', 'paz', 'sepulcros', ',', 'tener', 'medicinas', 'comida', 'chavistas', 'cisneros', 'destruyendo', 'leones', 'asi', 'logrará', 'dentro', '20', 'años', 'dialogo', '=', '=', '=p', 'endejos', 'cuales', '?', 'ojo', 'carabobo', 'colas', 'comprar', 'gasolina', '?', '?', '?', 'caer', 'comprar', 'productos', 'navideños', ',', 'celebrar', ',', 'negocio', 'chavistas', 'pro-chavistas', ',', 'solidarios', 'país', 'rico', 'miseria', 'extrema', 'venezuela', 'hermanos', 'america', '...', 'indiferencia', '.', 'entendamos', 'gobierno', 'secuaces', 'dicen', 'contrario', 'pueblo', '.', 'cierto', 'si', 'tsj', 'dice', 'maduro', 'venezolano', '...', '?', '?', '?', 'dialogo', 'revocatorio', 'sr', '.', 'presidente', 'leones', 'caracas', ',', 'renuncie', 'seguro', ',', 'arrechera', 'controla', 'tsj', 'termina', 'decir', ',', 'revocatorio', ',', 'tanto', ',', 'seguimos', 'vamos', 'revocatorio', ',', 'si', 'miedo', 'solicitan', 'beneficios', 'migratorios', 'mercosur', 'venezolanos', 'perú', 'torpe', 'despues', '17', 'años', 'gobierno', 'chavista', 'cuerda', 'ladrones', 'fascistas', 'miedo', 'cierto', 'fuerza', 'principal', 'ocupa', 'presidencia', 'cuestión', 'sobrevivencia', 'nosotros', ',', '1ro', '.', 'día', ',', 'otro', '.', '1ro', '.', 'septiembre', 'tiranía', 'gobierno', 'hambreador', 'calles', '1ro', '.', 'septiembre', ',', 'miedo', 'sos', 'venezuela', '...', 'señores', 'oea', ',', 'dialogo', 'propuesto', 'gobierno', 'chavista', 'logro', '17', 'años', 'gobierno', 'chavista', ',', 'manifiéstate', '1ro', '.', 'septiembre', 'miedo', 'logro', 'revolucionario', '17', 'años', 'chavismo', 'fuerza', '¡', 'democrático', '!', '…', '¿', 'qué', 'dirá', 'cne', '?', ':', 'maduro', 'da', '48', 'horas', 'botar', 'funcionarios', 'pidieron', 'revocatorio', '–', 'motivo', '1ro', '.', 'sep', '.', 'demuestra', 'reclamos', 'gobierno', 'hambreador', 'corrupto', '1ro', '.', 'sep', '.', '16', 'miedo', 'hace', 'tiempo', 'sabe', 'libertad', 'mas', 'libertad', 'plena', 'politicos', 'sos', 'venezuela', 'si', 'crisis', 'humanitaria', 'aumentaron', 'hiperinflacion', ':', '...', 'seguiremos', 'indiferencia', '...', 'el', '1ro.sep', '.', 'quedate', 'casa', 'pensando', 'familia', 'futuro', 'gracias', 'sos', 'venezuela', ',', 'si', 'trabajo', 'como', ':', 'hoy', 'dia', ',', '1', '2', 'dias', 'trabajo', 'permite', 'comer', 'menos', 'medicinas', ',', '01-09-', '16', 'bloquean', 'salidas', 'democraticas', ',', 'permiten', 'ayudas', 'humanitarias', ',', 'reales', 'sirven', ',', 'quieren', '?', '?', '?', 'mientras', 'permitan', 'seguir', 'apoyando', 'presidente', 'poder', ',', 'hambre', 'miseria', 'incrementará', 'silencio', 'copmplididad', 'sos', 'venezuela', 'dialogo', 'zapatero', 'leopoldo', 'lópez', 'denuncia', 'abusos', 'sufre', 'prisión', '[', 'video', ']', 'vía', 'mejor', 'dicho', 'expropio', 'hambre', 'falta', 'medicinas', '=', 'revocatorio', '...', 'corrupcion', 'inseguridad', '=', 'revocatorio', 'dado', 'cuenta', 'salario', 'mínimo', ',', 'solo', 'alcanza', 'día', 'alimentación', '?', 'seguimos', 'silencio', 'mujer', 'transfirió', 'dinero', 'error', 'mataron', 'devolvérselo', '–', 'madre', 'chávez', 'reclama', 'maduro', 'muerte', 'hermano', 'chávez', 'sr', '.', 'zapatero', 'dialogo', 'visto', 'cag', '...', 'por', 'revocatorio', 'cierto', 'hambre', 'mas', 'hambre', 'soberania', 'hablaba', '?', '?', '?', 'libertad', 'si', 'momentos', 'pasa', 'venezuela', 'mercosur', ',', 'existiera', 'eterno', ',', 'seguro', 'retira', 'animal', ':', '...', 'el', 'asunto', 'productos', 'marchen', ',', 'correctamente', '...', 'la', 'solución', 'producción', '...', 'producción', '...', 'producción', 'creo', 'debió', 'nombrar', 'vice-presidente', 'generalato', ',', 'sentirse', 'seguro', 'resultado', '17', 'años', 'gobierno', 'chavista', ',', 'mirémonos', 'espejo', 'sonido', 'burro', 'rebuznando', 'vía', '/', 'vamos', 'dialogar', 'venezuela', 'tortura', 'presos', 'políticos', ':', 'oea', 'primero', 'revocatorio', 'acatamiento', 'leyes', 'aprobadas', 'asamblea', 'nacional', ',', 'luego', 'dialogamos', 'valiente', 'el', ',', 'armas', 'espalda', ',', 'asistió', 'a', '.', 'n', '.', 'nadie', 'armas', ',', 'solo', 'micrófono', 'hablar', 'libertad', 'histórico', 'discurso', 'américo', 'martín', '-', 'día', 'independencia', 'venezu', '...', 'vía', 'nicolás', 'maduro', 'llama', 'aumentar', '\"', 'poder', 'militar', '\"', 'venezuela', 'vía', 'c', '...', 's', '...', 'm', 'responsables', 'quiero', 'ser', 'arbol', 'sr', '.', 'rodriguez', 'zapatero', ':', 'si', 'ud', '.', 'negociador', 'conflicto', ',', 'jamás', 'debe', 'vetar', 'partes', ',', 'mas', 'radical', 'sea', '.', 'aprenda', '.', 'cinismo', 'roy', 'chaderton', ':', 'siento', 'seguro', 'washington', 'caracas', 'vía', 'presidente', 'paraguay', 'condena', 'abusos', 'pueblo', 'venezolano', 'pide', 'guardar', 'silencio', 'vía', 'parodia', 'ramos', 'allup', 'volvió', 'viral', 'redes', 'sociales', 'chavistas', '1998', 'pensaron', 'dólar', ',', '17', 'años', 'después', 'gobierno', 'llegaría', 'bs', '.', '436.000', ',', 'oo', 'x', 'dólar', ',', 'comida', 'medicinas', '?', '?', '?', 'didalco', 'bolívar', 'anuncia', 'pedirán', 'tsj', '“', 'abolición', '”', 'asamblea', 'nacional', ',', 'pide', 'revocatorio', '?', '?', '?', 'evidente', '...', 'dialogar', 'militar', 'armado', 'magallanero', 'civil', 'caraquista', 'mismísimo', 'estadio', '?', '?', 'cierto', 'ésa', 'razón', ',', 'ahora', 'supermercados', 'surtidos', 'productos', 'básicos', 'alimentación', ',', '?', '?', '?', '1.998', 'venezuela', 'símbolos', 'patrios', 'bella', '17', 'años', 'después', ',', 'vean', 'tienen', '.', 'miembro', 'ejercito', 'libertador', '?', '?', '?'], ['así', 'mismo', 'es', '...', 'así', 'es', '.', 'río', 'revuelto', '...', 'pura', 'verdad', '!', 'recomendable', '!', 'recomendable', '!', 'reforzar', 'corregir', '.', 'feliz', '2017', 'así', 'mismo', 'es', '!', 'dos', 'frases', 'gustan', ':', '\"', 'cuando', 'toca', ',', 'aunque', 'quites', ',', 'no', ',', 'aunque', 'pongas', '\"', '\"', '¿', 'quieres', 'hacer', 'reír', 'dios', '?', 'cuéntale', 'plan', '\"', 'ladrónquerobaaladrón', '...', 'tendencia', 'actualidad', 'miedo', '...', 'si', 'sabes', 'quién', 'era', '?', 'así', 'ya', '.', 'recurso', 'cuidar', ':', 'tiempo', 'psicología', 'colores', 'cómo', 'calcular', 'presupuesto', 'inicial', 'precisamente', 'punto', 'quiebre', ':', 'sociedad', 'sociedad', '.', 'aguas', 'tremendo', 'avión', '.', 'impresionante', '.', 'encanto', '!', 'definitivamente', 'personaje', 'mas', 'identifico', 'tyriron', ',', 'solo', 'mas', 'alto', 'mas', 'guapo', '.', 'gameofthrones', '10', 'razones', 'renuncian', 'millennials', 'vía', 'nopasoelfindelmundo', 'decía', 'abuela', 'así', 'decían', '...', 'bueno', 'falta', 'hora', '43', 'minutos', '.', 'alguien', 'pase', 'link', 'ver', 'ultimo', 'capitulo', 'sexta', 'temporada', 'game', 'of', 'thrones', '?', 'si', ',', 'podemos', 'permitir', '!', 'solo', 'faltaba', '!', 'fácil', 'práctico', '.', 'montón', 'esto', '!', 'comunicacion', 'extrasensorial', '.', 'viejísimo', '!', 'manchen', '...', 'así', 'mismo', '!', '!', 'o', '...', 'mismo', 'así', '!', '!', 'tómala', 'retómala', '!', '!', 'alguna', 'falla', 'equipos', 'mexicanos', 'telcel', 'panamá', 'bajo', 'operador', 'automático', 'claro', 'directo', 'periscope', ':', 'marquesa', 'ahora', 'directo', 'periscope', ':', 'tarde', 'domingo', 'pátzcuaro', 'michoacán', 'preocupado', 'directo', 'periscope', ':', 'panamá', ',', 'tres', 'días', '.', 'directo', 'periscope', ':', 'cancún', 'mar', 'directo', 'periscope', ':', 'cancún', 'directo', 'periscope', ':', 'cancún', 'méxico', 'directo', 'periscope', ':', 'cancún', 'tantas', 'morelia', 'yanichingan', 'vamos', 'méxico', '!', 'peña', 'puede', 'quedar', 'francia', 'mismo', 'esté', '...', 'efectivamente', '!', '!', '!', 'pues', '\"', 'trabajando', '\"', 'alivio', '...', 'chino', '!', 'sigue', '...', 'endefensadearistegui', '2', 'adiós', 'mvs', 'escucharé', 'jamás', '!', 'adiosmvs', 'felicidadeschiquillos', 'reyesmagos', 'yamecanse', 'meduelesmexico', 'renunciaenriquepenanieto', 'mercado', 'panama', 'competitivo', ',', 'poresoestamosaqui', 'yahoraquienpodradefendernos', 'va', 'chapulincolorado', 'llegará', '?', 'salioversosinesfuerzo', 'epn', 'sabe', 'bien', 'transición', '\"', 'del', 'méxico', 'revolucionario', 'institucional', '\"', 'dijo', ',', 'más', ',', 'leyó', '\"', 'la', 'silla', 'gaviota', '\"', 'niunpesomasdeimpuestos', 'párenle', 'mamen', '!', '!', 'buencafé', 'buendía', 'atrabajar', 'mediasemana', '!', 'buendia', 'buencafé', 'buendia', 'buencafe', 'buenfin', ':)', 'yomuybien', 'tomando', 'foros', 'icave', 'banamex', 'porquería', '!', 'sirve', 'bancanet', 'cajeros', '“', ':', 'madre', 'regresa', 'vida', 'bebé', 'después', 'médicos', 'declararan', 'muerto', 'contentó', 'recibir', 'noticia', '!', 'fuerte', 'abrazo', '!', 'caminosdemichoacan', 'esmichoacan', 'buenaspeliculas', 'buenamusica', ',', 'repetirlas', '!', 'buenaventura', '2013', 'dios', 'bendiga', 'todos', '!', 'felicidades', 'gran', 'labor', 'frente', 'gremio', 'hotelero', 'michoacano', 'esmichoacán', \"i'm\", 'at', 'campamento', 'ica', 'proy', '.', 'hidroelectrico', 'yesca', '(', 'jalisco', ')', 'probando', 'siri', 'siri', 'poliforum', '@', 'ica', 'minería', 'diosayudealosmigrantes', 'búsqueda', 'vida', 'mejor', '!', 'así', 'penas', 'espadas', 'menos', 'comiendo', 'tacoscallejeros', 'proyectohidroelecticolayesca', 'embalse', 'pleno', 'proyectohidroelectricolayesca', 'gracias', 'app', 'ahorrado', 'llamadas', 'datos', '!', 'ahí', 'caemos', 'cucuuuuuuuuuu', '!', '!', '!', '20cosasquehacerantesdemorir', 'pensar', 'va', 'cargar', 'chingada', '.', 'pinche', 'gripa', 'noesdedios', 'lluvia', 'truenos', 'terremotos', 'hoy', 'laeradelhielo', '4', 'pantalla', '4x', 'cinepolis', 'todalatropa', 'jaja', '!', 'chaparro', 'tragón', '!', '!', '!', 'felizviernes', 'gripaloca', 'gracias', 'cánula', 'decía', 'abuela', 'coco', 'contacta', 'nosotros', '!', 'toy', 'listo', '!', 'elecciones', '2012', 'prep', 'aplicación', 'móviles', 'ife', 'bien', 'mensos', '!', '!', 'piden', 'usar', 'lápiz', 'elecciones', '?', 'jajaja', 'dan', 'risa', '!', '!', '!', 'elecciones', '2012', 'primeras', 'elecciones', 'presidenciales', 'mexico', 'redessociales', 'mexicodespertando', 'nuevo', 'auto', 'jallo', 'recomendable', '!', 'aplicación', 'prep', 'iphone', '“', ':', 'concatenación', 'estupideces', 'humor', 'negro', ',', 'sí', ',', 'grandes', 'actuaciones', 'buena', 'música', 'sombrastenebrosas', '”', 'veamos', 'niunniñomas', 'golpeado', 'maltratado', 'michoacán', 'mundo', 'niunniñomas', 'asesinado', '!', 'jajaja', 'bárbaro', 'yo', '!', '!', '!', 'proyecto', 'hidroeléctrico', '\"', 'la', 'yesca', '\"', 'inolvidable', 'cosasquenuncaolvidas', 'gusana', 'tomate', '2012', 'gusana', '!', 'puro', 'chiquiruco', '!', '!', '(', '@', 'hard', 'rock', 'cafe', 'cancun', 'w', '/', '2', 'others', ')', '[', 'pic', ']:', 'mira', 'joaquín', '...', 'siempre', 'respetado', 'respeto', 'adversarios', 'acuerdo', 'conmigo', 'hablocomopeñaentercergrado', 'tampoco', 'quiero', 'ver', 'gente', 'llamándome', 'prole', 'balcon', 'presidencial', 'jajaja', 'riéndose', 'mi', '!', '6', 'años', 'toda', 'vida', '...', 'propongocomoepn', 'llegar', 'presidencia', ',', 'si', 'van', 'golpear', ',', 'peguen', 'cara', '!', 'mariscos', '\"', 'sin', 'nombre', '\"', 'buen', 'lugar', 'marisco', 'frescos', '!', 'buena', 'calidad', '.', 'servicio', 'poquito', 'lento', 'desespe', '...', 'pos', 'atravesó', '...', 'delicia', '!', '(', '@', 'intimo', 'cabrito', ')', '[', 'pic', ']:', 'tomando', 'café', '(', '@', 'monumento', 'revolución', 'w', '/', '5', 'others', ')', '[', 'pic', ']:', 'pera', 'mi', ',', 'hoy', 'adelante', 'puro', 'bla', '!', 'bla', '!', 'bla', '!', '98', '%', 'michoacanos', 'reprueban', 'acción', 'tema', '\"', 'estudiantes', '\"', 'nadie', 'encima', 'ley', '?', 'esperemos', 'pronto', 'nuevo', 'ataque', 'fin', 'enmichoacannopasanada', 'si', 'michoacán', 'gobierno', 'solapa', 'delincuentes', 'podemos', 'esperar', 'ciudadanos', '?', 'lastima', '!', 'cae', '!'], ['gustó', 'video', 'rusia', 'entregará', 'snowden', '\"', 'regalo', '\"', 'trump', '.', 'gustado', 'vídeo', '(', '-', 'villa', 'cariño', '-', 'amor', '(', 'despertar', ')', ')', '.', 'gustó', 'video', 'momentos', 'graciosos', 'junior', 'playboy', '2', '+', 'sorteo', 'spotify', 'netflix', 'gustó', 'video', 'solo', 'pasa', 'chile', '|', 'full', 'edicion', 'junior', 'playboy', 'gustó', 'video', 'mejores', 'apodos', 'fútbol', 'chileno', 'gustó', 'video', 'grandes', 'conferencias', 'prensa', '-', 'parte', '1', 'gustó', 'video', 'conferencias', 'prensa', 'graciosas', 'roja', 'gustó', 'video', 'anecdota', 'amistad', 'momo', '1/2', 'gustó', 'video', 'increíble', 'documento', 'secuestrado', 'cia', 'ovnis', 'gustó', 'video', 'dragon', 'ball', 'super', '|', 'doblaje', 'latino', 'traductora', 'actores', 'gustó', 'video', 'nico', 'peric', 'asado', 'arbitros', 'gustó', 'video', 'cuenta', 'pesa', 'aqui', ',', 'aunque', 'tienes', ',', 'cuenta', 'gustó', 'video', 'epico', 'imitador', 'coscu', 'army', 'gustó', 'video', 'perlas', '/', 'capítulo', '3', '/', 'emprendimiento', 'perla', 'gustó', 'video', '\"', 'ovni', '\"', '.', 'quintay', ',', 'chile', '.', '13', 'enero', '2017', 'gustó', 'video', 'two', 'cylinders', \"ufo's\", 'in', 'chile', '▬', '2', 'ovnis', 'cilíndricos', 'chile', 'gustó', 'video', 'mon', 'laferte', '-', 'qui', '(', 'lyric', 'video', ')', 'gustado', 'vídeo', '(', '-', 'leyendo', 'comentarios', '1', ')', '.', 'gustó', 'video', 'mon', 'laferte', '-', 'si', 'quisieras', 'gustó', 'video', 'mon', 'laferte', '-', 'falta', 'querer', 'gustó', 'video', 'mon', 'laferte', '-', 'amárrame', 'ft', '.', 'juanes', 'gustado', 'vídeo', '(', '-', 'dragon', 'ball', 'super', 'op', '2', '-', 'limit', 'break', 'x', 'survivor', ')', '.', 'gustó', 'video', 'tom', 'jerry', 'pobla', 'gustado', 'vídeo', '(', '-', 'flow', '-', 'innosense', ')', '.', 'gustado', 'vídeo', '(', '-', 'cris', '-', 'nunca', 'pensé', 'llorar', '(', 'primicia', '2017', ')', ')', '.', 'gustó', 'video', 'gustado', 'vídeo', '(', '-', 'tolueno', 'cuico', ')', '.', 'gustado', 'vídeo', '(', '-', 'viral', 'doblao', '6', ')', '.', 'gustado', 'vídeo', '(', '-', 'dragon', 'ball', 'super', 'opening', '2', '-', 'español', 'latino', '-', 'limit', 'gustado', 'vídeo', '(', '-', 'childrenpurposetoursantiago', ')', '.', 'gustó', 'video', 'ritual', 'satánico', 'lady', 'gaga', 'superbowl', '2017', '.', 'gustado', 'vídeo', '(', '-', 'digimon', 'ps4', '!', ')', '.', 'gustó', 'video', 'durarara', '!', '!', 'x2', 'ketsu', 'opening', '\"', 'steppin', \"'\", 'out', '\"', '(', 'español', 'latino', ')', 'gustó', 'video', 'lanza', 'cuico', 'pucón', 'gustó', 'video', 'papi', 'edgaaaarrrr', '!', 'resident', 'evil', '7', 'español', '-', 'goth', 'gustó', 'video', '¿', 'cuanto', '9099', '+', '1', '?', 'broma', 'gustó', 'video', 'volver', 'youtube', 'gustó', 'video', '46', '.', 'mensaje', 'werevertumorro', 'julioprofe', 'gustó', 'video', 'aprende', 'utilizar', 'dildo', 'correctamente', 'gustó', 'video', 'periodista', 'mega', 'manda', 'saludos', '\"', 'elsa', 'porrico', '\"', 'vivo', 'gustado', 'vídeo', '(', '-', 'festival', 'huaso', 'olmué', '|', 'bombo', 'fica', 'rompió', 'patagual', ')', '.', 'gustó', 'video', '「', 'bury', 'singer', '」', '\"', 'complication', '\"', 'durarara', '!', '!', 'op2', '【', 'fandub', 'español', '】', 'full', 'gustado', 'vídeo', '(', '-', 'verdad', 'novia', '!', '!', '50', 'cosas', '|', 'fran', 'gustó', 'video', 'jacojr', 'reaciona', 'nuevo', 'trailer', 'dragon', 'ball', 'super', 'gustó', 'video', 'chile', 'vs', 'ecuador', '(', 'campeonato', 'sudamericano', 'sub', '-', '20', ')', 'gustado', 'vídeo', '(', '-', 'primer', 'directo', '2017', '|', 'epic', 'directo', ')', '.', 'gustó', 'video', 'vs', 'gustó', 'video', 'ego', 'youtube', '|', 'doy', 'teléfono', 'gustó', 'video', 'pokemon', 'sun', '&', 'moon', 'ending', '\"', 'pose', '\"', '(', 'cover', 'español', ')', '|', 'rock', 'gustó', 'video', 'guild', 'wars', '2', '|', 'world', 'boss', 'behemoth', 'recolección', 'gustó', 'video', 'juego', 'novia', 'pasa', 'esto', '!', '!', '100', '%', 'real', 'fake', '1', 'link', 'mega', 'gustó', 'video', 'necesitaba', 'desahogarme', '2', '-', 'ft', '.', 'unlucky', 'day', 'gustó', 'video', 'challenge', '2', ':', 'penales', 'mareados', 'ft', 'dimenacho', '-', 'beno', '-', 'lucas', 'gustó', 'video', 'challenge', '1', ':', 'tiros', 'libres', 'ft', 'dimenacho', '-', 'beno', '-', 'lucas', 'gustó', 'video', 'amd', 'phenom', 'ii', 'x2', '550', 'black', 'edition', 'extremo', '!', '!', '!', '(', 'desbloqueo', 'overclock', ')', 'gustó', 'video', 'donaciones', 'falsas', 'streamers', '|', 'reacciones', '|', 'trolleados', 'gustó', 'video', 'peleas', 'novios', 'ft', '.', 'rogue', 'anastasia', 'gustado', 'vídeo', '(', '-', 'lópez', '-', 'puso', 'ser', ')', '.', 'gustado', 'vídeo', '(', '-', '10', 'razones', 'ziggs', 'nuevo', 'mejor', '\"', 'adc', '\"', ')', '.', 'gustó', 'video', 'regalos', 'reve', 'video', 'meta', 'adc', 'privado', '?', 'gustó', 'video', 'mujer', 'acepta', 'chuparla', 'calle', 'dinero', 'l', 'broma', 'sale', 'mal', 'gustó', 'video', 'china', 'gustado', 'vídeo', '(', '-', 'folagor', 'canta', 'capella', ')', '.', 'gustó', 'video', 'wismichu', '2016', 'gustado', 'vídeo', '(', '-', 'calvin', 'harris', '-', 'pray', 'to', 'god', 'ft', '.', 'haim', ')', '.', 'gustado', 'vídeo', '(', '-', 'kramer', '–', 'pedrito', 'ángel', 'predicciones', 'gustó', 'video', 'duelo', 'países', 'retos', '|', 'kenrovlogs', 'ft', '.', 'chechino', 'gustado', 'vídeo', '(', '-', 'seafret', '-', 'atlantis', '(', 'official', 'video', ')', ')', '.', 'gustó', 'video', 'pokemon', 'sun', '&', 'moon', '-', 'anime', 'opening', '1', '(', 'hd', ')', 'gustó', 'video', '!', 'debi', 'haber', 'hecho', '!', '-', 'aplastar', 'baterias', 'gustó', 'video', 'kramer', '-', 'canción', 'navideña', 'gustado', 'vídeo', '(', '-', 'miniepisodio', '18', 'generaciones', 'pokémon', ':', 'redención', ')', '.', 'gustó', 'video', 'asesino', 'volante', '|', 'experimento', 'social', '-', 'vida', 'desvelado', 'gustó', 'video', 'fandub', 'latino', '-', 'beso', 'ash', 'serena', 'gustado', 'vídeo', '(', '-', 'ley', 'etiquetado', 'nutricional', '|', 'hagamoslobien', '...', 'serio', '!', ')', '.', 'gustó', 'video', 'agresión', 'casi', 'mortal', '|', 'propia', 'trampa', '|', 'temporada', '2013', 'gustó', 'video', 'detrás', 'de', ':', 'adaptación', 'camille', '|', 'campeón', '|', 'league', 'of', 'legends', 'gustó', 'video', 'pokemon', 'sol', 'luna', 'opening', 'piano', '|', 'version', 'sol', 'gustado', 'vídeo', '(', '-', 'kramer', '-', 'última', 'declaración', 'garay', ')', '.', 'gustó', 'video', '¿', 'qué', 'pasa', 'cejas', ',', 'reven', '?', 'gustado', 'vídeo', '(', '-', 'ゆず', 'with', 'you', ')', '.', 'ruido', 'gustado', 'vídeo', '(', '-', 'disco', 'platino', '!', ')', '.', 'gustado', 'vídeo', '(', '-', 'alola', '!', '!', '(', 'cover', 'latino', ')', 'pokemon', 'sun', '&', 'moon', ')', '.', 'gustó', 'video', 'solo', 'suscriptores', '(', 'comenten', 'tarde', ')', 'gustó', 'video', 'lopez', '-', 'hables', 'sufrir', 'gustó', 'video', 'crítica', 'constructiva', 'all', 'stars', 'gustado', 'vídeo', '(', '-', 'can', 'this', 'video', 'hit', '1', 'million', 'likes', '?', ')', '.', 'gustó', 'video', 'enamore', '-', 'schuster', 'gustó', 'video', 'si', 'naruto', 'youtuber', 'gustó', 'video', 'enfado', 'mas', 'bestia', 'canal', 'pasa', 'esto', '...', 'gustó', 'video', 'entrevista', 'mario', 'castañeda', ',', 'doblaje', 'español', 'latino', ',', 'voz', 'black', 'goku', 'gustó', 'video', '¡', 'biba', 'rasa', 'chilena', '!', 'raro', 'aca', 'igual', 'gustado', 'vídeo', '(', '-', 'naruto', 'shippuden', 'openings', '1-20', ')', '.', 'gustó', 'video', 'feminista', 'moderna', 'gustó', 'video', 'man', 'punches', 'kangaroo', 'in', 'the', 'face', 'to', 'rescue', 'his', 'dog', '(', 'original', 'hd', ')', 'gustó', 'video', 'fatal', 'error', 'nsus', '4', ':', 'road', 'to', 'boruto', 'imperdonable', 'gustó', 'video', 'cómo', 'ser', 'infiel'], ['poder', 'dejar', 'problemas', 'casa', ',', 'provoca', 'gozar', '100', 'familia', ',', 'ayudan', 'relajar', 'me', '…', '🛌', 'momento', 'ir', 'dormir', ';', 'mañana', 'disfrutar', 'día', 'descanso', 'familia', '.', 'olviden', 'consagrar', 'sueño', 'descanso', '.', 'buenas', 'noches', '🏈', 'cabe', 'duda', 'q', 'grande', ',', 'momentos', 'd', 'crisis', 'puede', 'resolver', 'favor', ';', 'gran', 'partido', 'y', '…', '🏈', 'parte', 'especial', 'domingo', 'super', 'bowl', ',', 'comida', 'compañía', '.', 'espero', ',', 'ahora', ',', 'triunfo', 'los', '…', 'despues', 'gozar', 'grupo', 'oración', 'familias', 'vivir', 'santa', 'misa', ',', 'casa', 'buenos', 'amigos', 'disf', '…', '🏈', 'iniciando', 'preparativos', 'siempre', 'bien', 'esperado', 'super', 'bowl', ';', 'chef', 'ser', 'especial', '(', 'mmm', '…', 'sal', 'tierra', 'mateo', '5', ',', '13-16', '.', 'v', 'domingo', 'tiempo', 'ordinario', '.', 'ciclo', 'a', '.', 'alegría', 'familia', 'depende', 'aporta', 'cada', 'miembros', ',', 'procurar', 'mejor', 'ambiente', 'todos', '…', '🍽', 'tarde', 'buen', 'comer', 'sobremesa', 'goytia', 'cruz', 'lacocinadeltras', 'ahora', 'dormir', 'mañana', 'domingo', 'd', '…', '⛪', '️', 'excelente', 'mañana', 'familia', ',', 'gran', 'papi', 'juan', 'amigos', 'd', 'primer', 'nivel', 'costa', 'rica', '.', 'ahora', 'instalados', 'en', '…', '🗒', 'terminando', 'reunión', 'consejo', ',', 'extrañó', 'dany', 'anda', 'gira', 'artística', '.', 'cena', 'ligera', 'dormir', 'profundamen', '…', '🎚', 'una', 'perdida', 'q', 'lastima', 'corazón', 'muchos', ';', 'ahora', 'velará', 'mundo', 'cielo', ',', 'placer', 'conocerlo', 'don', '…', 'agradecido', 'invitación', ',', 'mañana', ',', 'compartir', 'jóvenes', 'universitarios', 'líderes', 'en', '…', 'hablando', 'silencios', '.', 'marcos', '6', ',', '14-29', '.', 'iv', 'viernes', '\"', 'y', 'herodes', 'miedo', ',', 'miedo', 'condujo', 'buscar', 'seguri', '…', 'importancia', 'cerrar', 'ciclos', 'observa', 'madurar', 'áreas', 'específicas', ';', 'pendientes', 'distraen', 'princi', '…', 'aferrarse', 'cosas', 'lleva', 'dependencia', ',', 'hay', 'q', 'trabajar', 'desprendernos', 'fácilmente', 'd', 'todo', ',', 'menos', 'amo', '…', 'día', 'complicado', ';', 'dios', 'dio', 'distraerme', 'vivir', 'nostalgia', 'final', 'c', '…', '👍🏼', 'placer', 'conocer', 'rector', 'universidad', 'pontificia', 'méxico', ',', 'padre', 'mario', 'ángel', 'flores', 'ramos', ';', 'gran', 'institu', '…', '📕', 'terminando', 'clase', ',', 'hablar', 'despojo', 'hablar', 'delito', 'practica', 'continuamente', 'es', '…', '📆', '¡', 'ya', 'huele', 'tamal', '!', 'inicia', 'febrero', 'nueva', 'constitución', 'política', 'd', 'cdmx', ',', '\"', 'nuevo', '\"', 'gobierno', 'cd', 'd', 'puebla', '…', 'mirada', 'corazón', 'niño', '.', 'marcos', '6', ',', '1-6', '.', '\"', 'todos', 'honran', 'profeta', ',', 'menos', 'tierra', ',', 'parientes', 'lo', '…', 'importante', 'trabajar', 'día', 'día', 'ser', 'congruente', ',', 'importa', 'cuantas', 'veces', 'caiga', 'señalados', ',', 'final', ',', '…', '📺', 'el', 'día', 'd', 'hoy', 'sale', 'aire', ',', 'increíble', 'q', 'canal', 'contenido', 'positivo', 'atractivo', 'emp', '…', 'basta', 'fe', '.', 'marcos', '5', ',', '21-43', '.', 'iv', 'martes', 'tiempo', 'ordinario', '.', 'ciclo', 'a', '.', '\"', '...', 'preguntó', ':', '“', '¿', 'quién', 'tocado', 'ma', '…', 'perdón', 'alivia', 'interior', 'exterior', 'cada', 'persona', ',', 'siempre', 'surja', 'alma', ',', 'filtros', 'razó', '…', 'además', 'd', 'buscar', 'unión', 'n', 'acto', 'frutos', ',', 'habrá', 'q', 'buscar', 'unión', 'd', 'méxico', 'n', 'conciencia', ',', 'ideología', 'estudio', ',', '…', '🛌', 'vamos', 'preparar', 'clase', 'mañana', 'dormir', ';', 'olviden', 'consagrar', 'sueño', 'descanso', '.', '💍', 'felicidades', 'queridos', 'amigos', 'tan', 'bello', 'gran', 'acontecimiento', '.', 'hecho', 's', '…', '🚘', 'cdmx', 'casa', ';', 'gran', 'fin', 'semana', ',', 'súper', 'charlas', ',', 'súper', 'comidas', 'súper', 'compañía', '.', '¡', 'gracias', 'amigos', '!', '🏞', 'imagen', 'hoy', ':', '\"', 'que', 'rápido', 'pasa', 'tiempo', '...', 'septiembre', ',', 'luego', 'diciembre', 'elecciones', '2018', '\"', '.', '🏡', 'casa', ',', 'café', 'dormir', '.', 'olviden', 'consagrar', 'sueño', 'descanso', '.', '🚘', 'llegando', 'eterna', 'primavera', ';', 'justo', 'necesario', 'pozole', 'blanco', 'calorcito', '.', 'forma', 'tradicional', 'd', '…', 'terminando', 'actividades', 'profesionales', 'semana', ';', 'ahora', ',', 'pisa', 'corre', 'casa', 'después', 'tomar', 'camino', 'eterna', 'primavera', '.', '📕', 'después', 'sabrosa', 'clase', 'dedicada', 'extorsión', ',', 'pegando', 'chamba', 'co', '…', 'confiar', 'grandeza', 'amor', 'dios', '.', 'marcos', '4', ',', '26-34', '.', 'tiempo', 'ordinario', '.', 'sencillez', 'dios', 'gran', 'hermo', '…', 'ser', 'responsables', 'decisiones', 'implica', ',', 'tener', 'claro', 'consecuencias', 'asumirlas', 'mejor', 'manera', 'y', '…', '📕', '¡', 'ni', 'hablar', '!', 'vamos', 'preparar', 'clase', 'dormir', '.', 'olviden', 'consagrar', 'sueño', 'descanso', '.', '🍽', 'excelente', 'velada', 'queridos', 'amigos', 'orellana', 'ruiz', ';', 'gracias', 'taquería', '\"', 'la', 'onda', '\"', 'siempre', 'fin', '…', '🎙', 'gran', 'concierto', ';', 'ahora', 'tradicionales', 'tacos', '\"', 'la', 'onda', '\"', ',', 'ligero', ',', 'si', '…', '🍴', 'gran', 'comida', 'querido', 'socio', ',', 'pisa', 'corre', '💈', 'y', 'ahora', 'instalados', 'muy', '…', '💡', 'si', 'dejamos', 'd', 'mirar', 'vecino', 'exigimos', 'ntro', 'gobierno', 'plan', 'd', 'trabajo', 'enfrentar', '\"', 'crisis', '\"', 'tenemo', '…', 'perfecto', ',', 'ya', 'cancelada', ',', 'aprovecha', 'resolver', 'temas', 'd', 'corrupción', ',', 'tráfico', 'influencias', ',', 'impunidad', ',', 'viole', '…', '👍🏼', 'cabe', 'duda', 'tener', 'mamá', 'tamaño', ',', 'suficiente', 'ser', 'eternamente', 'felices', '.', '(', 'mmm', ')', 'graciasfirusa', '…', '🕋', 'éxito', 'primera', 'reunión', 'trabajo', '\"', 'arena', 'ciudad', 'méxico', '\"', 'esperado', '…', '👍🏼', 'terminando', 'reunión', 'misses', 'mmm', 'i', 'ii', ';', 'paz', 'bendición', 'saber', 'marcha', 'orden', 'pa', '…', 'misma', 'medida', 'midan', 'demás', ',', 'medidos', '.', 'marcos', '4', ',', '21-25', '.', 'iii', 'jueves', 'tiempo', 'ordinario', '.', '…', 'esperanza', 'nutre', 'alma', 'hace', 'vivir', 'positivo', ',', 'pertenecer', 'club', 'optimistas', 'virtud', ',', '…', '🎥', '¡', 'no', 'vale', '!', 'urge', 'temporada', 'ii', 'designated', 'survivor', '.', 'buen', 'cierre', ',', 'altamente', 'recomendable', '.', 'ah', '…', '🎥', 'llegando', 'casa', ';', 'vamos', 'ver', 'últimos', '2', 'capítulos', 'dormir', '.', 'olviden', 'consagrar', 'sueño', '…', '☘', '️', 'llegando', 'irlandes', '\"', 'taller', 'padres', '\"', ',', 'siempre', 'importante', 'aportar', 'nunca', 'vamos', 'preparados', ',', 'ser', 'papas', '.', 'mexicanos', 'lamentamos', 'reprobamos', 'gobierno', 'tenemos', ',', 'lejos', 'ayudarnos', 'hundido', '.', 'méxico', 'corrup', '…', '📺', 'gran', 'programa', 'd', ',', 'con', 'súper', 'invitados', 'conductores.un', 'programa', 'n', 'vivo', 'da', 'pauta', 'transmit', '…', '📺', 'minutos', 'iniciar', ',', '246', '20:00', 'h', '.', '🎂', 'hoy', 'cumpleaños', 'amiga', 'querida', 'hanna', 'roose', ',', 'pásala', 'increíble', 'dios', 'siga', 'ocupando', 'corazón', '.', 'besos', 'y', '…', '📕', 'hoy', 'hablaremos', 'extorsión', 'despojo', 'clase', 'delitos', 'especial', ',', '.', 'chispa', 'misión', '.', 'marcos', '16', ',', '15-18', '.', 'festividad', 'conversión', 'san', 'pablo', '.', '\"', 'vayan', 'mundo', 'pred', '…', 'diferencia', 'tristeza', 'nostalgia', 'q', 'última', 'enaltece', '1', 'realidad', ',', 'un', 'recuerdo', ',', 'un', 'instante', ';', 'sentir', '…', '📙', 'empiezo', 'disfrutar', 'cátedra', 'd', 'negociación', 'política', 'n', 'instituto', 'jp', 'ii', ';', 'fuente', 'aprendizaje', 'cada', 'alumna', '.', '🎙', 'ya', 'n', 'instalaciones', 'd', 'participación', 'n', '2da', '.', 'emisión', '90.5', 'fm', '.', 'esdeley', '\"', 'prisi', '…', 'terminando', 'reunión', 'trabajo', 'rumbo', 'search', ';', 'ahora', 'iniciar', 'diligencias', 'carácter', 'profesiona', '…', 'ideal', 'hace', 'hermanos', '.', 'marcos', '3', ',', '31-35', '.', '\"', '...', 'porque', 'cumple', 'voluntad', 'dios', ',', 'ése', 'hermano', ',', 'h', '…', 'reconocer', 'debilidad', 'personal', 'acrecentar', 'esperanza', ',', 'conciencia', 'seguridad', 'mismo', ';', 'dejar', 'al', '…', 'día', 'largo', 'mucha', 'actividad', 'profesional', ';', 'vamos', 'dormir', 'mañana', 'madrugar', ';', 'olviden', 'consagrar', 'sue', '…', '🚘', 'regresando', 'cdmx', ';', 'carretera', 'puebla', '-', 'méxico', ',', 'uso', 'razón', ',', 'reparación', ',', 'ampliación', ',', 'construcción', ',', 'etc', '.', '👎🏻', 'ultima', 'reunión', 'trabajo', 'cd', 'puebla', ';', 'siempre', 'desánimo', 'ver', 'carencias', 'sistemas', 'penitenciario', ',', 'judicial', 'bancario', '.', 'allá', 'providencia', 'marcos', '3', ',', '22-30', '.', '\"', 'yo', 'aseguro', 'hombres', 'perdonarán', 'pecados', '…', 'buen', 'día', ';', 'importante', 'saber', 'forman', 'parte', 'ti', ',', 'así', ',', 'probable', 'entienda', 'mejor', '…', '🏈', 'si', 'equipo', 'd', 'primera', ',', 'sale', 'jugar', 'si', 'd', 'cuarta', ',', 'mejor', 'pronóstico', 'cae', '.', 'gana', 'a', '…', '🏈', 'ganen', 'partido', ',', '10', 'puntos', ',', '.', 'solounpronostico', '🙏🏻', 'después', 'santa', 'misa', 'grupo', 'oración', 'familias', ';', 'queda', 'oficialmente', 'inaugurado', '\"', 'domingo', 'finales', 'conferencias', '\"', '🏈', '🍴', 'en', 'tradicional', 'desayuno', ',', 'ligero', ',', 'hoy', 'día', 'comida', 'fuerte', 'finales', 'conf', '…', 'buen', 'día', ';', 'templanza', 'tiempo', 'espacio', 'da', 'cada', 'cosa', 'sucede', 'rededor', 'alimenta', 'vida', '.', '👍🏼', '🎥', 'gran', 'recomendación', 'amigo', ',', 'hablar', ',', 'pique', '.', 'olviden', 'consagrar', 'sueño', 'descanso', '.', 'buen', '…', 'fe', 'errata', ':', 'disculpa', 'respetable', ';', 'debí', 'escribir', '¡', 'a', 'ver', 'tal', '!', '\"', 'haber', '\"', '...', 'observación', 'correcta', 'estimada', 'laura', 'garcía', '.', '🎥', 'película', 'firusa', 'dormir', ',', '\"', 'difícil', 'romper', '\"', ',', 'haber', 'tal', '.', '👎🏻', 'fallas', 'logística', \"mmm's\", 'podremos', 'asistir', 'festejo', 'querida', 'amiga', ',', 'vamos', 'extrañar', '.', '🍽', 'excelente', 'comida', 'grandes', 'amigos', ',', 'amados', 'sacerdotes', '.', 'par', 'colados', 'parte', 'montero', 'm', '…', '🎂', 'hoy', 'cumpleaños', 'querida', 'amiga', '¡', 'felicidades', '!', 'mandamos', 'besos', 'abrazos', 'vemos', 'rat', '…', 'cierto', ';', 'mejor', 'rival', 'aquel', 'sube', 'rin', 'pensar', ';', 'saber', 'escoger', 'rechazar', 'b', '…', 'buen', 'día', ';', 'hagamos', 'sábado', 'familiar', 'primera', ',', 'depende', 'pañá', 'mamá', ',', 'tolerancia', ',', 'alegría', 'buena', 'actitud', '.', '👍🏼', '💡', 'mientras', 'analizan', ',', 'critican', ',', 'estudian', 'leen', 'pte', 'd', 'eu', ';', 'ntros', 'poderes', 'ejecutivo', ',', 'legislativo', 'judicial', 'siguen', 's', '…', '📕', 'después', 'dar', 'clase', ';', 'examinamos', 'alumnos', 'especialidad', 'derecho', 'penal', ',', 'siempre', '…', 'buen', 'día', ';', 'si', 'hoy', 'iniciamos', 'x', 'preocuparnos', 'x', 'ntro', 'méxico', 'solo', 'ocupamos', 'país', 'vecino', '.', 'verdadero', 'problem', '…', '🚘', 'rumbo', 'casa', 'terminar', 'jornada', 'día', 'hoy', ';', 'olviden', 'consagrar', 'sueño', 'descanso', '.', 'buenas', 'noches', '🍴', 'llegando', 'sonora', 'grill', 'tener', 'reunión', 'trabajo', 'cena', 'ligera', '.', '👍🏼', '🙏🏻', 'queda', 'formalmente', 'inaugurada', 'preparación', 'search', 'vi', ',', '2,3', ',', '4', '5', 'd', 'marzo', '2017', ';', 'gran', 'emoción', 'volver', 'viv', '…', '💡', 'día', 'q', 'donald', 'trump', 'tome', 'posesión', 'pte', 'd', 'eu', 'méxico', 'entrega', 'chapo', 'guzmán', ',', 'mediante', '\"', 'debid', '…', '📺', 'invitada', 'día', 'hoy', ',', ',', 'lucia', 'legorreta', '.', '…', '📺', 'hoy', 'miércoles', ',', '246', '20:00', 'h', ',', 'acompáñanos', '.', '…', '🇲🇽', 'irónicos', 'comentarios', 'sucedido', 'monterrey', 'políticos', 'méxico', ',', 'socie', '…', '🎚', 'insisto', ',', 'pasó', 'colegio', 'americano', 'monterrey', ',', 'reflejo', 'sucediendo', 'ser', 'huma', '…', '🏞', 'imagen', 'ayer', ',', 'pongo', 'hoy', '...', 'par', 'serie', '.', '👍🏼', 'cristo', 'quiere', 'piedad', 'auténtica', '.', 'marcos', '3', ',', '1-6', '.', '\"', '...', 'le', 'dijo', 'hombre', ':', '“', 'extiende', 'mano', '”', '.', 'extendió', ',', 'man', '…', 'buen', 'día', ';', 'vivir', 'intensidad', 'cada', 'instante', ',', 'olvidar', 'actitud', 'aroma', 'alma', '.', '🎂', 'ir', 'dormir', ',', 'quiero', 'felicitar', 'adorada', 'querida', 'amiga', 'hoy', 'cumpleaños', ';', 'm', '…', '🐶', '\"', 'gigi', '\"', ',', 'bienvenida', 'casa', 'montero', 'moreno', ',', 'nueva', 'integrante', 'traerá', 'muchas', 'historias', 'añadir', '.', '📙', 'excelente', 'grupo', 'cátedra', 'negociación', 'política', ',', 'gran', 'semestre', ';', 'mejor', ',', 'aprender', 'cada', 'ellas', '.', '🎙', 'ya', 'cabina', 'd', 'radio', '90.5', 'fm', ',', 'toda', 'república', 'mexicana', ',', ';', '\"', 'la', 'falacia', 'estado', '…', '📻', 'hoy', 'inicia', 'participación', 'segunda', 'edición', 'radio', ',', '90.5', 'fm', ',', 'toda', 'república', 'mexicana', 'con', '…', '🗒', 'reunión', 'matutina', 'search', 'vi', ',', 'cambios', 'situaciones', 'resolver', '.', 'cerca', 'gran', 'encu', '…'], ['aar', '¿', 'hablan', 'augusto', 'álvarez', 'rodebrecht', '?', 'uy', ',', 'agarrarlo', 'llevar', 'bozal', '!', 'urgente', 'pedido', 'pares', 'palacio', '...', 'esta', 'perdido', '...', 'y', 'sabe', '...', 'vía', 'crean', 'zapatos', 'gps', 'localizar', 'adultos', 'mayores', 'demencia', 'vía', 'dice', 'ipys', 'mermelero', 'cártelmediático', '?', 'siempre', 'existido', 'periodistas', 'mermeleros', ',', 'pruebas', '.', 'odebrecht', 'montesinos', 'prensa', '(', 'ipys', ')', '.', 'van', 'sacar', 'conviene', 'cartelmediático', 'poder', 'cuarta', '.', 'asalariados', 'prensa', '(', 'ipys', ')', 'tocar', 'patrones', '.', 'bueno', 'asista', 'maquinaria', 'odebrecht', 'graña', '&', 'montero', 'debería', 'haber', 'incautado', 'bienes', '.', 'canal', 'n', 'cártelmediático', 'cree', 'corrupto', 'ego', 'colosal', '?', 'odebrecht', 'apoyó', 'ppk', 'segunda', 'vuelta', 'kfh', ',', 'vejete', 'suave', 'coimera', '.', 'imbéciles', '?', 'acaso', 'kfh', 'desempeña', 'cargo', 'público', 'pregunten', 'ella', '?', 'cártelmediático', '?', 'mar', 'mounier', ',', 'desenmascarar', 'completamente', 'malditos', '.', 'depende', 'solo', 'usted', 'neófito', 'ministro', 'interior', 'buen', 'teórico', 'más', '.', '¿', 'quién', 'paga', 'encuesta', '?', '¿', 'el', 'cártelmediático', '?', 'pasen', 'pues', 'caviares', '...', 'encuestas', 'cojudas', 'hacen', ',', 'mezclando', 'política', ',', 'deporte', ',', 'espectáculo', '...', 'no', 'pasen', 'caviares', '...', 'jajaja', '...', 'el', 'dia', 'inocentes', 'pasó', '...', 'no', 'pasen', '...', 'doctor', ',', 'respaldo', 'caviares', 'rojos', 'juez', 'san', 'martín', '.', 'movistar', 'servicio', 'malo', 'internet', ',', 'cambio', 'operador', 'soluciona', 'nada', '.', 'iguales', 'peor', '.', 'cártelmediático', 'carlin', 'hace', 'sino', 'obedecer', 'empleadores', 'hdp', '.', 'caviar', 'san', 'martín', 'manejado', 'así', 'siempre', '.', 'sinvergüenza', '!', 'publícalo', 'temor', 'suriel', '.', '¿', 'y', 'cómo', 'llama', 'ustedes', 'hacen', '?', 'sabido', 'medios', 'c4', 'usted', 'recibido', 'pagos', 'minedu', '.', 'oye', 'franelero', ',', 'perteneces', 'cartelmediatico', 'así', 'escribas', 'ordenado', 'patrones', '.', 'bien', 'hecho', 'gobernabilidad', 'futuro', '.', 'haga', 'caso', 'rojos', 'caviares', 'apocalípticos', '.', 'franelero', ',', 'caviarón', '.', 'ministro', '...', 'conchuda', '!', 'marcha', 'x', 'democracia', '?', 'perder', 'gollerías', 'gobierno', 'conservar', 'empleo', 'hija', 'x', '30', 'mil', 'soles', '?', 'encuesta', '24', 'importancia', '.', 'apristas', 'furgón', 'cola', '.', 'oposición', '.', 'saavedra', 'debe', 'renunciar', 'si', 'hace', 'lleva', 'consigo', 'zavala', ',', 'tipo', 'primera', ',', 'gabinete', '.', 'rabonas', 'gobierno', 'turno', 'ganarse', 'alguito', '.', 'ancentral', 'gestión', 'pésima', '.', 'educación', 'sigue', 'mal', ',', 'corrupción', 'campea', 'dinero', 'invirtió', 'medios', 'comunicación', '.', 'claro', 'debe', 'ser', 'censurado', ',', 'si', 'sangre', 'cara', ',', 'debe', 'renunciar', ',', 'ya', '!', 'si', 'sangre', 'cara', ',', 'debe', 'renunciar', ',', 'ya', '!', 'señor', 'sheput', ',', 'recomiendo', 'traten', 'león', 'thratenberg', 'reemplaze', 'saavedra', '.', 'claro', 'si', ',', 'además', 'cometido', 'delito', 'abuso', 'autoridad', 'previsto', 'primer', 'párrafo', 'artículo', '376', 'código', 'penal', '.', 'franelero', 'tenorio', ',', 've', 'pésimo', 'prestes', 'eso', '.', 'apoyo', 'propuesta', 'karina', ',', 'sigue', 'asi', ':', 'combativa', '.', 'delito', '\"', 'abuso', 'autoridad', '\"', 'previsto', 'primer', 'párrafo', 'artículo', '376', 'código', 'penal', 'delito', 'abuso', 'autoridad', 'previsto', 'primer', 'párrafo', 'artículo', '376', 'código', 'penal', '.', 'oyen', 'rumores', 'ppk', 'nombraría', 'nieto', 'midef', '.', 'cultura', 'dañino', ',', 'rojo', 'haría', 'daño', 'ffaa', '24horasec', 'encuesta', '24', 'no', '.', 'nombramiento', 'debió', 'ser', 'santa', 'mónica', '25', 'años', '.', 'esperemos', 'atacado', 'mediáticamente', 'yeny', 'huillca', '...', 'perdón', ',', 'indira', 'vilcatoma', '...', 'así', 'seguridad', '.', 'vaya', 'quemar', 'palacio', '...', '!', 'atácalo', 'haces', 'poder', 'cuarta', 'di', 'sigue', 'instrucciones', 'kf', '.', '¿', 'por', 'regresas', 'país', '?', '¡', 'colocha', '!', 'tambien', 'problemas', 'caja', 'pensiones', 'militar', 'policial', '.', 'averigüen', '!', 'christianhudtwalker', '¿', 'por', 'acordaste', '12/09', 'captura', 'abimael', 'guzmán', '?', 'caviarón', '!', '!', '!', 'boten', 'entrenador', 'poner', 'puros', 'jugadores', 'desconocidos', 'malos', '.', 'tirando', 'plata', 'gusto', '.', 'sido', 'procesado', 'alan', 'garcia', '?', 'jefe', 'supremo', 'ff.aa', '.', ',', 'debía', 'saber', 'operación', '.', 'autoria', 'mediata', '.', 'imbécil', 'chupamedias', '.', 'humala', 'piedras', 'gordas', 'además', 'mamá', 'votaría', 'cosito', '.', 'tía', 'patricia', '\"', 'acolchonable', '\"', ',', 'sabia', 'tan', 'mal', 'gusto', 'vejete', 'caviar', 'ros', '...', 'error', '.', 'llama', 'ignorancia', 'viene', 'persona', 'preparado', '.', 'huilca', 'lavaron', 'cerebro', 'más', '.', 'cecilia', ',', 'hagas', 'caso', 'aesa', 'prensa', 'periodistas', 'comprados', '.', 'mejor', 'congreso', '.', 'mañana', 'llamo', '.', 'buena', 'patricia', ',', 'además', 'guapa', 'inteligente', 'perspicaz', '.', 'expuesto', 'rpp', ',', 'trataría', 'ley', 'nombre', 'propio', '.', 'cómo', 'hace', '?', 'cuál', 'negocio', '?', 'debía', 'tener', 'conocimiento', 'jefe', 'supremo', 'ffaa', 'policía', 'nacional', '.', 'autoría', 'mediata', '(', '30', 'años', 'mínimo', ')', '.', 'pepe', 'sabemos', 'verdad', 'd', 'prensa', 'basura', '.', 'perder', 'tiempo', 'responder', 'caviares', '.', 'desequilibrada', 'social', '.', 'odia', 'fujimori', 'sabe', 'dónde', 'dirigir', 'odio', 'misma', ',', 'sabe', '.', 'veía', 'convirtiera', 'programa', 'basura', '.', 'necesito', 'guardes', 'secreto', '.', 'canal', '4', 'igual', '.', 'nunca', '!', 'mauriola', ',', 'formas', 'parte', 'programa', '?', 'nadie', 'vé', 'falso', 'vendido', '.', 'ahora', 'nadie', 'mueve', 'panorama', '¿', 'de', 'lujo', '?', 'varios', 'desconocidos', 'funcionarios', '3ra', 'categoria', 'gob', '.', 'humalista', 'nuevo', 'mindef', '.', 'falta', 'respeto', 'merece', 'sanción', 'ciudadanía', 'compre', 'pasquín', '.', 'caretasmedaasco', '.', 'espero', 'preocupe', 'necesidades', 'menos', 'favorecidos', 'lobbies', 'mandatos', 'fmi', 'bm', 'ppk', '.', 'keiko', ',', 'lider', 'apoyamos', 'decisiones', 'tomes', '.', '¡', 'somos', 'verdadera', 'mayoría', 'país', '!', 'rojo', 'cura', 'bambarén', 'dice', 'keiko', 'cristiana', 'debe', 'perdonar', '.', '¿', 'está', 'idiota', '?', '¿', 'acaso', 'necesario', 'q', 'primero', 'ppk', 'pida', 'perdón', '?', 'avelinoguillén', 'creo', ',', 'hipotecado', 'apoyo', 'elección', 'ataques', 'keiko', '.', '¿', 'hombre', '?', '...', 'mmmm', '...', 'no', 'puede', 'ser', 'bruce', '...', '¿', 'quién', 'será', '?', 'veo', 'malo', 'nadineheredia', 'dé', 'instrucciones', 'ff.aa', '.', 'autoridad', 'ollantahumala', '.', 'veo', 'malo', 'mandar', 'desaparecer', 'fasabi', 'entregar', 'agendas', '.', 'terruca', 'cojuda', 'drogada', '?', 'estúpida', 'dedique', 'trabajar', '...', 'claro', 'quedará', ',', 'si', 'impedimento', 'salida', 'dictada', 'juez', '.', 'mejor', 'grilletes', '.', '18:30', 'fluido', 'eléctrico', 'parte', 'san', 'miguel', '.', 'favor', 'si', 'pueden', 'hacer', 'edelnor', 'despierte', 'haga', 'algo', '.', 'ppk', 'sabe', 'si', 'hacerle', 'caso', 'caviar', ',', 'gay', ',', 'terruca', ',', 'lobbista', ',', 'noakeiko', 'mismo', 'alzheimer', '.', 'loca', 'techito', '?', 'anda', 'inflar', 'burros', 'rojete', '!', 'enano', 'subido', 'rápido', 'trago', '.', 'pues', 'chato', ',', 'déjate', 'idioteces', '.', 'cucho', 'leyó', 'ayer', 'resultados', 'actas', 'procesadas', 'dió', 'mayor', 'votos', 'obtenidos', 'keiko', 'ppk', '¿', 'equivocación', 'peor', '?', 'solo', 'república', ',', 'comercio', ',', 'canal', 'n', ',', 'canal', '4', ',', 'rpp', ',', 'directores', 'periodistas', 'mierda', ',', 'todas', 'letras', '.', 'hicieron', 'impedir', 'voto', 'orden', 'inamovilidad', 'innecesaria', '.', 'ver', 'art', '.', '34', 'párrafo', 'final', 'art', '.', '31', 'cpp', '.', 'hicieron', 'momento', '?', 'avisó', 'tiempo', 'hagan', 'valer', 'art', '.', '34', 'último', 'párrafo', 'art', '.', '31', 'cpp', '.', 'pasó', 'policías', 'dejaron', 'votar', '?', 'quién', 'creerle', '?', 'canal', '9', 'cpi', 'pasando', 'balconazo', 'ppk', '.', 'quién', 'cifras', 'reales', '?', 'favor', 'don', 'josé', '.', 'elecciones', '2016', 'humala', 'ordenó', 'inamovilidad', 'pnp', 'impide', 'voto', '250,000', 'policias', '.', 'aparte', 'cuidan', 'locales', '.', 'alguien', 'hará', 'orden', 'inamovilidad', 'dispuesta', 'x', 'humala', 'p', \"'\", 'evitar', 'voto', '250', 'mil', 'policias', '?', 'ver', 'arts', '.', '34', '31', 'cpp', '.', 'va', 'art', '.', '34', 'cpp', '.', 'debe', 'aplicarse', 'art', '.', '31', '\"', 'es', 'nulo', 'punible', 'acto', 'impida', 'ciudadano', 'ejercer', 'derecho', '\"', 'gobierno', 'impide', 'votar', 'policias', 'ejercito', 'dando', 'orden', 'inamovilidad', '.', 'onpe', 'dispensará', '.', 'alguien', 'haga', 'algo', '!', 'art', '.', '34', 'cpc', 'pnp', 'ejercito', 'orden', 'inamovilidad', 'pueden', 'votar', '.', 'dicho', 'van', 'dispensar', 'onpe', '.', 'alguien', 'haga', 'algo', '!', 'pnp', 'ejercito', 'inamovilidad', 'pueden', 'votar', '.', 'dicho', 'van', 'dispensar', 'onpe', '.', 'alguien', 'haga', 'algo', '!', 'va', 'art', '.', '34', 'cpc', '.', 'aplica', 'art', '.', '31', '\"', 'nulo', 'punible', 'acto', 'q', 'limite', 'prohiba', 'ciudadano', 'ejercer', 'derecho', '\"', '.', 'favor', 'cómo', 'vamos', 'naranjas', '.', 'puede', 'decir', 'cuanto', 'menú', 'cada', 'restobar', 'cuál', 'mejor', 'calidad', '?', 'ppk', 'anunció', 'investigará', 'pareja', 'delincuencial', 'caso', 'gobierno', '.', 'montesinos', 'sirve', 'crear', 'patrañas', '.', 'gollerías', 'habérlas', 'dado', 'gobierno', 'humala', '.', '¿', 'a', 'cambio', 'qué', '?', 'marina', 'guerra', 'perú', 'informará', 'conferencia', 'realmente', 'pasó', '?', 'cómo', 'menú', 'hoy', 'josé', '?', 'josé', 'barba', ',', 'hora', 'sale', 'menú', 'hoy', 'día', '?', 'almuerzo', 'cena', '?', 'gracias', '.', 'largo', 'país', 'señora', 'delincuente', 'vaya', 'contarle', 'frejoles', 'dictadorzuelo', 'maduro', 'burro', 'metralleta', '!', 'alan', 'chancho', 'piña', '.', 'ahora', 'charqui', 'piña', '.', 'resta', ',', 'supuesto', '!', 'eterna', 'perdedora', 'salada', '.', 'ahora', 'chancho', 'piña', '(', 'alan', '/', 'lulú', ')', 'sino', 'charqui', 'piña', '(', 'ppk', '/', 'lulú', ')', '...', '!', 'sicariato', 'periodismo', '.', 'vergüenza', 'crear', 'patraña', 'puede', 'probar', '.', 'dónde', 'audio', 'piloto', '?', 'regrese', 'colombia', 'periodistas', 'vendidos', 'sicarios', 'tiemblan', 'pues', 'termina', 'mamadera', '.', 'alguien', 'adelgazará', 'falta', 'mermelada', '?']]\n",
            "\u001b[92m[DEBUG] Total de palabras únicas en vocabulario: 195460\u001b[0m\n",
            "\u001b[92m[DEBUG] Vocabulario por documento: [('afecto', 26), ('abrá', 2), ('don', 399), ('aventajados', 1), ('adelantar', 29), ('duda', 610), ('hacerlo', 498), ('confió', 21), ('frontera', 157), ('historia', 1238)]\u001b[0m\n",
            "Tamaño del corpus de palabras: 2767392\n",
            "Primeros 10 tokens del corpus: ['eln', 'asesina', 'policía', 'meten', 'bomba', 'cadáver', 'matar', 'inocentes', 'y', 'aún']\n"
          ]
        }
      ],
      "source": [
        "tokenizer = TweetTokenizer()\n",
        "# ======================= Parámetros =======================\n",
        "TOP_PALABRAS = 1_000\n",
        "MAX_ITERACIONES = 1_000\n",
        "\n",
        "# ======================= Creación del conteo de palabras por documento =======================\n",
        "\n",
        "tokens_por_documento = []\n",
        "for doc in tr_txt_train:                # baja a minúsculas, quita urls, etc.\n",
        "    toks = tokenizer.tokenize(doc.lower())              # tu TweetTokenizer\n",
        "    tokens_por_documento.append(toks)\n",
        "\n",
        "print(f\"Tamaño del tokens por documento: {len(tokens_por_documento)}\")\n",
        "print(f\"Primeros 3 documentos: {tokens_por_documento[:10]}\")\n",
        "\n",
        "vocabulario_por_documento = {}\n",
        "for doc in tokens_por_documento:\n",
        "    palabras_unicas = set(doc)\n",
        "    for token in palabras_unicas:\n",
        "        vocabulario_por_documento[token] = vocabulario_por_documento.get(token, 0) + 1\n",
        "Logger.debug(f\"Total de palabras únicas en vocabulario: {len(vocabulario_por_documento)}\")\n",
        "Logger.debug(f\"Vocabulario por documento: {list(vocabulario_por_documento.items())[:10]}\")\n",
        "\n",
        "# ======================= Creación del corpus de palabras =======================\n",
        "\n",
        "corpus_de_palabras = []\n",
        "for doc in tr_txt_train:\n",
        "    corpus_de_palabras += tokenizer.tokenize(doc.lower())\n",
        "\n",
        "corpus_de_palabras = [token for token in corpus_de_palabras if re.match(r\"^[a-zA-ZáéíóúÁÉÍÓÚñÑ]+$\", token)]\n",
        "\n",
        "stop_words = stopwords.words('spanish')\n",
        "corpus_de_palabras_clean = [token for token in corpus_de_palabras if token not in stop_words]\n",
        "\n",
        "print(f\"Tamaño del corpus de palabras: {len(corpus_de_palabras)}\")\n",
        "print(f\"Primeros 10 tokens del corpus: {corpus_de_palabras[:10]}\")"
      ]
    },
    {
      "cell_type": "code",
      "execution_count": 6,
      "id": "a29115cf",
      "metadata": {
        "id": "a29115cf"
      },
      "outputs": [
        {
          "name": "stdout",
          "output_type": "stream",
          "text": [
            "Tamaño del vocabulario: 1000 | Primeras 10 palabras: ['si', 'q', 'gracias', 'vía', 'hoy', 'ser', 'día', 'mejor', 'bien', 'así']\n",
            "Tipo de vocabulario: <class 'list'>\n",
            "Tipo de dict_indices: <class 'dict'>\n",
            "Diccionario de índices (primeras 10 entradas): {'si': 0, 'q': 1, 'gracias': 2, 'vía': 3, 'hoy': 4, 'ser': 5, 'día': 6, 'mejor': 7, 'bien': 8, 'así': 9, 'siempre': 10, 'quiero': 11, 'vida': 12, 'ahora': 13, 'solo': 14, 'ver': 15, 'hace': 16, 'mas': 17, 'no': 18, 'tan': 19, 'hacer': 20, 'año': 21, 'años': 22, 'va': 23, 'gente': 24, 'puede': 25, 'feliz': 26, 'días': 27, 'vez': 28, 'd': 29, 'nunca': 30, 'voy': 31, 'bueno': 32, 'mal': 33, 'video': 34, 'mundo': 35, 'jajaja': 36, 'creo': 37, 'mañana': 38, 'amor': 39, 'dios': 40, 'cosas': 41, 'gran': 42, 'nuevo': 43, 'menos': 44, 'dos': 45, 'vamos': 46, 'tiempo': 47, 'buen': 48, 'cada': 49, 'alguien': 50, 'trump': 51, 'casa': 52, 'via': 53, 'y': 54, 'país': 55, 'mismo': 56, 'x': 57, 'cómo': 58, 'puedo': 59, 'verdad': 60, 'tener': 61, 'buena': 62, 'da': 63, 'ir': 64, 'el': 65, 'venezuela': 66, 'igual': 67, 'buenos': 68, 'nadie': 69, 'dice': 70, 'aquí': 71, 'gobierno': 72, 'amo': 73, 'semana': 74, 'jajajaja': 75, 'pues': 76, 'cuenta': 77, 'favor': 78, 'personas': 79, 'después': 80, 'pasa': 81, 'debe': 82, 'muchas': 83, 'toda': 84, 'parece': 85, 'van': 86, 'fin': 87, 'vídeo': 88, 'la': 89, 'noche': 90, 'hola': 91, 'todas': 92, 'trabajo': 93, 'decir': 94, 'hora': 95, 'sólo': 96, 'falta': 97, 'que': 98, 'foto': 99, 'méxico': 100, 'grande': 101, 'quiere': 102, 'es': 103, 'momento': 104, 'mierda': 105, 'nuevos': 106, 'veces': 107, 'partido': 108, 'chile': 109, 'ganas': 110, 'jaja': 111, 'pueblo': 112, 'gusta': 113, 'equipo': 114, 'final': 115, 'parte': 116, 'nueva': 117, 'poder': 118, 'claro': 119, 'saludos': 120, 'colombia': 121, 'espero': 122, 'persona': 123, 'siento': 124, 'más': 125, 'amigos': 126, 'ahí': 127, 'buenas': 128, 'nada': 129, 'peor': 130, 'qué': 131, 'sé': 132, 'a': 133, 'tuitutil': 134, 'todo': 135, 'seguidores': 136, 'lindo': 137, 'gustó': 138, 'hacen': 139, 'corazón': 140, 'lista': 141, 'sabe': 142, 'sigue': 143, 'by': 144, 'rt': 145, 'historia': 146, 'hecho': 147, 'acuerdo': 148, 'presidente': 149, 'mil': 150, 'veo': 151, 'familia': 152, 'tarde': 153, 'mejores': 154, 'saber': 155, 'necesito': 156, 'de': 157, 'tal': 158, 'ayer': 159, 'dia': 160, 'paz': 161, 'en': 162, 'aún': 163, 'paso': 164, 'yo': 165, 'quién': 166, 'xd': 167, 'madrid': 168, 'eso': 169, 'amigo': 170, 'dicen': 171, 'ya': 172, 'pueden': 173, 'caso': 174, 'aunque': 175, 'excelente': 176, 'cara': 177, 'hablar': 178, 'por': 179, 'dormir': 180, 'salir': 181, 'cosa': 182, 'mujer': 183, 'pa': 184, 'mientras': 185, 'viene': 186, 'primera': 187, 'in': 188, 'nacional': 189, 'dar': 190, 'cierto': 191, 'seguir': 192, 'unfollowers': 193, 'asi': 194, 'abrazo': 195, 'queda': 196, 'ustedes': 197, 'casi': 198, 'vos': 199, 'dijo': 200, 'luego': 201, 'pena': 202, 'primer': 203, 'haciendo': 204, 'horas': 205, 'pasado': 206, 'hizo': 207, 'lado': 208, 'hombre': 209, 're': 210, 'ojalá': 211, 'madre': 212, 'cambio': 213, 'gustado': 214, 'pasar': 215, 'entonces': 216, 'sueño': 217, 'perú': 218, 'jajajajaja': 219, 'sido': 220, 'fotos': 221, 'sabes': 222, 'cumpleaños': 223, 'tipo': 224, 'viernes': 225, 'agua': 226, 'lugar': 227, 'navidad': 228, 'mujeres': 229, 'encanta': 230, 'extraño': 231, 'vas': 232, 'c': 233, 'domingo': 234, 'san': 235, 'tema': 236, 'viendo': 237, 'digo': 238, 'deja': 239, 've': 240, 'sino': 241, 'haber': 242, 'único': 243, 'calle': 244, 'acá': 245, 'niños': 246, 'señor': 247, 'vivo': 248, 'quieren': 249, 'programa': 250, 'dan': 251, 'u': 252, 'seguro': 253, 'dejar': 254, 'usted': 255, 'todos': 256, 'sí': 257, 'quieres': 258, 'millones': 259, 'entiendo': 260, 'odio': 261, 'argentina': 262, 'problema': 263, 'esto': 264, 'esperando': 265, 'cualquier': 266, 'mucha': 267, 'tres': 268, 'visto': 269, 'medio': 270, 'reproducción': 271, 'puedes': 272, 'ciudad': 273, 'miedo': 274, 'acabo': 275, 'suerte': 276, 'dinero': 277, 'amiga': 278, 'realidad': 279, 'juego': 280, 'salud': 281, 'fuerte': 282, 'españa': 283, 'importante': 284, 'felicidades': 285, 'canción': 286, 'pensar': 287, 'política': 288, 'vaya': 289, 'algún': 290, 'cabeza': 291, 'luz': 292, 'maduro': 293, 'linda': 294, 'vi': 295, 'razón': 296, 'twitter': 297, 'sale': 298, 'triste': 299, 'real': 300, 'ayuda': 301, 'hermosa': 302, 'noches': 303, 'forma': 304, 'llega': 305, 'vivir': 306, 'facebook': 307, 'ti': 308, 'grandes': 309, 'se': 310, 'habla': 311, 'pero': 312, 'debería': 313, 'música': 314, 'contigo': 315, 'disponible': 316, 'vacaciones': 317, 'llegar': 318, 'trabajar': 319, 'alguna': 320, 'mala': 321, 'podemos': 322, 'justicia': 323, 'vale': 324, 'enero': 325, 'saben': 326, 'servicio': 327, 'the': 328, 'mes': 329, 'nombre': 330, 'sos': 331, 'hermoso': 332, 'puta': 333, 'sigo': 334, 'todavía': 335, 'ley': 336, 'los': 337, 'o': 338, 'meses': 339, 'hijo': 340, 'misma': 341, 'corrupción': 342, 'manera': 343, 'minutos': 344, 'ganar': 345, 'mi': 346, 'fútbol': 347, 'poner': 348, 'leer': 349, 's': 350, 'lunes': 351, 'mira': 352, 'palabras': 353, 'mano': 354, 'm': 355, 'jugar': 356, 'camino': 357, 'volver': 358, 'comer': 359, 'me': 360, 'apoyo': 361, 'fuerza': 362, 'unas': 363, 'punto': 364, 'derecho': 365, 'pasó': 366, 'mamá': 367, 'primero': 368, 'tras': 369, 'último': 370, 'juan': 371, 'ay': 372, 'respeto': 373, 'pobre': 374, 'importa': 375, 'ah': 376, 'gana': 377, 'serio': 378, 'frente': 379, 'dónde': 380, 'mayor': 381, 'bogotá': 382, 'social': 383, 'escuchar': 384, 'siendo': 385, 'nivel': 386, 'queremos': 387, 'idea': 388, 'febrero': 389, 'hago': 390, 'lima': 391, 'dias': 392, 'increíble': 393, 'muerte': 394, 'pronto': 395, 'clase': 396, 'noticias': 397, 'deben': 398, 'culpa': 399, 'conmigo': 400, 'ejemplo': 401, 'tampoco': 402, 'v': 403, 'felicidad': 404, 'educación': 405, 'bonito': 406, 'plata': 407, 'malo': 408, 'demasiado': 409, 'libro': 410, 'demás': 411, 'k': 412, 'sábado': 413, 'calor': 414, 'hambre': 415, 'momentos': 416, 'caracas': 417, 'ojos': 418, 'hijos': 419, 'libre': 420, 'gol': 421, 'centro': 422, 'internet': 423, 'grupo': 424, 'guerra': 425, 'besos': 426, 'vs': 427, 'tv': 428, 'pone': 429, 'haga': 430, 'futuro': 431, 'p': 432, 'vuelta': 433, 'cumple': 434, 'estan': 435, 'sola': 436, 'ven': 437, 'hacia': 438, 'tanta': 439, 'además': 440, 'rico': 441, 'esperar': 442, 'rato': 443, 'hablando': 444, 'santiago': 445, 'sol': 446, 'lo': 447, 'tomar': 448, 'película': 449, 'podría': 450, 'juntos': 451, 'felicitaciones': 452, 'loco': 453, 'atención': 454, 'iba': 455, 'santa': 456, 'encima': 457, 'políticos': 458, 'información': 459, 'español': 460, 'dolor': 461, 'según': 462, 'perder': 463, 'noticia': 464, 'creer': 465, 'fácil': 466, 'mensaje': 467, 'mucho': 468, 'comprar': 469, 'cuerpo': 470, 'necesita': 471, 'sociales': 472, 'aun': 473, 'llama': 474, 'opinión': 475, 'cambiar': 476, 'junto': 477, 'dicho': 478, 'problemas': 479, 'nota': 480, 'fe': 481, 'voz': 482, 'carlos': 483, 'difícil': 484, 'redes': 485, 'temporada': 486, 'justo': 487, 'serie': 488, 'campaña': 489, 'alma': 490, 'respuesta': 491, 'existe': 492, 'violencia': 493, 'l': 494, 'gusto': 495, 'pase': 496, 'duda': 497, 'seguridad': 498, 'padre': 499, 'empezar': 500, 'interesante': 501, 'odebrecht': 502, 'especial': 503, 'pregunta': 504, 'bajo': 505, 'dio': 506, 'llorar': 507, 'allá': 508, 'espera': 509, 'haces': 510, 'niño': 511, 'entrevista': 512, 'posible': 513, 'libertad': 514, 'cuanto': 515, 'manos': 516, 'genial': 517, 'diario': 518, 'super': 519, 'total': 520, 'te': 521, 'medios': 522, 'jueves': 523, 'pasando': 524, 'ojo': 525, 'dentro': 526, 'mexico': 527, 'elecciones': 528, 'dejo': 529, 'ja': 530, 'patria': 531, 'público': 532, 'comida': 533, 'precio': 534, 'toca': 535, 'siguen': 536, 'recuerdo': 537, 'luis': 538, 'plan': 539, 'canal': 540, 'boca': 541, 'tambien': 542, 'muro': 543, 'ex': 544, 'partidos': 545, 'cerca': 546, 'hermano': 547, 'plaza': 548, 'mundial': 549, 'un': 550, 'lucha': 551, 'cielo': 552, 'encuentro': 553, 'lleva': 554, 'retweeted': 555, 'para': 556, 'segundo': 557, 'con': 558, 'cuál': 559, 'alto': 560, 'súper': 561, 'metro': 562, 'venezolanos': 563, 'imposible': 564, 'ud': 565, 'aire': 566, 'conocer': 567, 'viaje': 568, 'pagar': 569, 'voto': 570, 'incendios': 571, 'empresas': 572, 'regalo': 573, 'n': 574, 'como': 575, 'proyecto': 576, 'dije': 577, 'hombres': 578, 'basta': 579, 'radio': 580, 'usa': 581, 'jamás': 582, 'doy': 583, 'cine': 584, 'cree': 585, 'también': 586, 'e': 587, 'frío': 588, 'oportunidad': 589, 'sueños': 590, 'vuelve': 591, 'fiesta': 592, 'congreso': 593, 'sr': 594, 'agregué': 595, 'sistema': 596, 'at': 597, 'directo': 598, 'bendiciones': 599, 'tierra': 600, 'am': 601, 'copa': 602, 'sacar': 603, 'perdón': 604, 'cuándo': 605, 'única': 606, 'querido': 607, 'dando': 608, 'totalmente': 609, 'whatsapp': 610, 'deseo': 611, 'una': 612, 'cae': 613, 'realmente': 614, 'lejos': 615, 'prensa': 616, 'quería': 617, 'ningún': 618, 'acaba': 619, 'asco': 620, 'felices': 621, 'risa': 622, 'algo': 623, 'juega': 624, 'ves': 625, 'seguimos': 626, 'xq': 627, 'vive': 628, 'media': 629, 'llevo': 630, 'jajajajajaja': 631, 'quisiera': 632, 'derechos': 633, 'situación': 634, 'deberían': 635, 'empieza': 636, 't': 637, 'quedo': 638, 'última': 639, 'diga': 640, 'urgente': 641, 'constitución': 642, 'pide': 643, 'éxito': 644, 'perfecto': 645, 'verano': 646, 'sera': 647, 'alcalde': 648, 'segunda': 649, 'pueda': 650, 'pienso': 651, 'perro': 652, 'oficial': 653, 'par': 654, 'vemos': 655, 'ayudar': 656, 'entrar': 657, 'político': 658, 'vieja': 659, 'jugadores': 660, 'pedir': 661, 'general': 662, 'novio': 663, 'listo': 664, 'obvio': 665, 'mar': 666, 'merece': 667, 'campeón': 668, 'internacional': 669, 'error': 670, 'oye': 671, 'eeuu': 672, 'diciembre': 673, 'hay': 674, 'i': 675, 'periodismo': 676, 'pais': 677, 'quiera': 678, 'papá': 679, 'cama': 680, 'anda': 681, 'estudiar': 682, 'cultura': 683, 'escuchando': 684, 'crisis': 685, 'sur': 686, 'hice': 687, 'pensando': 688, 'querer': 689, 'puesto': 690, 'bella': 691, 'onda': 692, 'marcha': 693, 'hicieron': 694, 'club': 695, 'imagen': 696, 'parque': 697, 'llego': 698, 'playa': 699, 'región': 700, 'duele': 701, 'sociedad': 702, 'ojala': 703, 'sentir': 704, 'empresa': 705, 'trabajando': 706, 'hagan': 707, 'hacerlo': 708, 'carrera': 709, 'ministro': 710, 'creen': 711, 'dado': 712, 'quedan': 713, 'viejo': 714, 'sabemos': 715, 'añadido': 716, 'sector': 717, 'artículo': 718, 'peña': 719, 'zona': 720, 'unidos': 721, 'celular': 722, 'recién': 723, 'josé': 724, 'tiempos': 725, 'rápido': 726, 'verte': 727, 'gratis': 728, 'palabra': 729, 'miguel': 730, 'defensa': 731, 'etc': 732, 'darle': 733, 'viva': 734, 'ninguna': 735, 'buscar': 736, 'pablo': 737, 'raro': 738, 'llevar': 739, 'don': 740, 'basura': 741, 'chicos': 742, 'martes': 743, 'loca': 744, 'tú': 745, 'mente': 746, 'calidad': 747, 'cdmx': 748, 'él': 749, 'arriba': 750, 'universidad': 751, 'las': 752, 'dejen': 753, 'carajo': 754, 'varios': 755, 'arte': 756, 'mando': 757, 'tantas': 758, 'premio': 759, 'debemos': 760, 'orden': 761, 'terminar': 762, 'llegó': 763, 'jorge': 764, 'puro': 765, 'sirve': 766, 'compartir': 767, 'busca': 768, 'datos': 769, 'eh': 770, 'américa': 771, 'normal': 772, 'seria': 773, 'aqui': 774, 'muero': 775, 'entender': 776, 'aprender': 777, 'das': 778, 'papa': 779, 'personal': 780, 'brasil': 781, 'jugando': 782, 'pasan': 783, 'concierto': 784, 'canciones': 785, 'mismos': 786, 'morir': 787, 'lluvia': 788, 'puntos': 789, 'necesitamos': 790, 'hija': 791, 'gustaría': 792, 'memoria': 793, 'llegue': 794, 'inicio': 795, 'democracia': 796, 'hablan': 797, 'pedro': 798, 'saludo': 799, 'uso': 800, 'recuerda': 801, 'periscope': 802, 'adelante': 803, 'trata': 804, 'horrible': 805, 'mayoría': 806, 'resto': 807, 'show': 808, 'fuego': 809, 'cuando': 810, 'corruptos': 811, 'despues': 812, 'jugador': 813, 'sonrisa': 814, 'café': 815, 'ellos': 816, 'feo': 817, 'firma': 818, 'temprano': 819, 'pensé': 820, 'lleno': 821, 'amigas': 822, 'dejan': 823, 'baja': 824, 'periodista': 825, 'escribir': 826, 'vargas': 827, 'conoce': 828, 'bonita': 829, 'ok': 830, 'ppk': 831, 'encontrar': 832, 'chica': 833, 'nuevas': 834, 'deje': 835, 'dices': 836, 'dictadura': 837, 'mentira': 838, 'doble': 839, 'niña': 840, 'clases': 841, 'oro': 842, 'querida': 843, 'necesario': 844, 'donald': 845, 'control': 846, 'cargo': 847, 'ella': 848, 'mud': 849, 'hermana': 850, 'santos': 851, 'siga': 852, 'cuatro': 853, 'banda': 854, 'acerca': 855, 'proceso': 856, 'obra': 857, 'derecha': 858, 'mesa': 859, 'pan': 860, 'venezolano': 861, 'pm': 862, 'to': 863, 'maría': 864, 'tardes': 865, 'tanto': 866, 'presente': 867, 'señora': 868, 'alegría': 869, 'experiencia': 870, 'miss': 871, 'diferencia': 872, 'diálogo': 873, 'colegio': 874, 'instagram': 875, 'buscando': 876, 'federer': 877, 'través': 878, 'cualquiera': 879, 'chávez': 880, 'salida': 881, 'web': 882, 'cuánto': 883, 'usar': 884, 'diciendo': 885, 'esperanza': 886, 'norte': 887, 'victoria': 888, 'sea': 889, 'vienen': 890, 'blanco': 891, 'rey': 892, 'fecha': 893, 'tu': 894, 'beso': 895, 'semanas': 896, 'color': 897, 'b': 898, 'app': 899, 'economía': 900, 'tantos': 901, 'trabajadores': 902, 'pesar': 903, 'animales': 904, 'oposición': 905, 'terrible': 906, 'relación': 907, 'largo': 908, 'debo': 909, 'viajar': 910, 'obama': 911, 'atrás': 912, 'conozco': 913, 'ciudadanos': 914, 'señores': 915, 'ganó': 916, 'comienza': 917, 'banco': 918, 'izquierda': 919, 'esperamos': 920, 'universo': 921, 'decisión': 922, 'anoche': 923, 'pelo': 924, 'china': 925, 'disfrutar': 926, 'cuento': 927, 'toma': 928, 'pierde': 929, 'ponen': 930, 'venga': 931, 'negro': 932, 'definitivamente': 933, 'sigan': 934, 'seguirme': 935, 'próximo': 936, 'luna': 937, 'an': 938, 'orgullo': 939, 'cariño': 940, 'duro': 941, 'pareja': 942, 'salió': 943, 'barrio': 944, 'votar': 945, 'muertos': 946, 'h': 947, 'suena': 948, 'frase': 949, 'poquito': 950, 'novia': 951, 'debate': 952, 'dale': 953, 'jajajaj': 954, 'piensa': 955, 'errores': 956, 'muerto': 957, 'quede': 958, 'ahi': 959, 'ideas': 960, 'padres': 961, 'bastante': 962, 'fondo': 963, 'muere': 964, 'pura': 965, 'quedó': 966, 'venta': 967, 'venir': 968, 'países': 969, 'vista': 970, 'capital': 971, 'número': 972, 'love': 973, 'nadal': 974, 'missuniverse': 975, 'humor': 976, 'gustan': 977, 'policía': 978, 'visita': 979, 'jefe': 980, 'cuidado': 981, 'género': 982, 'comentarios': 983, 'pongo': 984, 'edad': 985, 'muestra': 986, 'son': 987, 'libros': 988, 'hacemos': 989, 'cero': 990, 'revolución': 991, 'ft': 992, 'daño': 993, 'recuerdos': 994, 'marca': 995, 'equipos': 996, 'bomberos': 997, 'vea': 998, 'régimen': 999}\n"
          ]
        }
      ],
      "source": [
        "distribucion_frecuencias = nltk.FreqDist(corpus_de_palabras)\n",
        "distribucion_frecuencias_clean = nltk.FreqDist(corpus_de_palabras_clean)\n",
        "\n",
        "vocabulario = [word for word, _ in distribucion_frecuencias.most_common(TOP_PALABRAS)]\n",
        "vocabulario_clean = [word for word, _ in distribucion_frecuencias_clean.most_common(TOP_PALABRAS)]\n",
        "print(f\"Tamaño del vocabulario: {len(vocabulario)} | Primeras 10 palabras: {vocabulario[:10]}\")\n",
        "print(f\"Tipo de vocabulario: {type(vocabulario)}\")\n",
        "\n",
        "dict_indices = {word: i for i, word in enumerate(vocabulario)}\n",
        "dict_indices_clean = {word: i for i, word in enumerate(vocabulario_clean)}\n",
        "print(f\"Tipo de dict_indices: {type(dict_indices)}\")\n",
        "print(f\"Diccionario de índices (primeras 10 entradas): {dict_indices}\")"
      ]
    },
    {
      "cell_type": "code",
      "execution_count": 7,
      "id": "50270c95",
      "metadata": {
        "id": "50270c95"
      },
      "outputs": [],
      "source": [
        "def built_bow_tr_binario(tr_txt, vocabulario, dict_indices):\n",
        "    bow = np.zeros((len(tr_txt), len(vocabulario)), dtype=np.int8)\n",
        "    for cont_doc, tr in enumerate(tr_txt):\n",
        "        if not tr or not isinstance(tr, str):\n",
        "            continue\n",
        "        tokens = tokenizer.tokenize(tr.lower())\n",
        "        for word in tokens:\n",
        "            if word in dict_indices:\n",
        "                bow[cont_doc, dict_indices[word]] = 1\n",
        "    return bow"
      ]
    },
    {
      "cell_type": "code",
      "execution_count": 8,
      "id": "d069ee66",
      "metadata": {
        "colab": {
          "base_uri": "https://localhost:8080/"
        },
        "id": "d069ee66",
        "outputId": "1df153aa-ba0c-4381-9d76-177f5366bd17"
      },
      "outputs": [
        {
          "data": {
            "text/plain": [
              "array([[1, 1, 1, ..., 0, 0, 0],\n",
              "       [1, 0, 1, ..., 0, 0, 0],\n",
              "       [0, 0, 0, ..., 0, 0, 0],\n",
              "       ...,\n",
              "       [1, 1, 1, ..., 0, 0, 0],\n",
              "       [1, 0, 0, ..., 0, 1, 0],\n",
              "       [1, 0, 1, ..., 0, 1, 0]], shape=(4200, 1000), dtype=int8)"
            ]
          },
          "execution_count": 8,
          "metadata": {},
          "output_type": "execute_result"
        }
      ],
      "source": [
        "bow_tr_binario = built_bow_tr_binario(tr_txt_train, vocabulario, dict_indices)\n",
        "bow_tr_binario"
      ]
    },
    {
      "cell_type": "markdown",
      "id": "1236befc",
      "metadata": {
        "id": "1236befc"
      },
      "source": [
        "# Ejercicio 1 | Clasificación de autores usando Bag of Words Binario"
      ]
    },
    {
      "cell_type": "code",
      "execution_count": 9,
      "id": "50983460",
      "metadata": {
        "colab": {
          "base_uri": "https://localhost:8080/"
        },
        "id": "50983460",
        "outputId": "37c44894-c4e9-46a3-c3f0-3852f05e8011"
      },
      "outputs": [
        {
          "name": "stdout",
          "output_type": "stream",
          "text": [
            "[[307 113]\n",
            " [109 311]]\n",
            "              precision    recall  f1-score   support\n",
            "\n",
            "           0       0.74      0.73      0.73       420\n",
            "           1       0.73      0.74      0.74       420\n",
            "\n",
            "    accuracy                           0.74       840\n",
            "   macro avg       0.74      0.74      0.74       840\n",
            "weighted avg       0.74      0.74      0.74       840\n",
            "\n"
          ]
        }
      ],
      "source": [
        "x_train_80, x_val_20, y_train_80, y_val_20 = train_test_split(bow_tr_binario, y_train, test_size=0.2, stratify=y_train, random_state=42)\n",
        "\n",
        "parametros = {'C': [0.01, 0.05, 0.1, 0.5, 1, 2, 5, 10]}\n",
        "svr = svm.LinearSVC(class_weight='balanced', max_iter=MAX_ITERACIONES)\n",
        "\n",
        "grid = GridSearchCV(estimator=svr, param_grid=parametros, n_jobs=4, scoring='f1_macro', cv=5)\n",
        "grid.fit(x_train_80, y_train_80)\n",
        "y_pred = grid.predict(x_val_20)\n",
        "\n",
        "prec_bow_binario, rec_bow_binario, f1_bow_binario, _ = precision_recall_fscore_support(y_val_20, y_pred, average='weighted')\n",
        "\n",
        "print(confusion_matrix(y_val_20, y_pred))\n",
        "print(metrics.classification_report(y_val_20, y_pred))\n"
      ]
    },
    {
      "cell_type": "markdown",
      "id": "f11f123c",
      "metadata": {
        "id": "f11f123c"
      },
      "source": [
        "# Ejercicio 2 | Clasificación de autores usando Bag of Words Frecuencia"
      ]
    },
    {
      "cell_type": "code",
      "execution_count": 10,
      "id": "95bb76e5",
      "metadata": {
        "id": "95bb76e5"
      },
      "outputs": [],
      "source": [
        "def built_bow_tr_frecuencia(tr_txt, vocabulario, dict_indices):\n",
        "    bow = np.zeros((len(tr_txt), len(vocabulario)), dtype=int)\n",
        "    for cont_doc, tr in enumerate(tr_txt):\n",
        "        if not tr or not isinstance(tr, str):\n",
        "            continue\n",
        "        tokens = tokenizer.tokenize(tr.lower())\n",
        "        fdist_doc = nltk.FreqDist(tokens)\n",
        "        for word in fdist_doc:\n",
        "            if word in dict_indices:\n",
        "                bow[cont_doc, dict_indices[word]] = fdist_doc[word]\n",
        "    return bow"
      ]
    },
    {
      "cell_type": "code",
      "execution_count": 11,
      "id": "cc1bf6c0",
      "metadata": {
        "colab": {
          "base_uri": "https://localhost:8080/"
        },
        "id": "cc1bf6c0",
        "outputId": "0dd5e7f6-444f-4cdc-c09f-4a853ba25c65"
      },
      "outputs": [
        {
          "name": "stdout",
          "output_type": "stream",
          "text": [
            "BoW de frecuencia (shape): (4200, 1000)\n",
            "TF-IDF listo (shape): (4200, 1000)\n",
            "Primeras filas TF-IDF:\n",
            "[[0.0664401  0.05019459 0.05017668 0.21092238 0.03054518 0.03004373\n",
            "  0.01653018 0.13992789 0.06491482 0.08281611]\n",
            " [0.06952428 0.         0.1093873  0.         0.05993082 0.03929797\n",
            "  0.12973143 0.         0.         0.06499536]\n",
            " [0.         0.         0.         0.76241538 0.         0.\n",
            "  0.         0.         0.         0.        ]]\n"
          ]
        }
      ],
      "source": [
        "# 1) TF: tu función tal cual\n",
        "bow_train_frecuencia = built_bow_tr_frecuencia(tr_txt_train, vocabulario, dict_indices).astype(float)\n",
        "print(f\"BoW de frecuencia (shape): {bow_train_frecuencia.shape}\")\n",
        "\n",
        "# 2) DF: usando tokens_por_documento que ya generaste\n",
        "N = len(tokens_por_documento)  # número de documentos\n",
        "df = np.zeros(len(dict_indices), dtype=int)\n",
        "\n",
        "for doc in tokens_por_documento:\n",
        "    presentes = set()\n",
        "    for tok in doc:\n",
        "        j = dict_indices.get(tok)\n",
        "        if j is not None:\n",
        "            presentes.add(j)\n",
        "    for j in presentes:\n",
        "        df[j] += 1\n",
        "\n",
        "\n",
        "idf = np.log((1.0 + N) / (1.0 + df)) + 1.0\n",
        "\n",
        "\n",
        "bow_tfidf = bow_train_frecuencia * idf[None, :] \n",
        "\n",
        "\n",
        "normas = np.linalg.norm(bow_tfidf, axis=1, keepdims=True) + 1e-12\n",
        "bow_tfidf = bow_tfidf / normas\n",
        "\n",
        "print(f\"TF-IDF listo (shape): {bow_tfidf.shape}\")\n",
        "print(f\"Primeras filas TF-IDF:\\n{bow_tfidf[:3, :10]}\")"
      ]
    },
    {
      "cell_type": "code",
      "execution_count": null,
      "id": "3b2ed50f",
      "metadata": {
        "colab": {
          "base_uri": "https://localhost:8080/"
        },
        "id": "3b2ed50f",
        "outputId": "23ac5ffd-94ea-4616-9d5c-c31868116a72"
      },
      "outputs": [],
      "source": [
        "x_train_80, x_val_20, y_train_80, y_val_20 = train_test_split(bow_train_frecuencia, y_train, test_size=0.2, stratify=y_train, random_state=42)\n",
        "\n",
        "parametros = {'C': [0.01, 0.05, 0.1, 0.5, 1, 2, 5, 10]}\n",
        "svr = svm.LinearSVC(class_weight='balanced', max_iter=MAX_ITERACIONES)\n",
        "grid = GridSearchCV(estimator=svr, param_grid=parametros, n_jobs=4, scoring='f1_macro', cv=5)\n",
        "grid.fit(x_train_80, y_train_80)\n",
        "y_pred = grid.predict(x_val_20)\n",
        "\n",
        "prec_bow_frecuencia, rec_bow_frecuencia, f1_bow_frecuencia, _ = precision_recall_fscore_support(y_val_20, y_pred, average='macro')\n",
        "\n",
        "print(confusion_matrix(y_val_20, y_pred))\n",
        "print(metrics.classification_report(y_val_20, y_pred))\n"
      ]
    },
    {
      "cell_type": "code",
      "execution_count": null,
      "id": "9220b2fe",
      "metadata": {},
      "outputs": [],
      "source": [
        "x_train_80, x_val_20, y_train_80, y_val_20 = train_test_split(bow_tfidf, y_train, test_size=0.2, stratify=y_train, random_state=42)\n",
        "\n",
        "parametros = {'C': [0.01, 0.05, 0.1, 0.5, 1, 2, 5, 10]}\n",
        "svr = svm.LinearSVC(class_weight='balanced', max_iter=MAX_ITERACIONES)\n",
        "grid = GridSearchCV(estimator=svr, param_grid=parametros, n_jobs=4, scoring='f1_macro', cv=5)\n",
        "grid.fit(x_train_80, y_train_80)\n",
        "y_pred = grid.predict(x_val_20)\n",
        "\n",
        "prec_bow_tfidf, rec_bow_tfidf, f1_bow_tfidf, _ = precision_recall_fscore_support(y_val_20, y_pred, average='macro')\n",
        "\n",
        "print(confusion_matrix(y_val_20, y_pred))\n",
        "print(metrics.classification_report(y_val_20, y_pred))"
      ]
    },
    {
      "cell_type": "markdown",
      "id": "97937ecc",
      "metadata": {
        "id": "97937ecc"
      },
      "source": [
        "# Ejercicio 3 | Clasificación de autores usando Bag of Words Binario y normalización L2"
      ]
    },
    {
      "cell_type": "code",
      "execution_count": null,
      "id": "e46cdf00",
      "metadata": {
        "colab": {
          "base_uri": "https://localhost:8080/"
        },
        "id": "e46cdf00",
        "outputId": "fa09d669-f327-432e-aef2-fbbd644e1f5f"
      },
      "outputs": [],
      "source": [
        "\n",
        "bow_train_L2 = normalize(bow_tr_binario, norm='l2')\n",
        "\n",
        "x_train_80, x_val_20, y_train_80, y_val_20 = train_test_split(bow_train_L2, y_train, test_size=0.2, stratify=y_train)\n",
        "\n",
        "parametros = {'C': [0.01, 0.05, 0.1, 0.5, 1, 2, 5, 10]}\n",
        "svr = svm.LinearSVC(class_weight='balanced', max_iter=MAX_ITERACIONES)\n",
        "\n",
        "grid = GridSearchCV(estimator=svr, param_grid=parametros, n_jobs=4, scoring='f1_macro', cv=5)\n",
        "grid.fit(x_train_80, y_train_80)\n",
        "y_pred = grid.predict(x_val_20)\n",
        "\n",
        "prec_bow_binario_l2, rec_bow_binario_l2, f1_bow_binario_l2, _ = precision_recall_fscore_support(y_val_20, y_pred, average='macro')\n",
        "\n",
        "print(confusion_matrix(y_val_20, y_pred))\n",
        "print(metrics.classification_report(y_val_20, y_pred))"
      ]
    },
    {
      "cell_type": "markdown",
      "id": "ce8877ef",
      "metadata": {
        "id": "ce8877ef"
      },
      "source": [
        "# Ejercicio 4 | Clasificación de autores usando Bag of Words Frecuencia y normalización L2"
      ]
    },
    {
      "cell_type": "code",
      "execution_count": null,
      "id": "d11d050b",
      "metadata": {
        "colab": {
          "base_uri": "https://localhost:8080/"
        },
        "id": "d11d050b",
        "outputId": "2bc79cda-e963-49c7-c51d-31ac05882d31"
      },
      "outputs": [],
      "source": [
        "bow_train_frecuencia_L2 = normalize(bow_train_frecuencia, norm='l2')\n",
        "\n",
        "x_train_80, x_val_20, y_train_80, y_val_20 = train_test_split(bow_train_frecuencia_L2, y_train, test_size=0.2, stratify=y_train, random_state=42)\n",
        "\n",
        "parametros = {'C': [0.01, 0.05, 0.1, 0.5, 1, 2, 5, 10]}\n",
        "svr = svm.LinearSVC(class_weight='balanced', max_iter=MAX_ITERACIONES)\n",
        "grid = GridSearchCV(estimator=svr, param_grid=parametros, n_jobs=4, scoring='f1_macro', cv=5)\n",
        "grid.fit(x_train_80, y_train_80)\n",
        "y_pred = grid.predict(x_val_20)\n",
        "\n",
        "prec_bow_frecuencia_L2, rec_bow_frecuencia_L2, f1_bow_frecuencia_L2, _ = precision_recall_fscore_support(y_val_20, y_pred, average='macro')\n",
        "\n",
        "print(confusion_matrix(y_val_20, y_pred))\n",
        "print(metrics.classification_report(y_val_20, y_pred))"
      ]
    },
    {
      "cell_type": "code",
      "execution_count": null,
      "id": "5G0T6gxcYtjP",
      "metadata": {
        "colab": {
          "base_uri": "https://localhost:8080/"
        },
        "id": "5G0T6gxcYtjP",
        "outputId": "c8b1e073-2070-4303-c62f-b868412a423b"
      },
      "outputs": [],
      "source": [
        "def ganador_metricas( etiquetas, precisiones, f1_scores):\n",
        "    max_prec = max(precisiones)\n",
        "    max_f1 = max(f1_scores)\n",
        "    \n",
        "    if max_prec >= max_f1:\n",
        "        indice_ganador = precisiones.index(max_prec)\n",
        "        return etiquetas[indice_ganador], max_prec\n",
        "    else:\n",
        "        indice_ganador = f1_scores.index(max_f1)\n",
        "        return etiquetas[indice_ganador], max_f1\n",
        "\n",
        "\n",
        "etiquetas = ['BOW Binario', 'BOW Frecuencia', 'BOW TF-IDF', 'BOW Binario + L2', 'BOW Frecuencia + L2' ]\n",
        "\n",
        "\n",
        "\n",
        "# ======================= Tabla comparativa =======================\n",
        "tabla_comparativa = {\n",
        "    'Experimento': etiquetas,\n",
        "    'Accuracy': [prec_bow_binario, prec_bow_frecuencia, prec_bow_tfidf, prec_bow_binario_l2, prec_bow_frecuencia_L2,],\n",
        "    'F1-Score (Macro)': [f1_bow_binario, f1_bow_frecuencia, f1_bow_tfidf, f1_bow_binario_l2, f1_bow_frecuencia_L2,],\n",
        "    'F1-Score (Weighted)': [f1_bow_binario, f1_bow_frecuencia, f1_bow_tfidf, f1_bow_binario_l2, f1_bow_frecuencia_L2,],\n",
        "    'Precisión (Macro)': [prec_bow_binario, prec_bow_frecuencia, prec_bow_tfidf, prec_bow_binario_l2, prec_bow_frecuencia_L2,]\n",
        "}\n",
        "\n",
        "df_comparativo = pl.DataFrame(tabla_comparativa)\n",
        "\n",
        "print(\"TABLA COMPARATIVA DE LOS 4 EJERCICIOS\")\n",
        "print(\"=\" * 50)\n",
        "print(df_comparativo)\n",
        "print(\"=\" * 50)\n",
        "\n",
        "ganador = ganador_metricas(etiquetas, tabla_comparativa['Precisión (Macro)'], tabla_comparativa['F1-Score (Macro)'])\n",
        "print(f\"Gano el modelo basado en: {ganador[0]} con un valor de: {ganador[1]:.4f}\")"
      ]
    },
    {
      "cell_type": "markdown",
      "id": "d13065cc",
      "metadata": {},
      "source": [
        "# VECTORES DE PALABRAS MÁS IMPORTANTES"
      ]
    },
    {
      "cell_type": "code",
      "execution_count": null,
      "id": "4deb6339",
      "metadata": {},
      "outputs": [],
      "source": [
        "bow_train_frecuencia_clean = built_bow_tr_frecuencia(tr_txt_train,vocabulario_clean,dict_indices_clean)\n",
        "print(bow_train_frecuencia_clean)\n",
        "bow_train_frecuencia_clean.shape"
      ]
    },
    {
      "cell_type": "code",
      "execution_count": null,
      "id": "6dd1d027",
      "metadata": {},
      "outputs": [],
      "source": [
        "def compute_dor_profe(TR):\n",
        "    DTR = np.zeros((TR.shape[1], TR.shape[0]), dtype=float)\n",
        "\n",
        "    tam_v = TR.shape[1] # Tamaño del vocabulario TOTAL\n",
        "    \n",
        "    for i,doc in enumerate(TR):\n",
        "        non_zero_positions = np.nonzero(doc)[0] # Esto me dice las dimensiones que no son cero\n",
        "        tamaño_vocabulario = len(non_zero_positions)\n",
        "        for termino in non_zero_positions:\n",
        "            DTR[termino, i] = doc[termino] * np.log(tam_v / tamaño_vocabulario)\n",
        "    return DTR"
      ]
    },
    {
      "cell_type": "code",
      "execution_count": null,
      "id": "b7badaf6",
      "metadata": {},
      "outputs": [],
      "source": [
        "dor = compute_dor_profe(bow_train_frecuencia_clean)\n",
        "\n",
        "dor_normalizado_clean = preprocessing.normalize(dor, norm='l2')\n",
        "\n",
        "print(dor_normalizado_clean.shape)"
      ]
    },
    {
      "cell_type": "code",
      "execution_count": null,
      "id": "c7f2b884",
      "metadata": {},
      "outputs": [],
      "source": [
        "\n",
        "feature_selector = SelectKBest(chi2, k=1000)\n",
        "\n",
        "# Aprende a como hacer selección de las palabras de manera muy interesante en automatico les da la relevancia\n",
        "feature_selector = SelectKBest(chi2, k=1000)\n",
        "feature_selector.fit(bow_train_frecuencia, y_train)\n",
        "best = feature_selector.get_support(indices=True)"
      ]
    },
    {
      "cell_type": "code",
      "execution_count": null,
      "id": "684210de",
      "metadata": {},
      "outputs": [],
      "source": [
        "best"
      ]
    },
    {
      "cell_type": "code",
      "execution_count": null,
      "id": "0900666e",
      "metadata": {},
      "outputs": [],
      "source": [
        "dict_indices_invertido_clean = {valor: key for key, valor in dict_indices_clean.items()}\n",
        "dict_indices_invertido_clean"
      ]
    },
    {
      "cell_type": "code",
      "execution_count": null,
      "id": "c71e5deb",
      "metadata": {},
      "outputs": [],
      "source": [
        "t_words = [dict_indices_invertido_clean[index] for index in best]\n",
        "# dict_indices {\"palabra\": \"dimension_en_bow\",...}\n",
        "matris_objetivo_clean = np.array([dor_normalizado_clean[dict_indices_clean[word]] for word in t_words])\n",
        "matris_objetivo_clean"
      ]
    },
    {
      "cell_type": "code",
      "execution_count": null,
      "id": "203509ce",
      "metadata": {},
      "outputs": [],
      "source": [
        "matris_objetivo_clean.shape"
      ]
    },
    {
      "cell_type": "code",
      "execution_count": null,
      "id": "c56fe020",
      "metadata": {},
      "outputs": [],
      "source": [
        "dor_normalizado_clean.shape"
      ]
    },
    {
      "cell_type": "code",
      "execution_count": null,
      "id": "225f88a6",
      "metadata": {},
      "outputs": [],
      "source": [
        "from sklearn.manifold import TSNE\n",
        "\n",
        "\n",
        "reduce_matrix = TSNE(n_components=2).fit_transform(matris_objetivo_clean)\n",
        "\n",
        "max_x , max_y = np.max(reduce_matrix, axis=0)\n",
        "min_x , min_y = np.min(reduce_matrix, axis=0)\n"
      ]
    },
    {
      "cell_type": "code",
      "execution_count": null,
      "id": "4cf00b20",
      "metadata": {},
      "outputs": [],
      "source": [
        "from sklearn.manifold import TSNE\n",
        "\n",
        "\n",
        "reduce_matrix = TSNE(n_components=2).fit_transform(matris_objetivo_clean)\n",
        "reduce_matrix"
      ]
    },
    {
      "cell_type": "code",
      "execution_count": null,
      "id": "b46ff3d8",
      "metadata": {},
      "outputs": [],
      "source": [
        "from matplotlib import patheffects\n",
        "\n",
        "x, y = reduce_matrix[:, 0], reduce_matrix[:, 1]\n",
        "\n",
        "plt.figure(figsize=(50, 50), dpi=120)\n",
        "plt.xlim(min_x, max_x)\n",
        "plt.ylim(min_y, max_y)\n",
        "plt.scatter(x, y, s=30, color='black')\n",
        "\n",
        "\n",
        "\n",
        "\n",
        "\n",
        "\n",
        "stop_words = stopwords.words('spanish')\n",
        "\n",
        "\n",
        "for i, word in enumerate(t_words):\n",
        "    if word in stop_words:\n",
        "        plt.annotate(\n",
        "            word, \n",
        "            (x[i], y[i]), \n",
        "            fontsize=18, \n",
        "            color='red', \n",
        "            fontweight='bold',\n",
        "            path_effects=[patheffects.withStroke(linewidth=3, foreground=\"white\")]\n",
        "        )\n",
        "    elif word in ['politicos', 'corrupción', 'PRI', 'feliz', \n",
        "              'hermosa', 'chica', 'tu', 'hdp','madre','madres',\n",
        "              '@usuario' ,'hijos', 'pendeja', 'pendejo','mierda', \n",
        "              'loca', 'hijo', 'hija', 'mamá', 'tía']:\n",
        "        plt.annotate(\n",
        "            word, \n",
        "            (x[i], y[i]), \n",
        "            fontsize=22, \n",
        "            color='blue', \n",
        "            fontweight='bold',\n",
        "            path_effects=[patheffects.withStroke(linewidth=3, foreground=\"white\")]\n",
        "        )\n",
        "    else:\n",
        "        plt.annotate(\n",
        "            word, \n",
        "            (x[i], y[i]), \n",
        "            fontsize=16, \n",
        "            color='black',\n",
        "            path_effects=[patheffects.withStroke(linewidth=3, foreground=\"white\")]\n",
        "        )\n",
        "\n",
        "plt.gca().set_facecolor('whitesmoke')\n",
        "plt.show()\n"
      ]
    },
    {
      "cell_type": "code",
      "execution_count": null,
      "id": "9391ebdc",
      "metadata": {},
      "outputs": [],
      "source": [
        "len(t_words)"
      ]
    },
    {
      "cell_type": "code",
      "execution_count": null,
      "id": "a3d287e2",
      "metadata": {},
      "outputs": [],
      "source": [
        "subsetword = ['politicos', 'corrupción', 'PRI', 'feliz', \n",
        "              'hermosa', 'chica', 'tu', 'hdp','madre','madres',\n",
        "              '@usuario' ,'hijos', 'pendeja', 'pendejo','mierda', \n",
        "              'loca', 'hijo', 'hija', 'mamá', 'tía','padre','papá']\n",
        "\n",
        "# t_words Las 1,000 mejores palabras según chi2 ( Algoritmo de selección de características)\n",
        "# reduce_matriz Aquí estan las 1,000 mejores palabras en dos dimensiones\n",
        "\n",
        "subreduce_matriz = []\n",
        "ploted_subsetwords = []\n",
        "\n",
        "\n",
        "for idx, word in enumerate(t_words):\n",
        "    if word in subsetword:\n",
        "        subreduce_matriz.append(reduce_matrix[idx])\n",
        "        ploted_subsetwords.append(word)\n",
        "    print_bar(idx, len(t_words), contexto=\"PROGRESO\")\n",
        "\n",
        "print()\n",
        "Logger.debug(f\"Palabras a graficar: {ploted_subsetwords}\")\n",
        "Logger.debug(f\"Coordenadas: {subreduce_matriz}\")\n",
        "\n",
        "# Convertir a numpy array\n",
        "subreduce_matriz = np.array(subreduce_matriz)\n",
        "\n",
        "\n",
        "# Hacemos la gráfica de flechas\n",
        "fig , ax = plt.subplots(figsize=(15, 15))\n",
        "\n",
        "for word in subreduce_matriz:\n",
        "    ax.arrow(0, 0, word[0], word[1], head_width=0.8, head_length=0.8, fc='red', ec='red', width=0.1e-2)\n",
        "    ax.annotate(\n",
        "        ploted_subsetwords[subreduce_matriz.tolist().index(word.tolist())], \n",
        "        (word[0], word[1]), \n",
        "        fontsize=12, \n",
        "        color='blue', \n",
        "        fontweight='bold',\n",
        "        path_effects=[patheffects.withStroke(linewidth=3, foreground=\"white\")]\n",
        "    )\n",
        "\n",
        "ax.scatter(subreduce_matriz[:,0], subreduce_matriz[:,1])"
      ]
    },
    {
      "cell_type": "markdown",
      "id": "9ec6768c",
      "metadata": {},
      "source": [
        "# NUBE DE PALABRAS"
      ]
    },
    {
      "cell_type": "code",
      "execution_count": null,
      "id": "e9aacb99",
      "metadata": {},
      "outputs": [],
      "source": [
        "\n",
        "# Chi2\n",
        "feature_selector = SelectKBest(chi2, k=1000)\n",
        "feature_selector.fit(bow_train_frecuencia_clean, y_train) # EL y_train son los paises \n",
        "\n",
        "\n",
        "dict_indices_invertido_clean = {valor: key for key, valor in dict_indices_clean.items()}\n",
        "Logger.debug(f\" Diccionario invertido de índices : {dict_indices_invertido_clean}\")\n",
        "\n",
        "# Extraer las palabras seleccionadas\n",
        "palabras_mejores_indices = feature_selector.get_support(indices=True)\n",
        "palabras = [dict_indices_invertido_clean[indice] for indice in palabras_mejores_indices]\n",
        "\n",
        "\n",
        "# Extraer los scores\n",
        "chi2_scores = feature_selector.scores_\n",
        "best_scores = chi2_scores[palabras_mejores_indices] # type: ignore\n",
        "Logger.debug(f\" Puntajes Chi2 de las mejores palabras: {best_scores}\")\n",
        "\n",
        "\n",
        "# Distribución de k mejores palabras\n",
        "distribucion_k_mejores_tweets = {palabra: score for palabra, score in zip(palabras, best_scores)} # type: ignore\n",
        "mejores_50 = dict(sorted(distribucion_k_mejores_tweets.items(), key=lambda item: item[1], reverse=True)[:500])\n",
        "Logger.debug(f\"Frecuencia de palabras en tweets: {mejores_50}\")\n",
        "\n",
        "\n",
        "# Generar y mostrar la nube de palabras\n",
        "wordcloud = WordCloud(width=800, height=400, background_color='black').generate_from_frequencies(mejores_50)\n",
        "\n",
        "# Mostrar la nube de palabras\n",
        "plt.figure(figsize=(10, 5))\n",
        "plt.imshow(wordcloud, interpolation='bilinear')\n",
        "plt.axis('off')\n",
        "plt.show()\n"
      ]
    },
    {
      "cell_type": "code",
      "execution_count": null,
      "id": "cb42a07e",
      "metadata": {},
      "outputs": [],
      "source": [
        "# ======================= TCOR (Lavelli) con misma interfaz de uso =======================\n",
        "from collections import Counter\n",
        "from scipy import sparse\n",
        "import numpy as np\n",
        "from sklearn.preprocessing import normalize as sk_normalize\n",
        "\n",
        "def compute_tcor_profe(tokens_por_documento, dict_indices, min_pair_count=1):\n",
        "    \"\"\"\n",
        "    Construye TCOR según Lavelli:\n",
        "      w_{k,j} = (1 + log #(k,j)) * log(|T| / T_k)\n",
        "    Co-ocurrencia por DOCUMENTO (pares únicos por doc). Devuelve CSR (|V| x |V|).\n",
        "    \"\"\"\n",
        "    V = len(dict_indices)\n",
        "    pair_counts = Counter()\n",
        "    vecinos = [set() for _ in range(V)]\n",
        "\n",
        "    # 1) Contar co-ocurrencias por documento (sin duplicar dentro del doc)\n",
        "    for toks in tokens_por_documento:\n",
        "        idxs = [dict_indices[t] for t in toks if t in dict_indices]\n",
        "        if not idxs:\n",
        "            continue\n",
        "        uniq = sorted(set(idxs))\n",
        "        for a in range(len(uniq)):\n",
        "            i = uniq[a]\n",
        "            for b in range(a+1, len(uniq)):\n",
        "                j = uniq[b]\n",
        "                pair_counts[(i, j)] += 1\n",
        "                vecinos[i].add(j); vecinos[j].add(i)\n",
        "\n",
        "    if not pair_counts:\n",
        "        raise ValueError(\"No se encontraron co-ocurrencias con el vocabulario dado.\")\n",
        "\n",
        "    # 2) Matriz simétrica dispersa de conteos\n",
        "    rows, cols, data = [], [], []\n",
        "    for (i, j), c in pair_counts.items():\n",
        "        if c >= min_pair_count:\n",
        "            rows += [i, j]; cols += [j, i]; data += [c, c]\n",
        "    C = sparse.coo_matrix((data, (rows, cols)), shape=(V, V)).tocsr()\n",
        "\n",
        "    # 3) tff(i,j) = 1 + log(count)\n",
        "    C.data = 1.0 + np.log(C.data)\n",
        "\n",
        "    # 4) Escalado por fila con log(|T| / T_k), T_k = #vecinos únicos de k\n",
        "    Tk = np.array([max(1, len(S)) for S in vecinos], dtype=float)\n",
        "    s_k = np.log((V) / Tk)                 # |T| = V\n",
        "    S = sparse.diags(s_k, format=\"csr\")\n",
        "    TCOR = S @ C\n",
        "\n",
        "    # 5) Limpieza\n",
        "    TCOR.setdiag(0)\n",
        "    TCOR.eliminate_zeros()\n",
        "    return TCOR"
      ]
    },
    {
      "cell_type": "code",
      "execution_count": null,
      "id": "5102db1f",
      "metadata": {},
      "outputs": [],
      "source": [
        "# Antes tenías:\n",
        "# dor = compute_dor_profe(bow_train_frecuencia_clean)\n",
        "# dor_normalizado_clean = preprocessing.normalize(dor, norm='l2')\n",
        "\n",
        "# Ahora:\n",
        "tcor = compute_tcor_profe(tokens_por_documento, dict_indices_clean, min_pair_count=1)\n",
        "tcor_normalizado_clean = preprocessing.normalize(tcor, norm='l2')  # término×término, L2 por fila\n",
        "\n",
        "print(tcor_normalizado_clean.shape)"
      ]
    },
    {
      "cell_type": "code",
      "execution_count": null,
      "id": "10d984b9",
      "metadata": {},
      "outputs": [],
      "source": [
        "feature_selector = SelectKBest(chi2, k=1000)\n",
        "feature_selector.fit(bow_tfidf, y_train)  # o bow_train_frecuencia, como prefieras\n",
        "best = feature_selector.get_support(indices=True)\n",
        "\n",
        "dict_indices_invertido_clean = {v:k for k,v in dict_indices_clean.items()}\n",
        "t_words = [dict_indices_invertido_clean[idx] for idx in best]"
      ]
    },
    {
      "cell_type": "code",
      "execution_count": null,
      "id": "4ec5fa7c",
      "metadata": {},
      "outputs": [],
      "source": [
        "# Índices de las palabras seleccionadas en el vocab limpio\n",
        "idx_words = [dict_indices_clean[w] for w in t_words]\n",
        "\n",
        "# Igual que con DOR: toma las filas de esas palabras\n",
        "# (opción A — filas contra TODO el vocab; puede ser grande si |V| es grande)\n",
        "# matris_objetivo_clean = tcor_normalizado_clean[idx_words, :].toarray()\n",
        "\n",
        "# Mejor para estabilidad/tiempo: filas y columnas en las mismas 1000 palabras (1000x1000)\n",
        "tcor_1k = tcor_normalizado_clean[idx_words][:, idx_words].toarray()\n",
        "matris_objetivo_clean = tcor_1k"
      ]
    },
    {
      "cell_type": "code",
      "execution_count": null,
      "id": "c937a366",
      "metadata": {},
      "outputs": [],
      "source": [
        "from sklearn.manifold import TSNE\n",
        "\n",
        "reduce_matrix = TSNE(n_components=2, init=\"pca\", random_state=42, perplexity=30, learning_rate=\"auto\", max_iter=1000)\\\n",
        "                .fit_transform(matris_objetivo_clean)\n",
        "\n",
        "max_x, max_y = np.max(reduce_matrix, axis=0)\n",
        "min_x, min_y = np.min(reduce_matrix, axis=0)\n",
        "\n",
        "# Tu misma rutina de anotado\n",
        "from matplotlib import patheffects\n",
        "x, y = reduce_matrix[:,0], reduce_matrix[:,1]\n",
        "\n",
        "plt.figure(figsize=(50,50), dpi=120)\n",
        "plt.xlim(min_x, max_x); plt.ylim(min_y, max_y)\n",
        "plt.scatter(x, y, s=30, color='black')\n",
        "\n",
        "stop_words_es = stopwords.words('spanish')\n",
        "for i, word in enumerate(t_words):\n",
        "    if word in stop_words_es:\n",
        "        plt.annotate(word, (x[i],y[i]), fontsize=18, color='red', fontweight='bold',\n",
        "                     path_effects=[patheffects.withStroke(linewidth=3, foreground=\"white\")])\n",
        "    elif word in ['politicos','corrupción','PRI','feliz','hermosa','chica','tu','hdp','madre','madres',\n",
        "                  '@usuario','hijos','pendeja','pendejo','mierda','loca','hijo','hija','mamá','tía']:\n",
        "        plt.annotate(word, (x[i],y[i]), fontsize=22, color='blue', fontweight='bold',\n",
        "                     path_effects=[patheffects.withStroke(linewidth=3, foreground=\"white\")])\n",
        "    else:\n",
        "        plt.annotate(word, (x[i],y[i]), fontsize=16, color='black',\n",
        "                     path_effects=[patheffects.withStroke(linewidth=3, foreground=\"white\")])\n",
        "\n",
        "plt.gca().set_facecolor('whitesmoke')\n",
        "plt.show()"
      ]
    }
  ],
  "metadata": {
    "colab": {
      "provenance": []
    },
    "kernelspec": {
      "display_name": "semestre-v",
      "language": "python",
      "name": "python3"
    },
    "language_info": {
      "codemirror_mode": {
        "name": "ipython",
        "version": 3
      },
      "file_extension": ".py",
      "mimetype": "text/x-python",
      "name": "python",
      "nbconvert_exporter": "python",
      "pygments_lexer": "ipython3",
      "version": "3.12.9"
    }
  },
  "nbformat": 4,
  "nbformat_minor": 5
}
